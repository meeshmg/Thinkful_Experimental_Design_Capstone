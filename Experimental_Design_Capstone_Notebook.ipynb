{
  "nbformat": 4,
  "nbformat_minor": 0,
  "metadata": {
    "colab": {
      "name": "Experimental_Design_Capstone_Notebook.ipynb",
      "provenance": [],
      "collapsed_sections": []
    },
    "kernelspec": {
      "name": "python3",
      "display_name": "Python 3"
    }
  },
  "cells": [
    {
      "cell_type": "markdown",
      "metadata": {
        "id": "THjbNGD3rCdy"
      },
      "source": [
        "# Introduction"
      ]
    },
    {
      "cell_type": "markdown",
      "metadata": {
        "id": "F38AKrHRrGMW"
      },
      "source": [
        "## Research Proposal"
      ]
    },
    {
      "cell_type": "markdown",
      "metadata": {
        "id": "yKx5eVm0rIwG"
      },
      "source": [
        "Political opinions and leanings of different Americans can be shaped by a multitude of different factors, both visible and psychological, of which many may seem intangible and immeasurable. Income and age are two of the most easily measured and concrete variables that could potentially inform an American’s political leanings and more subtle opinions. \n",
        "\n",
        "When it comes to generalizing political leanings, one of the most popular dinner party sayings is often attributed to Winston Churchill: “If you are not a liberal when you are young, you have no heart, and if you are not a conservative when you are old, you have no brain.” Similarly, income has been explored by multiple entities throughout the past few years (The Atlantic, Forbes, NPR, Pew Research Center) on how income affects political leanings. \n"
      ]
    },
    {
      "cell_type": "markdown",
      "metadata": {
        "id": "x77n0nUCruIz"
      },
      "source": [
        "### Who Might Use This Data"
      ]
    },
    {
      "cell_type": "markdown",
      "metadata": {
        "id": "4C_lZJ8CrxQd"
      },
      "source": [
        "This analysis of data should be used by political advocacy groups, their funding departments, campaign managers, and social media marketing managers and other relevant personnel. These entities can consider this analysis as a piece of data-informed evidence on how to conduct their campaigns, which demographics to target and how, and which issues to address and speak to, based on how this survey sample of Americans leans towards different opinions and political self-identifications based on their age and income."
      ]
    },
    {
      "cell_type": "markdown",
      "metadata": {
        "id": "fY_MLwsTrnyO"
      },
      "source": [
        "### The Data"
      ]
    },
    {
      "cell_type": "markdown",
      "metadata": {
        "id": "vPyT_lH8r5x-"
      },
      "source": [
        "This particular data set is just one month of data, from October 2017, of a survey series conducted monthly, called “The Pulse of the Nation”, by an entity called “Cards Against Humanity Saves America”. If this sounds familiar, it’s because “Cards Against Humanity” is the increasingly popular risque card game played by many Americans, which touches on subjects that many Americans think about but wouldn’t dare to address publicly. \n",
        "\n",
        "Their survey each month includes questions along the same vein. Even their own website, where much of the data is compiled and analyzed, calls to the unorthodox questions of social scientists and data analysts by saying: “Are you a social scientist or academic who studies public opinion? Want to ask Americans something that no funding agency or internal review board would approve in a million years? Maybe we can help!” This data is special because it asks unorthodox questions, in addition to more normal questions, such as “Have you ever eaten a kale salad?” and more, that could in time lead to interesting connections between political affiliations and cultural trends, which could help inform political activist groups how to connect these demographics in an authentic way that is deeper than just political affiliation, but instead by cultural trends and lifestyles. \n",
        "\n",
        "This survey series received funding for a year, brom September 2017 through August 2018, during a US presidential term that could be described as volatile at best. The dataset on the popular website “Kaggle”  can be found at the following link: \n",
        "\n",
        "https://www.kaggle.com/cardsagainsthumanity/pulse-of-the-nation?select=201711-CAH_PulseOfTheNation.csv \n"
      ]
    },
    {
      "cell_type": "markdown",
      "metadata": {
        "id": "BgytFPOJrbrl"
      },
      "source": [
        "### Research Questions and Hypotheses"
      ]
    },
    {
      "cell_type": "markdown",
      "metadata": {
        "id": "1q4YludFr3ix"
      },
      "source": [
        "The big question here we are trying to answer is: how does income and age affect opinions and political leanings? While this big question can (and should) be explored through data as widely as possible, the first step is through this one data set with the following questions: \n",
        "\n",
        "“How does income level and age affect…”\n",
        "\n",
        "1.   Whether or not one mostly agrees or mostly disagrees with the beliefs of white nationalists?\n",
        "2.   Whether or not one believes that government policies should help those who are poor and struggling in America?\n",
        "3.   Whether or not one believes that most white people in America are racist?\n",
        "4.   Whether or not one approves or disapproves of how Donald Trump is handling his job as president?\n",
        "5.   Whether or not one is more likely to identify as a republican, democrat, or independent? \n",
        "6.   Whether or not one has ever eaten a kale salad, if only for comedic relief. \n",
        "\n",
        "**Hypotheses**\n",
        "\n",
        "In each of these cases, the null hypotheses are that there is no difference between the general income level and age for these differences in opinion or beliefs. \n",
        "\n",
        "**H0:** \t*There is no difference between the distribution of income level and/ or age for the opinion/belief in question*\n",
        "\n",
        "**Ha:**\t*There is a difference between the distribution of income level and/or age for the opinion/belief in question. *\n"
      ]
    },
    {
      "cell_type": "markdown",
      "metadata": {
        "id": "Oy0vLJS5tDHC"
      },
      "source": [
        "### Methods of Analysis"
      ]
    },
    {
      "cell_type": "markdown",
      "metadata": {
        "id": "ofBUxAGutFQB"
      },
      "source": [
        "The null hypothesis will either be rejected or accepted for each question, by examining the distribution visually, testing for normality with a Shapiro-Wilks test if it is not clear after visual examination, and using whatever appropriate statistical testing methods for independent samples based on either normal or non-normal distributions to decide whether the distributions see any differences when divided by these measures. \n",
        "\n",
        "Often times we will be testing for differences between more than two independent groups, for which we will use a the One-Way ANOVA test and subsequently Tukey’s Honest Significant Differences Test if the data is distributed normally, and using a median test and a Kruskal-Willis test of the data is not distributed normally. "
      ]
    },
    {
      "cell_type": "markdown",
      "metadata": {
        "id": "BbAMVqRvtTWI"
      },
      "source": [
        "# Acquiring and Cleaning the Data\n"
      ]
    },
    {
      "cell_type": "code",
      "metadata": {
        "id": "Wz_o0KB32O6U"
      },
      "source": [
        "import pandas as pd\n",
        "%matplotlib inline\n",
        "import numpy as np\n",
        "import matplotlib.pyplot as plt\n",
        "from scipy import stats\n",
        "import seaborn as sns \n",
        "sns.set()"
      ],
      "execution_count": null,
      "outputs": []
    },
    {
      "cell_type": "code",
      "metadata": {
        "id": "l5bhhcRu-J8n"
      },
      "source": [
        "from google.colab import files"
      ],
      "execution_count": null,
      "outputs": []
    },
    {
      "cell_type": "code",
      "metadata": {
        "id": "8YWDGRMpN8v-"
      },
      "source": [
        "url = 'https://raw.githubusercontent.com/meeshmg/ThinkfulCapstone1/main/201710-CAH_PulseOfTheNation.csv'\n",
        "pulse_data = pd.read_csv(url)"
      ],
      "execution_count": null,
      "outputs": []
    },
    {
      "cell_type": "code",
      "metadata": {
        "id": "USNz-w9X2jgf",
        "colab": {
          "base_uri": "https://localhost:8080/",
          "height": 564
        },
        "outputId": "c786b110-7cc7-4607-b177-beb0532acfd1"
      },
      "source": [
        "# Taking a first look at the data\n",
        "\n",
        "pulse_data.head()"
      ],
      "execution_count": null,
      "outputs": [
        {
          "output_type": "execute_result",
          "data": {
            "text/html": [
              "<div>\n",
              "<style scoped>\n",
              "    .dataframe tbody tr th:only-of-type {\n",
              "        vertical-align: middle;\n",
              "    }\n",
              "\n",
              "    .dataframe tbody tr th {\n",
              "        vertical-align: top;\n",
              "    }\n",
              "\n",
              "    .dataframe thead th {\n",
              "        text-align: right;\n",
              "    }\n",
              "</style>\n",
              "<table border=\"1\" class=\"dataframe\">\n",
              "  <thead>\n",
              "    <tr style=\"text-align: right;\">\n",
              "      <th></th>\n",
              "      <th>Income</th>\n",
              "      <th>Gender</th>\n",
              "      <th>Age</th>\n",
              "      <th>Age Range</th>\n",
              "      <th>Political Affiliation</th>\n",
              "      <th>Do you approve or disapprove of how Donald Trump is handling his job as president?</th>\n",
              "      <th>What is your highest level of education?</th>\n",
              "      <th>Q6OTH1</th>\n",
              "      <th>What is your race?</th>\n",
              "      <th>Q5OTH1</th>\n",
              "      <th>From what you have heard or seen, do you mostly agree or mostly disagree with the beliefs of White Nationalists?</th>\n",
              "      <th>If you had to guess, what percentage of Republicans would say that they mostly agree with the beliefs of White Nationalists?</th>\n",
              "      <th>q8x</th>\n",
              "      <th>Would you say that you love America?</th>\n",
              "      <th>If you had to guess, what percentage of Democrats would say that they love America?</th>\n",
              "      <th>q10x</th>\n",
              "      <th>Do you think that government policies should help those who are poor and struggling in America?</th>\n",
              "      <th>If you had to guess, what percentage of Republicans would say yes to that question?</th>\n",
              "      <th>Do you think that most white people in America are racist?</th>\n",
              "      <th>If you had to guess, what percentage of Democrats would say yes to that question?</th>\n",
              "      <th>Have you lost any friendships or other relationships as a result of the 2016 presidential election?</th>\n",
              "      <th>Do you think it is likely or unlikely that there will be a Civil War in the United States within the next decade?</th>\n",
              "      <th>Have you ever gone hunting?</th>\n",
              "      <th>Have you ever eaten a kale salad?</th>\n",
              "      <th>If Dwayne \"The Rock\" Johnson ran for president as a candidate for your political party, would you vote for him?</th>\n",
              "      <th>Who would you prefer as president of the United States, Darth Vader or Donald Trump?</th>\n",
              "    </tr>\n",
              "  </thead>\n",
              "  <tbody>\n",
              "    <tr>\n",
              "      <th>0</th>\n",
              "      <td>192000.0</td>\n",
              "      <td>Female</td>\n",
              "      <td>35</td>\n",
              "      <td>35-44</td>\n",
              "      <td>Strong Republican</td>\n",
              "      <td>DK/REF</td>\n",
              "      <td>College degree</td>\n",
              "      <td>NaN</td>\n",
              "      <td>White</td>\n",
              "      <td>NaN</td>\n",
              "      <td>DK/REF</td>\n",
              "      <td>NaN</td>\n",
              "      <td>DK/REF</td>\n",
              "      <td>Yes</td>\n",
              "      <td>40.0</td>\n",
              "      <td>NaN</td>\n",
              "      <td>Yes</td>\n",
              "      <td>75.0</td>\n",
              "      <td>No</td>\n",
              "      <td>50.0</td>\n",
              "      <td>No</td>\n",
              "      <td>Unlikely</td>\n",
              "      <td>No</td>\n",
              "      <td>No</td>\n",
              "      <td>No</td>\n",
              "      <td>Donald Trump</td>\n",
              "    </tr>\n",
              "    <tr>\n",
              "      <th>1</th>\n",
              "      <td>54000.0</td>\n",
              "      <td>Female</td>\n",
              "      <td>58</td>\n",
              "      <td>55-64</td>\n",
              "      <td>Independent</td>\n",
              "      <td>Disapprove</td>\n",
              "      <td>Some college</td>\n",
              "      <td>NaN</td>\n",
              "      <td>White</td>\n",
              "      <td>NaN</td>\n",
              "      <td>DK/REF</td>\n",
              "      <td>NaN</td>\n",
              "      <td>DK/REF</td>\n",
              "      <td>Yes</td>\n",
              "      <td>80.0</td>\n",
              "      <td>NaN</td>\n",
              "      <td>Yes</td>\n",
              "      <td>90.0</td>\n",
              "      <td>No</td>\n",
              "      <td>50.0</td>\n",
              "      <td>No</td>\n",
              "      <td>Likely</td>\n",
              "      <td>No</td>\n",
              "      <td>No</td>\n",
              "      <td>Yes</td>\n",
              "      <td>Darth Vader</td>\n",
              "    </tr>\n",
              "    <tr>\n",
              "      <th>2</th>\n",
              "      <td>20000.0</td>\n",
              "      <td>Male</td>\n",
              "      <td>50</td>\n",
              "      <td>45-54</td>\n",
              "      <td>Not Strong Democrat</td>\n",
              "      <td>Approve</td>\n",
              "      <td>Other</td>\n",
              "      <td>7th grade</td>\n",
              "      <td>White</td>\n",
              "      <td>NaN</td>\n",
              "      <td>Agree</td>\n",
              "      <td>10.0</td>\n",
              "      <td>NaN</td>\n",
              "      <td>Yes</td>\n",
              "      <td>60.0</td>\n",
              "      <td>NaN</td>\n",
              "      <td>Yes</td>\n",
              "      <td>50.0</td>\n",
              "      <td>Yes</td>\n",
              "      <td>30.0</td>\n",
              "      <td>No</td>\n",
              "      <td>Likely</td>\n",
              "      <td>Yes</td>\n",
              "      <td>No</td>\n",
              "      <td>Yes</td>\n",
              "      <td>Donald Trump</td>\n",
              "    </tr>\n",
              "    <tr>\n",
              "      <th>3</th>\n",
              "      <td>21000.0</td>\n",
              "      <td>Female</td>\n",
              "      <td>40</td>\n",
              "      <td>35-44</td>\n",
              "      <td>Independent</td>\n",
              "      <td>Disapprove</td>\n",
              "      <td>College degree</td>\n",
              "      <td>NaN</td>\n",
              "      <td>White</td>\n",
              "      <td>NaN</td>\n",
              "      <td>DK/REF</td>\n",
              "      <td>NaN</td>\n",
              "      <td>DK/REF</td>\n",
              "      <td>Yes</td>\n",
              "      <td>30.0</td>\n",
              "      <td>NaN</td>\n",
              "      <td>Yes</td>\n",
              "      <td>50.0</td>\n",
              "      <td>Yes</td>\n",
              "      <td>35.0</td>\n",
              "      <td>No</td>\n",
              "      <td>Likely</td>\n",
              "      <td>No</td>\n",
              "      <td>Yes</td>\n",
              "      <td>No</td>\n",
              "      <td>Darth Vader</td>\n",
              "    </tr>\n",
              "    <tr>\n",
              "      <th>4</th>\n",
              "      <td>164000.0</td>\n",
              "      <td>Female</td>\n",
              "      <td>42</td>\n",
              "      <td>35-44</td>\n",
              "      <td>Strong Democrat</td>\n",
              "      <td>DK/REF</td>\n",
              "      <td>Graduate degree</td>\n",
              "      <td>NaN</td>\n",
              "      <td>Black</td>\n",
              "      <td>NaN</td>\n",
              "      <td>DK/REF</td>\n",
              "      <td>NaN</td>\n",
              "      <td>DK/REF</td>\n",
              "      <td>Yes</td>\n",
              "      <td>NaN</td>\n",
              "      <td>DK/REF</td>\n",
              "      <td>Yes</td>\n",
              "      <td>0.0</td>\n",
              "      <td>DK/REF</td>\n",
              "      <td>0.0</td>\n",
              "      <td>No</td>\n",
              "      <td>Unlikely</td>\n",
              "      <td>No</td>\n",
              "      <td>Yes</td>\n",
              "      <td>Yes</td>\n",
              "      <td>Darth Vader</td>\n",
              "    </tr>\n",
              "  </tbody>\n",
              "</table>\n",
              "</div>"
            ],
            "text/plain": [
              "     Income  ... Who would you prefer as president of the United States, Darth Vader or Donald Trump?\n",
              "0  192000.0  ...                                       Donald Trump                                  \n",
              "1   54000.0  ...                                        Darth Vader                                  \n",
              "2   20000.0  ...                                       Donald Trump                                  \n",
              "3   21000.0  ...                                        Darth Vader                                  \n",
              "4  164000.0  ...                                        Darth Vader                                  \n",
              "\n",
              "[5 rows x 26 columns]"
            ]
          },
          "metadata": {
            "tags": []
          },
          "execution_count": 3
        }
      ]
    },
    {
      "cell_type": "code",
      "metadata": {
        "id": "g1Ak1SJI2q8M",
        "colab": {
          "base_uri": "https://localhost:8080/"
        },
        "outputId": "80116741-da78-47da-d4dc-e89e14b58c6d"
      },
      "source": [
        "pulse_data.shape"
      ],
      "execution_count": null,
      "outputs": [
        {
          "output_type": "execute_result",
          "data": {
            "text/plain": [
              "(1000, 26)"
            ]
          },
          "metadata": {
            "tags": []
          },
          "execution_count": 4
        }
      ]
    },
    {
      "cell_type": "code",
      "metadata": {
        "id": "pP6rgrA-4MqL",
        "colab": {
          "base_uri": "https://localhost:8080/"
        },
        "outputId": "173f2b35-f0d1-43fa-b0e9-75bc06c0458e"
      },
      "source": [
        "# Taking a look at the size and info of our data set, including any null values.\n",
        "\n",
        "pulse_data.info()"
      ],
      "execution_count": null,
      "outputs": [
        {
          "output_type": "stream",
          "text": [
            "<class 'pandas.core.frame.DataFrame'>\n",
            "RangeIndex: 1000 entries, 0 to 999\n",
            "Data columns (total 26 columns):\n",
            " #   Column                                                                                                                        Non-Null Count  Dtype  \n",
            "---  ------                                                                                                                        --------------  -----  \n",
            " 0   Income                                                                                                                        300 non-null    float64\n",
            " 1   Gender                                                                                                                        1000 non-null   object \n",
            " 2   Age                                                                                                                           1000 non-null   int64  \n",
            " 3   Age Range                                                                                                                     1000 non-null   object \n",
            " 4   Political Affiliation                                                                                                         1000 non-null   object \n",
            " 5   Do you approve or disapprove of how Donald Trump is handling his job as president?                                            1000 non-null   object \n",
            " 6   What is your highest level of education?                                                                                      1000 non-null   object \n",
            " 7   Q6OTH1                                                                                                                        22 non-null     object \n",
            " 8   What is your race?                                                                                                            1000 non-null   object \n",
            " 9   Q5OTH1                                                                                                                        34 non-null     object \n",
            " 10  From what you have heard or seen, do you mostly agree or mostly disagree with the beliefs of White Nationalists?              1000 non-null   object \n",
            " 11  If you had to guess, what percentage of Republicans would say that they mostly agree with the beliefs of White Nationalists?  711 non-null    float64\n",
            " 12  q8x                                                                                                                           289 non-null    object \n",
            " 13  Would you say that you love America?                                                                                          1000 non-null   object \n",
            " 14  If you had to guess, what percentage of Democrats would say that they love America?                                           875 non-null    float64\n",
            " 15  q10x                                                                                                                          125 non-null    object \n",
            " 16  Do you think that government policies should help those who are poor and struggling in America?                               1000 non-null   object \n",
            " 17  If you had to guess, what percentage of Republicans would say yes to that question?                                           862 non-null    float64\n",
            " 18  Do you think that most white people in America are racist?                                                                    1000 non-null   object \n",
            " 19  If you had to guess, what percentage of Democrats would say yes to that question?                                             842 non-null    float64\n",
            " 20  Have you lost any friendships or other relationships as a result of the 2016 presidential election?                           1000 non-null   object \n",
            " 21  Do you think it is likely or unlikely that there will be a Civil War in the United States within the next decade?             1000 non-null   object \n",
            " 22  Have you ever gone hunting?                                                                                                   1000 non-null   object \n",
            " 23  Have you ever eaten a kale salad?                                                                                             1000 non-null   object \n",
            " 24  If Dwayne \"The Rock\" Johnson ran for president as a candidate for your political party, would you vote for him?               1000 non-null   object \n",
            " 25  Who would you prefer as president of the United States, Darth Vader or Donald Trump?                                          1000 non-null   object \n",
            "dtypes: float64(5), int64(1), object(20)\n",
            "memory usage: 203.2+ KB\n"
          ],
          "name": "stdout"
        }
      ]
    },
    {
      "cell_type": "markdown",
      "metadata": {
        "id": "QPAGhYUHth8C"
      },
      "source": [
        "In taking a first look at this set of data, it's clear that we have to wittle down the data quite a bit, as there are only 3000 participants of the 1000 surveyed who chose to report their income. Considering income is on of our major comparison variables, along with age, we must exclude all the records in which the income is not reported. This leaves us with 300 records total, which is quite a bit smaller than the initial data set. Within sub groups of these 300 records, the smallest will not likely drop below 50, which is the minimum number of records we could still work with. Even so, the results of this analysis will unlikely be highly trustworthy, and more surveys should be taken and analyzed again."
      ]
    },
    {
      "cell_type": "code",
      "metadata": {
        "id": "SLhi4jxKXNWr"
      },
      "source": [
        "# Choosing a subset of the data only in which income is not null. \n",
        "\n",
        "pulse_data_income = pulse_data.dropna(axis=0, subset=['Income'])"
      ],
      "execution_count": null,
      "outputs": []
    },
    {
      "cell_type": "code",
      "metadata": {
        "id": "noIA6xs2XXBH"
      },
      "source": [
        "# Dropping the columns of questions that will not be analyzed, or have null values. \n",
        "# Upon inspection of the data \"DK/REF\" is shorthand for \"Don't know\" or \"Refused to Answer\" and we will keep this as an acceptable response. \n",
        "\n",
        "pulse_select_data = pulse_data_income.drop(pulse_data_income.columns[[3,7,9,11,12,14,15,17,19,20,22,25]], axis=1)"
      ],
      "execution_count": null,
      "outputs": []
    },
    {
      "cell_type": "code",
      "metadata": {
        "id": "EAicsnZAXYgG",
        "colab": {
          "base_uri": "https://localhost:8080/"
        },
        "outputId": "2b1f9f12-5533-4b1f-8183-313ea8a288ba"
      },
      "source": [
        "# Let's look at our new data\n",
        "\n",
        "pulse_select_data.info()"
      ],
      "execution_count": null,
      "outputs": [
        {
          "output_type": "stream",
          "text": [
            "<class 'pandas.core.frame.DataFrame'>\n",
            "Int64Index: 300 entries, 0 to 676\n",
            "Data columns (total 14 columns):\n",
            " #   Column                                                                                                             Non-Null Count  Dtype  \n",
            "---  ------                                                                                                             --------------  -----  \n",
            " 0   Income                                                                                                             300 non-null    float64\n",
            " 1   Gender                                                                                                             300 non-null    object \n",
            " 2   Age                                                                                                                300 non-null    int64  \n",
            " 3   Political Affiliation                                                                                              300 non-null    object \n",
            " 4   Do you approve or disapprove of how Donald Trump is handling his job as president?                                 300 non-null    object \n",
            " 5   What is your highest level of education?                                                                           300 non-null    object \n",
            " 6   What is your race?                                                                                                 300 non-null    object \n",
            " 7   From what you have heard or seen, do you mostly agree or mostly disagree with the beliefs of White Nationalists?   300 non-null    object \n",
            " 8   Would you say that you love America?                                                                               300 non-null    object \n",
            " 9   Do you think that government policies should help those who are poor and struggling in America?                    300 non-null    object \n",
            " 10  Do you think that most white people in America are racist?                                                         300 non-null    object \n",
            " 11  Do you think it is likely or unlikely that there will be a Civil War in the United States within the next decade?  300 non-null    object \n",
            " 12  Have you ever eaten a kale salad?                                                                                  300 non-null    object \n",
            " 13  If Dwayne \"The Rock\" Johnson ran for president as a candidate for your political party, would you vote for him?    300 non-null    object \n",
            "dtypes: float64(1), int64(1), object(12)\n",
            "memory usage: 35.2+ KB\n"
          ],
          "name": "stdout"
        }
      ]
    },
    {
      "cell_type": "code",
      "metadata": {
        "id": "2MTyzgZkZafA",
        "colab": {
          "base_uri": "https://localhost:8080/",
          "height": 374
        },
        "outputId": "ad6d8caf-7887-4170-d06d-5a07f87f4c65"
      },
      "source": [
        "# Indeed, there are 300 non-null values in every column. \n",
        "\n",
        "pulse_select_data.head()"
      ],
      "execution_count": null,
      "outputs": [
        {
          "output_type": "execute_result",
          "data": {
            "text/html": [
              "<div>\n",
              "<style scoped>\n",
              "    .dataframe tbody tr th:only-of-type {\n",
              "        vertical-align: middle;\n",
              "    }\n",
              "\n",
              "    .dataframe tbody tr th {\n",
              "        vertical-align: top;\n",
              "    }\n",
              "\n",
              "    .dataframe thead th {\n",
              "        text-align: right;\n",
              "    }\n",
              "</style>\n",
              "<table border=\"1\" class=\"dataframe\">\n",
              "  <thead>\n",
              "    <tr style=\"text-align: right;\">\n",
              "      <th></th>\n",
              "      <th>Income</th>\n",
              "      <th>Gender</th>\n",
              "      <th>Age</th>\n",
              "      <th>Political Affiliation</th>\n",
              "      <th>Do you approve or disapprove of how Donald Trump is handling his job as president?</th>\n",
              "      <th>What is your highest level of education?</th>\n",
              "      <th>What is your race?</th>\n",
              "      <th>From what you have heard or seen, do you mostly agree or mostly disagree with the beliefs of White Nationalists?</th>\n",
              "      <th>Would you say that you love America?</th>\n",
              "      <th>Do you think that government policies should help those who are poor and struggling in America?</th>\n",
              "      <th>Do you think that most white people in America are racist?</th>\n",
              "      <th>Do you think it is likely or unlikely that there will be a Civil War in the United States within the next decade?</th>\n",
              "      <th>Have you ever eaten a kale salad?</th>\n",
              "      <th>If Dwayne \"The Rock\" Johnson ran for president as a candidate for your political party, would you vote for him?</th>\n",
              "    </tr>\n",
              "  </thead>\n",
              "  <tbody>\n",
              "    <tr>\n",
              "      <th>0</th>\n",
              "      <td>192000.0</td>\n",
              "      <td>Female</td>\n",
              "      <td>35</td>\n",
              "      <td>Strong Republican</td>\n",
              "      <td>DK/REF</td>\n",
              "      <td>College degree</td>\n",
              "      <td>White</td>\n",
              "      <td>DK/REF</td>\n",
              "      <td>Yes</td>\n",
              "      <td>Yes</td>\n",
              "      <td>No</td>\n",
              "      <td>Unlikely</td>\n",
              "      <td>No</td>\n",
              "      <td>No</td>\n",
              "    </tr>\n",
              "    <tr>\n",
              "      <th>1</th>\n",
              "      <td>54000.0</td>\n",
              "      <td>Female</td>\n",
              "      <td>58</td>\n",
              "      <td>Independent</td>\n",
              "      <td>Disapprove</td>\n",
              "      <td>Some college</td>\n",
              "      <td>White</td>\n",
              "      <td>DK/REF</td>\n",
              "      <td>Yes</td>\n",
              "      <td>Yes</td>\n",
              "      <td>No</td>\n",
              "      <td>Likely</td>\n",
              "      <td>No</td>\n",
              "      <td>Yes</td>\n",
              "    </tr>\n",
              "    <tr>\n",
              "      <th>2</th>\n",
              "      <td>20000.0</td>\n",
              "      <td>Male</td>\n",
              "      <td>50</td>\n",
              "      <td>Not Strong Democrat</td>\n",
              "      <td>Approve</td>\n",
              "      <td>Other</td>\n",
              "      <td>White</td>\n",
              "      <td>Agree</td>\n",
              "      <td>Yes</td>\n",
              "      <td>Yes</td>\n",
              "      <td>Yes</td>\n",
              "      <td>Likely</td>\n",
              "      <td>No</td>\n",
              "      <td>Yes</td>\n",
              "    </tr>\n",
              "    <tr>\n",
              "      <th>3</th>\n",
              "      <td>21000.0</td>\n",
              "      <td>Female</td>\n",
              "      <td>40</td>\n",
              "      <td>Independent</td>\n",
              "      <td>Disapprove</td>\n",
              "      <td>College degree</td>\n",
              "      <td>White</td>\n",
              "      <td>DK/REF</td>\n",
              "      <td>Yes</td>\n",
              "      <td>Yes</td>\n",
              "      <td>Yes</td>\n",
              "      <td>Likely</td>\n",
              "      <td>Yes</td>\n",
              "      <td>No</td>\n",
              "    </tr>\n",
              "    <tr>\n",
              "      <th>4</th>\n",
              "      <td>164000.0</td>\n",
              "      <td>Female</td>\n",
              "      <td>42</td>\n",
              "      <td>Strong Democrat</td>\n",
              "      <td>DK/REF</td>\n",
              "      <td>Graduate degree</td>\n",
              "      <td>Black</td>\n",
              "      <td>DK/REF</td>\n",
              "      <td>Yes</td>\n",
              "      <td>Yes</td>\n",
              "      <td>DK/REF</td>\n",
              "      <td>Unlikely</td>\n",
              "      <td>Yes</td>\n",
              "      <td>Yes</td>\n",
              "    </tr>\n",
              "  </tbody>\n",
              "</table>\n",
              "</div>"
            ],
            "text/plain": [
              "     Income  ... If Dwayne \"The Rock\" Johnson ran for president as a candidate for your political party, would you vote for him?\n",
              "0  192000.0  ...                                                 No                                                             \n",
              "1   54000.0  ...                                                Yes                                                             \n",
              "2   20000.0  ...                                                Yes                                                             \n",
              "3   21000.0  ...                                                 No                                                             \n",
              "4  164000.0  ...                                                Yes                                                             \n",
              "\n",
              "[5 rows x 14 columns]"
            ]
          },
          "metadata": {
            "tags": []
          },
          "execution_count": 9
        }
      ]
    },
    {
      "cell_type": "code",
      "metadata": {
        "id": "PVl34m03bdpR",
        "colab": {
          "base_uri": "https://localhost:8080/"
        },
        "outputId": "dff24195-4aa3-4332-ba13-5336fc4907ae"
      },
      "source": [
        "# Let's take a look at unique value counts for certain columns. \n",
        "# These answers provide too much variability so for simplicity we'll change Political Affiliation to one of three categories:\n",
        "# Strong and Not Strong Republican will be changed to just Republican\n",
        "# Strong and Not Strong Democrat will be changed to just Democrat\n",
        "# Independent and DK/REF will be changed to Independent/Undecided.\n",
        "\n",
        "pulse_select_data.iloc[:,3].value_counts()"
      ],
      "execution_count": null,
      "outputs": [
        {
          "output_type": "execute_result",
          "data": {
            "text/plain": [
              "Independent              100\n",
              "Strong Democrat           82\n",
              "Strong Republican         40\n",
              "DK/REF                    30\n",
              "Not Strong Democrat       26\n",
              "Not Strong Republican     22\n",
              "Name: Political Affiliation , dtype: int64"
            ]
          },
          "metadata": {
            "tags": []
          },
          "execution_count": 10
        }
      ]
    },
    {
      "cell_type": "code",
      "metadata": {
        "id": "MWKfR30fdFDi",
        "colab": {
          "base_uri": "https://localhost:8080/"
        },
        "outputId": "553f2425-4595-475b-fa4a-4a5abc897b21"
      },
      "source": [
        "# Taking a look at unique counts for this question, we'll change DK/REF to \"Don't Know\", just so it's easier to understand.\n",
        "\n",
        "pulse_select_data.iloc[:,4].value_counts()"
      ],
      "execution_count": null,
      "outputs": [
        {
          "output_type": "execute_result",
          "data": {
            "text/plain": [
              "Disapprove    168\n",
              "Approve       101\n",
              "DK/REF         31\n",
              "Name: Do you approve or disapprove of how Donald Trump is handling his job as president?, dtype: int64"
            ]
          },
          "metadata": {
            "tags": []
          },
          "execution_count": 11
        }
      ]
    },
    {
      "cell_type": "code",
      "metadata": {
        "id": "01G-zj2JdK0h",
        "colab": {
          "base_uri": "https://localhost:8080/"
        },
        "outputId": "c26b17bf-218f-4be6-b23f-068c5f0bf0b1"
      },
      "source": [
        "# Looking at Education Level, we'll change all these categories into two categories:\n",
        "# College degree/ Graduate Degree will be combined\n",
        "# High School/ Some college/ other will be combined.\n",
        "\n",
        "pulse_select_data.iloc[:,5].value_counts()"
      ],
      "execution_count": null,
      "outputs": [
        {
          "output_type": "execute_result",
          "data": {
            "text/plain": [
              "College degree     87\n",
              "High school        71\n",
              "Graduate degree    71\n",
              "Some college       64\n",
              "Other               7\n",
              "Name: What is your highest level of education?, dtype: int64"
            ]
          },
          "metadata": {
            "tags": []
          },
          "execution_count": 12
        }
      ]
    },
    {
      "cell_type": "code",
      "metadata": {
        "id": "OSangOEjd8e-",
        "colab": {
          "base_uri": "https://localhost:8080/"
        },
        "outputId": "4456fdda-7079-4ebf-bbb4-f1aa5ca51843"
      },
      "source": [
        "# Looking at value counts for Race, We'll narrow down teh results to White, Black, Latino, and Asian/Other/No Answer\n",
        "\n",
        "pulse_select_data.iloc[:,6].value_counts()"
      ],
      "execution_count": null,
      "outputs": [
        {
          "output_type": "execute_result",
          "data": {
            "text/plain": [
              "White     188\n",
              "Black      50\n",
              "Latino     41\n",
              "DK/REF     11\n",
              "Other       7\n",
              "Asian       3\n",
              "Name: What is your race?, dtype: int64"
            ]
          },
          "metadata": {
            "tags": []
          },
          "execution_count": 13
        }
      ]
    },
    {
      "cell_type": "code",
      "metadata": {
        "id": "aHGfg7tch_MP",
        "colab": {
          "base_uri": "https://localhost:8080/"
        },
        "outputId": "244da9c0-f33f-45a7-edf7-115304de037e"
      },
      "source": [
        "# Here we'll change DK/REF to 'Don't Know', once again for readability.\n",
        "\n",
        "pulse_select_data.iloc[:,9].value_counts()"
      ],
      "execution_count": null,
      "outputs": [
        {
          "output_type": "execute_result",
          "data": {
            "text/plain": [
              "Yes       254\n",
              "No         38\n",
              "DK/REF      8\n",
              "Name: Do you think that government policies should help those who are poor and struggling in America?, dtype: int64"
            ]
          },
          "metadata": {
            "tags": []
          },
          "execution_count": 14
        }
      ]
    },
    {
      "cell_type": "code",
      "metadata": {
        "id": "ZBvNtNoMiWBT",
        "colab": {
          "base_uri": "https://localhost:8080/"
        },
        "outputId": "a4135383-38cb-4fd6-d48c-43d435c5f4dc"
      },
      "source": [
        "# Here we'll change DK/REF to 'Don't Know', once again for readability.\n",
        "\n",
        "pulse_select_data.iloc[:,10].value_counts()"
      ],
      "execution_count": null,
      "outputs": [
        {
          "output_type": "execute_result",
          "data": {
            "text/plain": [
              "No        235\n",
              "Yes        56\n",
              "DK/REF      9\n",
              "Name: Do you think that most white people in America are racist?, dtype: int64"
            ]
          },
          "metadata": {
            "tags": []
          },
          "execution_count": 15
        }
      ]
    },
    {
      "cell_type": "code",
      "metadata": {
        "id": "6dg6UEctbiCL"
      },
      "source": [
        "# Replacing all the values previously discussed\n",
        "\n",
        "pulse_select_data[\"Political Affiliation \"].replace({\"Independent\": \"Independent/Undecided\", \"DK/REF\": \"Independent/Undecided\", \"Strong Democrat\": \"Democrat\", \"Strong Republican\": \"Republican\", \"Not Strong Democrat\": \"Democrat\", \"Not Strong Republican\": \"Republican\"}, inplace=True)\n",
        "pulse_select_data['Do you approve or disapprove of how Donald Trump is handling his job as president?'].replace({\"DK/REF\": \"Don't Know\"}, inplace=True)\n",
        "pulse_select_data['What is your highest level of education?'].replace({\"College degree\": \"College/Graduate degree\", \"Graduate degree\": \"College/Graduate degree\", \"High school\": \"High school/Some college/ other\", \"Some college\":\"High school/Some college/ other\", \"Other\": \"High school/Some college/ other\"}, inplace = True)\n",
        "pulse_select_data['What is your race?'].replace({\"DK/REF\": \"Asian/ other/ no answer\", \"Asian\": \"Asian/ other/ no answer\", \"Other\": \"Asian/ other/ no answer\"}, inplace=True)\n",
        "pulse_select_data['From what you have heard or seen, do you mostly agree or mostly disagree with the beliefs of White Nationalists?'].replace({\"DK/REF\":\"Don't Know\"}, inplace=True)\n",
        "pulse_select_data['Do you think that government policies should help those who are poor and struggling in America?'].replace({\"DK/REF\":\"Don't Know\"},inplace=True)\n",
        "pulse_select_data['Do you think that most white people in America are racist?'].replace({\"DK/REF\":\"Don't Know\"},inplace=True)\n",
        "pulse_select_data['Have you ever eaten a kale salad?'].replace({\"DK/REF\": \"Don't Know\"},inplace=True)"
      ],
      "execution_count": null,
      "outputs": []
    },
    {
      "cell_type": "code",
      "metadata": {
        "id": "bUHvbymSb4UG",
        "colab": {
          "base_uri": "https://localhost:8080/",
          "height": 442
        },
        "outputId": "21456d9b-4283-4cb4-8391-52e4a5d5bb30"
      },
      "source": [
        "# Let's take a look at the new data\n",
        "\n",
        "pulse_select_data.head()"
      ],
      "execution_count": null,
      "outputs": [
        {
          "output_type": "execute_result",
          "data": {
            "text/html": [
              "<div>\n",
              "<style scoped>\n",
              "    .dataframe tbody tr th:only-of-type {\n",
              "        vertical-align: middle;\n",
              "    }\n",
              "\n",
              "    .dataframe tbody tr th {\n",
              "        vertical-align: top;\n",
              "    }\n",
              "\n",
              "    .dataframe thead th {\n",
              "        text-align: right;\n",
              "    }\n",
              "</style>\n",
              "<table border=\"1\" class=\"dataframe\">\n",
              "  <thead>\n",
              "    <tr style=\"text-align: right;\">\n",
              "      <th></th>\n",
              "      <th>Income</th>\n",
              "      <th>Gender</th>\n",
              "      <th>Age</th>\n",
              "      <th>Political Affiliation</th>\n",
              "      <th>Do you approve or disapprove of how Donald Trump is handling his job as president?</th>\n",
              "      <th>What is your highest level of education?</th>\n",
              "      <th>What is your race?</th>\n",
              "      <th>From what you have heard or seen, do you mostly agree or mostly disagree with the beliefs of White Nationalists?</th>\n",
              "      <th>Would you say that you love America?</th>\n",
              "      <th>Do you think that government policies should help those who are poor and struggling in America?</th>\n",
              "      <th>Do you think that most white people in America are racist?</th>\n",
              "      <th>Do you think it is likely or unlikely that there will be a Civil War in the United States within the next decade?</th>\n",
              "      <th>Have you ever eaten a kale salad?</th>\n",
              "      <th>If Dwayne \"The Rock\" Johnson ran for president as a candidate for your political party, would you vote for him?</th>\n",
              "    </tr>\n",
              "  </thead>\n",
              "  <tbody>\n",
              "    <tr>\n",
              "      <th>0</th>\n",
              "      <td>192000.0</td>\n",
              "      <td>Female</td>\n",
              "      <td>35</td>\n",
              "      <td>Republican</td>\n",
              "      <td>Don't Know</td>\n",
              "      <td>College/Graduate degree</td>\n",
              "      <td>White</td>\n",
              "      <td>Don't Know</td>\n",
              "      <td>Yes</td>\n",
              "      <td>Yes</td>\n",
              "      <td>No</td>\n",
              "      <td>Unlikely</td>\n",
              "      <td>No</td>\n",
              "      <td>No</td>\n",
              "    </tr>\n",
              "    <tr>\n",
              "      <th>1</th>\n",
              "      <td>54000.0</td>\n",
              "      <td>Female</td>\n",
              "      <td>58</td>\n",
              "      <td>Independent/Undecided</td>\n",
              "      <td>Disapprove</td>\n",
              "      <td>High school/Some college/ other</td>\n",
              "      <td>White</td>\n",
              "      <td>Don't Know</td>\n",
              "      <td>Yes</td>\n",
              "      <td>Yes</td>\n",
              "      <td>No</td>\n",
              "      <td>Likely</td>\n",
              "      <td>No</td>\n",
              "      <td>Yes</td>\n",
              "    </tr>\n",
              "    <tr>\n",
              "      <th>2</th>\n",
              "      <td>20000.0</td>\n",
              "      <td>Male</td>\n",
              "      <td>50</td>\n",
              "      <td>Democrat</td>\n",
              "      <td>Approve</td>\n",
              "      <td>High school/Some college/ other</td>\n",
              "      <td>White</td>\n",
              "      <td>Agree</td>\n",
              "      <td>Yes</td>\n",
              "      <td>Yes</td>\n",
              "      <td>Yes</td>\n",
              "      <td>Likely</td>\n",
              "      <td>No</td>\n",
              "      <td>Yes</td>\n",
              "    </tr>\n",
              "    <tr>\n",
              "      <th>3</th>\n",
              "      <td>21000.0</td>\n",
              "      <td>Female</td>\n",
              "      <td>40</td>\n",
              "      <td>Independent/Undecided</td>\n",
              "      <td>Disapprove</td>\n",
              "      <td>College/Graduate degree</td>\n",
              "      <td>White</td>\n",
              "      <td>Don't Know</td>\n",
              "      <td>Yes</td>\n",
              "      <td>Yes</td>\n",
              "      <td>Yes</td>\n",
              "      <td>Likely</td>\n",
              "      <td>Yes</td>\n",
              "      <td>No</td>\n",
              "    </tr>\n",
              "    <tr>\n",
              "      <th>4</th>\n",
              "      <td>164000.0</td>\n",
              "      <td>Female</td>\n",
              "      <td>42</td>\n",
              "      <td>Democrat</td>\n",
              "      <td>Don't Know</td>\n",
              "      <td>College/Graduate degree</td>\n",
              "      <td>Black</td>\n",
              "      <td>Don't Know</td>\n",
              "      <td>Yes</td>\n",
              "      <td>Yes</td>\n",
              "      <td>Don't Know</td>\n",
              "      <td>Unlikely</td>\n",
              "      <td>Yes</td>\n",
              "      <td>Yes</td>\n",
              "    </tr>\n",
              "  </tbody>\n",
              "</table>\n",
              "</div>"
            ],
            "text/plain": [
              "     Income  ... If Dwayne \"The Rock\" Johnson ran for president as a candidate for your political party, would you vote for him?\n",
              "0  192000.0  ...                                                 No                                                             \n",
              "1   54000.0  ...                                                Yes                                                             \n",
              "2   20000.0  ...                                                Yes                                                             \n",
              "3   21000.0  ...                                                 No                                                             \n",
              "4  164000.0  ...                                                Yes                                                             \n",
              "\n",
              "[5 rows x 14 columns]"
            ]
          },
          "metadata": {
            "tags": []
          },
          "execution_count": 17
        }
      ]
    },
    {
      "cell_type": "markdown",
      "metadata": {
        "id": "zpYHcy4qxxea"
      },
      "source": [
        "# Data Analysis"
      ]
    },
    {
      "cell_type": "markdown",
      "metadata": {
        "id": "syBr1f7Y9D3a"
      },
      "source": [
        "## A Brief Look at the General Distribution of Income and Age"
      ]
    },
    {
      "cell_type": "markdown",
      "metadata": {
        "id": "LOSXO8fiCh-n"
      },
      "source": [
        "Let's look first at the general distribution and range of both income and age."
      ]
    },
    {
      "cell_type": "code",
      "metadata": {
        "id": "PyFvCGY-KoGg",
        "colab": {
          "base_uri": "https://localhost:8080/"
        },
        "outputId": "37f64236-f5f4-419b-b3eb-b04efbc65cf6"
      },
      "source": [
        "income_levels = pulse_select_data['Income'].sort_values(ascending=False)\n",
        "highest_income = income_levels.head(1).values[0]\n",
        "lowest_income = income_levels.tail(1).values[0]\n",
        "print(f'The highest income of the survey participants was ${highest_income.round(0)}')\n",
        "print(f'The lowest income of the survey participants was ${lowest_income.round(0)}')\n"
      ],
      "execution_count": null,
      "outputs": [
        {
          "output_type": "stream",
          "text": [
            "The highest income of the survey participants was $401000.0\n",
            "The lowest income of the survey participants was $5000.0\n"
          ],
          "name": "stdout"
        }
      ]
    },
    {
      "cell_type": "markdown",
      "metadata": {
        "id": "mhp4MQCqCoej"
      },
      "source": [
        "It appears the highest income of those surveyed was 401,000 USD and the lowest was 5,000 USD. It's clear we've gotten the lower end of the spectrum for income in the United States, however there is a good portion of earners in the US who make more than $400,000. In expanding this survey in the future I'd ceratinly aim to gather opinions from earners in the US that fall in the upper 10% of earners. \n",
        "\n",
        "The distribution looks like this:"
      ]
    },
    {
      "cell_type": "code",
      "metadata": {
        "id": "NmhFYRgDLpha",
        "colab": {
          "base_uri": "https://localhost:8080/",
          "height": 355
        },
        "outputId": "ae4b5705-57ae-4fdc-9af0-5d71b40b77f9"
      },
      "source": [
        "income_dist = plt.figure(figsize=(11,5))\n",
        "plt.hist(pulse_select_data['Income'])\n",
        "plt.xlabel('Income')\n",
        "plt.title('Income Distribution Over Entire Sample')\n",
        "income_dist.show()\n",
        "\n",
        "income_dist.savefig('samplefigure.png')\n",
        "files.download('samplefigure.png')"
      ],
      "execution_count": null,
      "outputs": [
        {
          "output_type": "display_data",
          "data": {
            "application/javascript": [
              "\n",
              "    async function download(id, filename, size) {\n",
              "      if (!google.colab.kernel.accessAllowed) {\n",
              "        return;\n",
              "      }\n",
              "      const div = document.createElement('div');\n",
              "      const label = document.createElement('label');\n",
              "      label.textContent = `Downloading \"${filename}\": `;\n",
              "      div.appendChild(label);\n",
              "      const progress = document.createElement('progress');\n",
              "      progress.max = size;\n",
              "      div.appendChild(progress);\n",
              "      document.body.appendChild(div);\n",
              "\n",
              "      const buffers = [];\n",
              "      let downloaded = 0;\n",
              "\n",
              "      const channel = await google.colab.kernel.comms.open(id);\n",
              "      // Send a message to notify the kernel that we're ready.\n",
              "      channel.send({})\n",
              "\n",
              "      for await (const message of channel.messages) {\n",
              "        // Send a message to notify the kernel that we're ready.\n",
              "        channel.send({})\n",
              "        if (message.buffers) {\n",
              "          for (const buffer of message.buffers) {\n",
              "            buffers.push(buffer);\n",
              "            downloaded += buffer.byteLength;\n",
              "            progress.value = downloaded;\n",
              "          }\n",
              "        }\n",
              "      }\n",
              "      const blob = new Blob(buffers, {type: 'application/binary'});\n",
              "      const a = document.createElement('a');\n",
              "      a.href = window.URL.createObjectURL(blob);\n",
              "      a.download = filename;\n",
              "      div.appendChild(a);\n",
              "      a.click();\n",
              "      div.remove();\n",
              "    }\n",
              "  "
            ],
            "text/plain": [
              "<IPython.core.display.Javascript object>"
            ]
          },
          "metadata": {
            "tags": []
          }
        },
        {
          "output_type": "display_data",
          "data": {
            "application/javascript": [
              "download(\"download_61c155d5-71b7-4257-94d5-0aab53092667\", \"samplefigure.png\", 11539)"
            ],
            "text/plain": [
              "<IPython.core.display.Javascript object>"
            ]
          },
          "metadata": {
            "tags": []
          }
        },
        {
          "output_type": "display_data",
          "data": {
            "image/png": "[encoded data removed]",
            "text/plain": [
              "<Figure size 792x360 with 1 Axes>"
            ]
          },
          "metadata": {
            "tags": []
          }
        }
      ]
    },
    {
      "cell_type": "markdown",
      "metadata": {
        "id": "4W_AHx2UC82c"
      },
      "source": [
        "It appears that more people surveyed made less than 50,000, while significantly less made $100,000 or more. "
      ]
    },
    {
      "cell_type": "markdown",
      "metadata": {
        "id": "6T-DrltYEVpe"
      },
      "source": [
        "Now let's examine the range of ages of those surveyed."
      ]
    },
    {
      "cell_type": "code",
      "metadata": {
        "id": "7OP4fkr99JqT",
        "colab": {
          "base_uri": "https://localhost:8080/"
        },
        "outputId": "5fb03854-0518-4bd9-b3e3-0d48c70ac037"
      },
      "source": [
        "ages = pulse_select_data['Age'].sort_values(ascending=False)\n",
        "oldest_person = ages.head(1).values[0]\n",
        "youngest_person = ages.tail(1).values[0]\n",
        "print(f'The oldest person of the survey participants was {oldest_person} years old')\n",
        "print(f'The youngest person of the survey participants was {youngest_person} years old')"
      ],
      "execution_count": null,
      "outputs": [
        {
          "output_type": "stream",
          "text": [
            "The oldest person of the survey participants was 99 years old\n",
            "The youngest person of the survey participants was 18 years old\n"
          ],
          "name": "stdout"
        }
      ]
    },
    {
      "cell_type": "markdown",
      "metadata": {
        "id": "HIYNZEq-EYJA"
      },
      "source": [
        "This is a great age range! We've hopefully gotten many different perspectives."
      ]
    },
    {
      "cell_type": "code",
      "metadata": {
        "id": "R1U7twkQ9mdy",
        "colab": {
          "base_uri": "https://localhost:8080/",
          "height": 372
        },
        "outputId": "d224d83c-0936-48c2-d8fb-b3d236d38efe"
      },
      "source": [
        "plt.figure(figsize=(11,5))\n",
        "plt.hist(pulse_select_data['Age'])\n",
        "plt.xlabel('Age')\n",
        "plt.title('Age Distribution Over Entire Sample')"
      ],
      "execution_count": null,
      "outputs": [
        {
          "output_type": "execute_result",
          "data": {
            "text/plain": [
              "Text(0.5, 1.0, 'Age Distribution Over Entire Sample')"
            ]
          },
          "metadata": {
            "tags": []
          },
          "execution_count": 21
        },
        {
          "output_type": "display_data",
          "data": {
            "image/png": "[encoded data removed]",
            "text/plain": [
              "<Figure size 792x360 with 1 Axes>"
            ]
          },
          "metadata": {
            "tags": [],
            "needs_background": "light"
          }
        }
      ]
    },
    {
      "cell_type": "markdown",
      "metadata": {
        "id": "jlyxwBBmAVSn"
      },
      "source": [
        "## Analysis of Survey Questions"
      ]
    },
    {
      "cell_type": "markdown",
      "metadata": {
        "id": "0UdPLHrf8vCD"
      },
      "source": [
        "### 1. From what you have heard or seen, do you mostly agree or mostly disagree with the beliefs of White Nationalists?"
      ]
    },
    {
      "cell_type": "markdown",
      "metadata": {
        "id": "ZKyfuTlv7HjO"
      },
      "source": [
        "#### **Separating Data into Groups**"
      ]
    },
    {
      "cell_type": "code",
      "metadata": {
        "id": "XvETS0Js8_F3"
      },
      "source": [
        "# Separating out the data into groups: Those who agree with white Nationalists and those who do not.\n",
        "\n",
        "agree_white_nats = pulse_select_data[pulse_select_data['From what you have heard or seen, do you mostly agree or mostly disagree with the beliefs of White Nationalists?'] == 'Agree']\n",
        "disagree_white_nats = pulse_select_data[pulse_select_data['From what you have heard or seen, do you mostly agree or mostly disagree with the beliefs of White Nationalists?'] == 'Disagree']"
      ],
      "execution_count": null,
      "outputs": []
    },
    {
      "cell_type": "markdown",
      "metadata": {
        "id": "jY8-uTQEMMYf"
      },
      "source": [
        "First let's take a look at the data for income and age for both of these groups."
      ]
    },
    {
      "cell_type": "code",
      "metadata": {
        "id": "Do4EWM8L3hRN",
        "colab": {
          "base_uri": "https://localhost:8080/",
          "height": 297
        },
        "outputId": "9c17140c-ddff-48cb-d6cf-727de8bcf82e"
      },
      "source": [
        "agree_white_nats.describe()"
      ],
      "execution_count": null,
      "outputs": [
        {
          "output_type": "execute_result",
          "data": {
            "text/html": [
              "<div>\n",
              "<style scoped>\n",
              "    .dataframe tbody tr th:only-of-type {\n",
              "        vertical-align: middle;\n",
              "    }\n",
              "\n",
              "    .dataframe tbody tr th {\n",
              "        vertical-align: top;\n",
              "    }\n",
              "\n",
              "    .dataframe thead th {\n",
              "        text-align: right;\n",
              "    }\n",
              "</style>\n",
              "<table border=\"1\" class=\"dataframe\">\n",
              "  <thead>\n",
              "    <tr style=\"text-align: right;\">\n",
              "      <th></th>\n",
              "      <th>Income</th>\n",
              "      <th>Age</th>\n",
              "    </tr>\n",
              "  </thead>\n",
              "  <tbody>\n",
              "    <tr>\n",
              "      <th>count</th>\n",
              "      <td>29.000000</td>\n",
              "      <td>29.000000</td>\n",
              "    </tr>\n",
              "    <tr>\n",
              "      <th>mean</th>\n",
              "      <td>38482.758621</td>\n",
              "      <td>46.793103</td>\n",
              "    </tr>\n",
              "    <tr>\n",
              "      <th>std</th>\n",
              "      <td>27109.066340</td>\n",
              "      <td>16.967152</td>\n",
              "    </tr>\n",
              "    <tr>\n",
              "      <th>min</th>\n",
              "      <td>5000.000000</td>\n",
              "      <td>18.000000</td>\n",
              "    </tr>\n",
              "    <tr>\n",
              "      <th>25%</th>\n",
              "      <td>9000.000000</td>\n",
              "      <td>35.000000</td>\n",
              "    </tr>\n",
              "    <tr>\n",
              "      <th>50%</th>\n",
              "      <td>35000.000000</td>\n",
              "      <td>42.000000</td>\n",
              "    </tr>\n",
              "    <tr>\n",
              "      <th>75%</th>\n",
              "      <td>62000.000000</td>\n",
              "      <td>55.000000</td>\n",
              "    </tr>\n",
              "    <tr>\n",
              "      <th>max</th>\n",
              "      <td>87000.000000</td>\n",
              "      <td>83.000000</td>\n",
              "    </tr>\n",
              "  </tbody>\n",
              "</table>\n",
              "</div>"
            ],
            "text/plain": [
              "             Income        Age\n",
              "count     29.000000  29.000000\n",
              "mean   38482.758621  46.793103\n",
              "std    27109.066340  16.967152\n",
              "min     5000.000000  18.000000\n",
              "25%     9000.000000  35.000000\n",
              "50%    35000.000000  42.000000\n",
              "75%    62000.000000  55.000000\n",
              "max    87000.000000  83.000000"
            ]
          },
          "metadata": {
            "tags": []
          },
          "execution_count": 23
        }
      ]
    },
    {
      "cell_type": "code",
      "metadata": {
        "id": "HjmNuprC3j3R",
        "colab": {
          "base_uri": "https://localhost:8080/",
          "height": 297
        },
        "outputId": "c971239f-65d6-4a4a-f5e8-5a02dec43e2c"
      },
      "source": [
        "disagree_white_nats.describe()"
      ],
      "execution_count": null,
      "outputs": [
        {
          "output_type": "execute_result",
          "data": {
            "text/html": [
              "<div>\n",
              "<style scoped>\n",
              "    .dataframe tbody tr th:only-of-type {\n",
              "        vertical-align: middle;\n",
              "    }\n",
              "\n",
              "    .dataframe tbody tr th {\n",
              "        vertical-align: top;\n",
              "    }\n",
              "\n",
              "    .dataframe thead th {\n",
              "        text-align: right;\n",
              "    }\n",
              "</style>\n",
              "<table border=\"1\" class=\"dataframe\">\n",
              "  <thead>\n",
              "    <tr style=\"text-align: right;\">\n",
              "      <th></th>\n",
              "      <th>Income</th>\n",
              "      <th>Age</th>\n",
              "    </tr>\n",
              "  </thead>\n",
              "  <tbody>\n",
              "    <tr>\n",
              "      <th>count</th>\n",
              "      <td>213.000000</td>\n",
              "      <td>213.000000</td>\n",
              "    </tr>\n",
              "    <tr>\n",
              "      <th>mean</th>\n",
              "      <td>80244.131455</td>\n",
              "      <td>46.596244</td>\n",
              "    </tr>\n",
              "    <tr>\n",
              "      <th>std</th>\n",
              "      <td>67636.908855</td>\n",
              "      <td>14.778120</td>\n",
              "    </tr>\n",
              "    <tr>\n",
              "      <th>min</th>\n",
              "      <td>5000.000000</td>\n",
              "      <td>18.000000</td>\n",
              "    </tr>\n",
              "    <tr>\n",
              "      <th>25%</th>\n",
              "      <td>30000.000000</td>\n",
              "      <td>37.000000</td>\n",
              "    </tr>\n",
              "    <tr>\n",
              "      <th>50%</th>\n",
              "      <td>56000.000000</td>\n",
              "      <td>42.000000</td>\n",
              "    </tr>\n",
              "    <tr>\n",
              "      <th>75%</th>\n",
              "      <td>121000.000000</td>\n",
              "      <td>57.000000</td>\n",
              "    </tr>\n",
              "    <tr>\n",
              "      <th>max</th>\n",
              "      <td>401000.000000</td>\n",
              "      <td>99.000000</td>\n",
              "    </tr>\n",
              "  </tbody>\n",
              "</table>\n",
              "</div>"
            ],
            "text/plain": [
              "              Income         Age\n",
              "count     213.000000  213.000000\n",
              "mean    80244.131455   46.596244\n",
              "std     67636.908855   14.778120\n",
              "min      5000.000000   18.000000\n",
              "25%     30000.000000   37.000000\n",
              "50%     56000.000000   42.000000\n",
              "75%    121000.000000   57.000000\n",
              "max    401000.000000   99.000000"
            ]
          },
          "metadata": {
            "tags": []
          },
          "execution_count": 24
        }
      ]
    },
    {
      "cell_type": "markdown",
      "metadata": {
        "id": "AZKyCMJXMSrt"
      },
      "source": [
        "There's clearly many MORE of the survey participants who DISAGREE with white nationalists. Although at first glance the mean income is much lower, but this might not mean anything considering it is unlikely it will be normally distributed. Let's look at the distributions for both Income and Age and perform a statistical test. "
      ]
    },
    {
      "cell_type": "markdown",
      "metadata": {
        "id": "L7TjHRQHK8xu"
      },
      "source": [
        "#### **Income**"
      ]
    },
    {
      "cell_type": "code",
      "metadata": {
        "id": "Ilwx9ewdrwxm",
        "colab": {
          "base_uri": "https://localhost:8080/",
          "height": 355
        },
        "outputId": "ff839567-8b80-4f62-cda4-91a0b39c18a1"
      },
      "source": [
        "# Let's look at these distributions based on income. \n",
        "\n",
        "plt.figure(figsize=(11,5))\n",
        "plt.hist(agree_white_nats['Income'], alpha = .5)\n",
        "plt.hist(disagree_white_nats['Income'], alpha = .5)\n",
        "plt.xlabel('Income')\n",
        "plt.title('Income Distributions for Those Who Self-Identify as Agreeing or Disagreeing with the Views of White Nationalists')\n",
        "plt.show()"
      ],
      "execution_count": null,
      "outputs": [
        {
          "output_type": "display_data",
          "data": {
            "image/png": "[encoded data removed]",
            "text/plain": [
              "<Figure size 792x360 with 1 Axes>"
            ]
          },
          "metadata": {
            "tags": [],
            "needs_background": "light"
          }
        }
      ]
    },
    {
      "cell_type": "markdown",
      "metadata": {
        "id": "a3AoGfMkE6Jj"
      },
      "source": [
        "It appears that MANY more people identify as disagreeing with white Nationalists over most incomes than those who agree. Though it does appear perhaps that those who say they agree may have a lower income.\n",
        "\n",
        "This is absolutely NOT normally distributed, and we are comparing two independent groups, so we will use the Kruskal-Wallis Test for non-parametric distributions. "
      ]
    },
    {
      "cell_type": "markdown",
      "metadata": {
        "id": "0Rpsh43dM9en"
      },
      "source": [
        "**Let's also take a look at the box plot**"
      ]
    },
    {
      "cell_type": "code",
      "metadata": {
        "id": "nYv6Xn9wMpDq",
        "colab": {
          "base_uri": "https://localhost:8080/",
          "height": 574
        },
        "outputId": "4a6d059c-2bae-4b40-903a-6a922307a608"
      },
      "source": [
        "plt.figure(figsize=(15,9))\n",
        "sns.boxplot(x=pulse_select_data['From what you have heard or seen, do you mostly agree or mostly disagree with the beliefs of White Nationalists?'],y=pulse_select_data['Income'])"
      ],
      "execution_count": null,
      "outputs": [
        {
          "output_type": "execute_result",
          "data": {
            "text/plain": [
              "<matplotlib.axes._subplots.AxesSubplot at 0x7fcdfabba160>"
            ]
          },
          "metadata": {
            "tags": []
          },
          "execution_count": 26
        },
        {
          "output_type": "display_data",
          "data": {
            "image/png": "[encoded data removed]",
            "text/plain": [
              "<Figure size 1080x648 with 1 Axes>"
            ]
          },
          "metadata": {
            "tags": [],
            "needs_background": "light"
          }
        }
      ]
    },
    {
      "cell_type": "markdown",
      "metadata": {
        "id": "rPDFFXNjNCf4"
      },
      "source": [
        "Based upon visual inspection, it does appear to me that the median income for those who disagree might be a bit higher, but we'll see what the statistical tests say. Even so, it's very clear that the upper quartile for those who disagree is MUCH higher than those who disagree, so regardless of what the statistical tests say, we could say that the range of Income for those who disagree with the views of white nationalists is MUCH larger, with a much higher maximum although a similar minimum, whereas the range of income for those who disagree is much smaller, with a much lower maximum although a similar minimum. "
      ]
    },
    {
      "cell_type": "markdown",
      "metadata": {
        "id": "byrY9I8nSAWB"
      },
      "source": [
        "**Kruskal-Wallis Test**"
      ]
    },
    {
      "cell_type": "code",
      "metadata": {
        "id": "VSgVeKfhFNmy",
        "colab": {
          "base_uri": "https://localhost:8080/"
        },
        "outputId": "a8d3a5b9-d1c1-4498-c8fc-c399ebca3202"
      },
      "source": [
        "stats.kruskal(agree_white_nats['Income'], disagree_white_nats['Income'])"
      ],
      "execution_count": null,
      "outputs": [
        {
          "output_type": "execute_result",
          "data": {
            "text/plain": [
              "KruskalResult(statistic=11.427613841080918, pvalue=0.0007236055567516745)"
            ]
          },
          "metadata": {
            "tags": []
          },
          "execution_count": 27
        }
      ]
    },
    {
      "cell_type": "markdown",
      "metadata": {
        "id": "5muw0HsCFwq5"
      },
      "source": [
        "Interesting! Looking at the p-value, as it is less than 0.05, the data seems to suggest that there is a difference in the income distribution between those who identify as agreeing with the views of white nationalists and those who identify in disagreeing with the views of white nationalists. \n",
        "\n",
        "We'll do a median test as further analysis."
      ]
    },
    {
      "cell_type": "markdown",
      "metadata": {
        "id": "sb1K1_ysSFfz"
      },
      "source": [
        "**Mood's Median Test**"
      ]
    },
    {
      "cell_type": "code",
      "metadata": {
        "id": "CzjwH63FHQ02"
      },
      "source": [
        "stat, p, med, tbl = stats.median_test(agree_white_nats['Income'],disagree_white_nats['Income'])"
      ],
      "execution_count": null,
      "outputs": []
    },
    {
      "cell_type": "code",
      "metadata": {
        "id": "Zu8dJeF2JKWy",
        "colab": {
          "base_uri": "https://localhost:8080/"
        },
        "outputId": "b54bfe47-68cb-4287-d3e6-d30b3d9870db"
      },
      "source": [
        "print(f'Our p-value for the median test here is {p}, and our grand median is {med}.')"
      ],
      "execution_count": null,
      "outputs": [
        {
          "output_type": "stream",
          "text": [
            "Our p-value for the median test here is 0.1365419583787483, and our grand median is 53000.0.\n"
          ],
          "name": "stdout"
        }
      ]
    },
    {
      "cell_type": "markdown",
      "metadata": {
        "id": "vPs-pSXzKK_a"
      },
      "source": [
        "Although our p-value for the Kruskal-Wallis test was less than alpha = 0.05, upon further analysis with Mood's Median Test, we found a test statistic of 0.1365, which does not provide enough evidence to allow us to reject the null hypothesis that there is no difference in income levels between those who agree with white nationalists and those who do not. \n",
        "\n",
        "**Here we fail to reject the null hypothesis.**"
      ]
    },
    {
      "cell_type": "markdown",
      "metadata": {
        "id": "HMG01eL6K_aA"
      },
      "source": [
        "#### **Age**"
      ]
    },
    {
      "cell_type": "markdown",
      "metadata": {
        "id": "m4WYT28ZK3IN"
      },
      "source": [
        "Let's look at any differences in age distribution."
      ]
    },
    {
      "cell_type": "code",
      "metadata": {
        "id": "Jh54ixcJwKmy",
        "colab": {
          "base_uri": "https://localhost:8080/",
          "height": 355
        },
        "outputId": "2791b402-45e4-4fed-f88f-8769c3979751"
      },
      "source": [
        "plt.figure(figsize=(11,5))\n",
        "plt.hist(agree_white_nats['Age'], alpha = .5)\n",
        "plt.hist(disagree_white_nats['Age'], alpha = .5)\n",
        "plt.xlabel('Age')\n",
        "plt.title('Age Distributions for Those Who Self-Identify as Agreeing or Disagreeing with the Views of White Nationalists')\n",
        "plt.show()"
      ],
      "execution_count": null,
      "outputs": [
        {
          "output_type": "display_data",
          "data": {
            "image/png": "[encoded data removed]",
            "text/plain": [
              "<Figure size 792x360 with 1 Axes>"
            ]
          },
          "metadata": {
            "tags": [],
            "needs_background": "light"
          }
        }
      ]
    },
    {
      "cell_type": "markdown",
      "metadata": {
        "id": "tWMEtBjULEsj"
      },
      "source": [
        "These might actually be normally distributed, so let's formally test for normality."
      ]
    },
    {
      "cell_type": "code",
      "metadata": {
        "id": "AvlqL16xLI6o",
        "colab": {
          "base_uri": "https://localhost:8080/"
        },
        "outputId": "c4e06a6c-e9ee-489a-c2fb-111dc245a089"
      },
      "source": [
        "print(stats.describe(agree_white_nats['Age']))\n",
        "print(stats.describe(disagree_white_nats['Age']))"
      ],
      "execution_count": null,
      "outputs": [
        {
          "output_type": "stream",
          "text": [
            "DescribeResult(nobs=29, minmax=(18, 83), mean=46.793103448275865, variance=287.88423645320194, skewness=0.3193518245728524, kurtosis=-0.6683514093301115)\n",
            "DescribeResult(nobs=213, minmax=(18, 99), mean=46.5962441314554, variance=218.39281601559037, skewness=0.8575150711402625, kurtosis=0.3629173889352968)\n"
          ],
          "name": "stdout"
        }
      ]
    },
    {
      "cell_type": "markdown",
      "metadata": {
        "id": "gYRHhnVrPJmI"
      },
      "source": [
        "It looks as if based on skewness and kurtosis that these distributions might be normal. Let's check with a Shapiro-Wilks test."
      ]
    },
    {
      "cell_type": "code",
      "metadata": {
        "id": "vB_5RwMvO1WZ",
        "colab": {
          "base_uri": "https://localhost:8080/"
        },
        "outputId": "830b5941-58e3-4b3e-80b1-f3debfa3d845"
      },
      "source": [
        "print(stats.shapiro(agree_white_nats['Age']))\n",
        "print(stats.shapiro(disagree_white_nats['Age']))"
      ],
      "execution_count": null,
      "outputs": [
        {
          "output_type": "stream",
          "text": [
            "(0.9679853320121765, 0.5064138174057007)\n",
            "(0.9263380169868469, 7.602651841409624e-09)\n"
          ],
          "name": "stdout"
        }
      ]
    },
    {
      "cell_type": "markdown",
      "metadata": {
        "id": "XHFiCbZTRN_b"
      },
      "source": [
        "Alas, our hopes for normality are dashed. Although it appears that perhaps the first distribution (that of the income of those who agree with white nationalists) may be normal, in that the test statistic is close to 1 and the p-value is above 0.5, it appears that the second is not, considering that the p-value being almost zero indicates non-normality whith in a 95% confidence interval.\n",
        "\n",
        "Therefore, we will use non-parametric statistical tests, namely, the Kruskal-Wallis and the Mood's Median Test once again. "
      ]
    },
    {
      "cell_type": "markdown",
      "metadata": {
        "id": "NHdo1pBxNpI1"
      },
      "source": [
        "Let's also look at a box plot for this data."
      ]
    },
    {
      "cell_type": "code",
      "metadata": {
        "id": "LyEdfNjBN1Jj",
        "colab": {
          "base_uri": "https://localhost:8080/",
          "height": 574
        },
        "outputId": "f2d25534-2cfd-4d9c-8440-029402d13e3b"
      },
      "source": [
        "plt.figure(figsize=(15,9))\n",
        "sns.boxplot(x=pulse_select_data['From what you have heard or seen, do you mostly agree or mostly disagree with the beliefs of White Nationalists?'],y=pulse_select_data['Age'])"
      ],
      "execution_count": null,
      "outputs": [
        {
          "output_type": "execute_result",
          "data": {
            "text/plain": [
              "<matplotlib.axes._subplots.AxesSubplot at 0x7fcdf9659048>"
            ]
          },
          "metadata": {
            "tags": []
          },
          "execution_count": 33
        },
        {
          "output_type": "display_data",
          "data": {
            "image/png": "[encoded data removed]",
            "text/plain": [
              "<Figure size 1080x648 with 1 Axes>"
            ]
          },
          "metadata": {
            "tags": [],
            "needs_background": "light"
          }
        }
      ]
    },
    {
      "cell_type": "markdown",
      "metadata": {
        "id": "qlD8DEfWN4g_"
      },
      "source": [
        "All three box plots for this data look very similar. I suspect we will fail to reject the null hypothesis based on these statistical tests."
      ]
    },
    {
      "cell_type": "markdown",
      "metadata": {
        "id": "ifjB1oxWRv1U"
      },
      "source": [
        "**Kruskal-Wallis Test**"
      ]
    },
    {
      "cell_type": "code",
      "metadata": {
        "id": "yCDXY3rzRqsC",
        "colab": {
          "base_uri": "https://localhost:8080/"
        },
        "outputId": "c5a162c9-3cf5-4aff-d0bf-20b33523493b"
      },
      "source": [
        "stats.kruskal(agree_white_nats['Age'], disagree_white_nats['Age'])"
      ],
      "execution_count": null,
      "outputs": [
        {
          "output_type": "execute_result",
          "data": {
            "text/plain": [
              "KruskalResult(statistic=0.010664876886412582, pvalue=0.9177479778472055)"
            ]
          },
          "metadata": {
            "tags": []
          },
          "execution_count": 34
        }
      ]
    },
    {
      "cell_type": "markdown",
      "metadata": {
        "id": "ev-P4pdaSLN1"
      },
      "source": [
        "Already we can see that the p=value is much higher than 0.05, and therefore another test is not necessary.\n",
        "\n",
        "**We once again fail to reject the null hypothesis that there is any meaningful age difference between those who agree with white nationalists and those who do not agree with white nationalists within this sample.**"
      ]
    },
    {
      "cell_type": "code",
      "metadata": {
        "id": "EWIPb63OSwCH",
        "colab": {
          "base_uri": "https://localhost:8080/"
        },
        "outputId": "0e3a5c4b-5c28-4419-cc11-a426e4659895"
      },
      "source": [
        "agree_percentage = agree_white_nats.shape[0] / pulse_select_data.shape[0]\n",
        "agree_percentage"
      ],
      "execution_count": null,
      "outputs": [
        {
          "output_type": "execute_result",
          "data": {
            "text/plain": [
              "0.09666666666666666"
            ]
          },
          "metadata": {
            "tags": []
          },
          "execution_count": 35
        }
      ]
    },
    {
      "cell_type": "markdown",
      "metadata": {
        "id": "GjCHWj47TrTx"
      },
      "source": [
        "Even so, it appears that almost 10% of those surveyed identify as agreeing with the views of white nationalists, which perhaps still feels uncomfortably high. "
      ]
    },
    {
      "cell_type": "markdown",
      "metadata": {
        "id": "DFp7wNxR9veu"
      },
      "source": [
        "### 2. Do you think that government policies should help those who are poor and struggling in America?"
      ]
    },
    {
      "cell_type": "markdown",
      "metadata": {
        "id": "htDCzV-I7VTK"
      },
      "source": [
        "#### **Separating the Data into Groups**"
      ]
    },
    {
      "cell_type": "code",
      "metadata": {
        "id": "nLYO-Tc0r7U_"
      },
      "source": [
        "help_poor_people = pulse_select_data[pulse_select_data['Do you think that government policies should help those who are poor and struggling in America?'] == 'Yes']\n",
        "dont_help_poor_people = pulse_select_data[pulse_select_data['Do you think that government policies should help those who are poor and struggling in America?'] == 'No']"
      ],
      "execution_count": null,
      "outputs": []
    },
    {
      "cell_type": "markdown",
      "metadata": {
        "id": "DWa1-1hpODSy"
      },
      "source": [
        "Let's look at descriptions of this data for both Income and Age for both groups:"
      ]
    },
    {
      "cell_type": "code",
      "metadata": {
        "id": "NkaMbDerOKj1",
        "colab": {
          "base_uri": "https://localhost:8080/",
          "height": 297
        },
        "outputId": "44ab9fbf-df02-4fbb-f64f-b9084b44e100"
      },
      "source": [
        "help_poor_people.describe()"
      ],
      "execution_count": null,
      "outputs": [
        {
          "output_type": "execute_result",
          "data": {
            "text/html": [
              "<div>\n",
              "<style scoped>\n",
              "    .dataframe tbody tr th:only-of-type {\n",
              "        vertical-align: middle;\n",
              "    }\n",
              "\n",
              "    .dataframe tbody tr th {\n",
              "        vertical-align: top;\n",
              "    }\n",
              "\n",
              "    .dataframe thead th {\n",
              "        text-align: right;\n",
              "    }\n",
              "</style>\n",
              "<table border=\"1\" class=\"dataframe\">\n",
              "  <thead>\n",
              "    <tr style=\"text-align: right;\">\n",
              "      <th></th>\n",
              "      <th>Income</th>\n",
              "      <th>Age</th>\n",
              "    </tr>\n",
              "  </thead>\n",
              "  <tbody>\n",
              "    <tr>\n",
              "      <th>count</th>\n",
              "      <td>254.000000</td>\n",
              "      <td>254.000000</td>\n",
              "    </tr>\n",
              "    <tr>\n",
              "      <th>mean</th>\n",
              "      <td>72578.740157</td>\n",
              "      <td>45.811024</td>\n",
              "    </tr>\n",
              "    <tr>\n",
              "      <th>std</th>\n",
              "      <td>63073.767127</td>\n",
              "      <td>14.594781</td>\n",
              "    </tr>\n",
              "    <tr>\n",
              "      <th>min</th>\n",
              "      <td>5000.000000</td>\n",
              "      <td>18.000000</td>\n",
              "    </tr>\n",
              "    <tr>\n",
              "      <th>25%</th>\n",
              "      <td>27000.000000</td>\n",
              "      <td>36.000000</td>\n",
              "    </tr>\n",
              "    <tr>\n",
              "      <th>50%</th>\n",
              "      <td>53000.000000</td>\n",
              "      <td>42.000000</td>\n",
              "    </tr>\n",
              "    <tr>\n",
              "      <th>75%</th>\n",
              "      <td>102500.000000</td>\n",
              "      <td>54.750000</td>\n",
              "    </tr>\n",
              "    <tr>\n",
              "      <th>max</th>\n",
              "      <td>401000.000000</td>\n",
              "      <td>90.000000</td>\n",
              "    </tr>\n",
              "  </tbody>\n",
              "</table>\n",
              "</div>"
            ],
            "text/plain": [
              "              Income         Age\n",
              "count     254.000000  254.000000\n",
              "mean    72578.740157   45.811024\n",
              "std     63073.767127   14.594781\n",
              "min      5000.000000   18.000000\n",
              "25%     27000.000000   36.000000\n",
              "50%     53000.000000   42.000000\n",
              "75%    102500.000000   54.750000\n",
              "max    401000.000000   90.000000"
            ]
          },
          "metadata": {
            "tags": []
          },
          "execution_count": 37
        }
      ]
    },
    {
      "cell_type": "code",
      "metadata": {
        "id": "T_T493YHON6B",
        "colab": {
          "base_uri": "https://localhost:8080/",
          "height": 297
        },
        "outputId": "16f7988e-e940-4565-b332-f1f1111c7451"
      },
      "source": [
        "dont_help_poor_people.describe()"
      ],
      "execution_count": null,
      "outputs": [
        {
          "output_type": "execute_result",
          "data": {
            "text/html": [
              "<div>\n",
              "<style scoped>\n",
              "    .dataframe tbody tr th:only-of-type {\n",
              "        vertical-align: middle;\n",
              "    }\n",
              "\n",
              "    .dataframe tbody tr th {\n",
              "        vertical-align: top;\n",
              "    }\n",
              "\n",
              "    .dataframe thead th {\n",
              "        text-align: right;\n",
              "    }\n",
              "</style>\n",
              "<table border=\"1\" class=\"dataframe\">\n",
              "  <thead>\n",
              "    <tr style=\"text-align: right;\">\n",
              "      <th></th>\n",
              "      <th>Income</th>\n",
              "      <th>Age</th>\n",
              "    </tr>\n",
              "  </thead>\n",
              "  <tbody>\n",
              "    <tr>\n",
              "      <th>count</th>\n",
              "      <td>38.000000</td>\n",
              "      <td>38.000000</td>\n",
              "    </tr>\n",
              "    <tr>\n",
              "      <th>mean</th>\n",
              "      <td>77315.789474</td>\n",
              "      <td>48.157895</td>\n",
              "    </tr>\n",
              "    <tr>\n",
              "      <th>std</th>\n",
              "      <td>54228.797208</td>\n",
              "      <td>16.132100</td>\n",
              "    </tr>\n",
              "    <tr>\n",
              "      <th>min</th>\n",
              "      <td>9000.000000</td>\n",
              "      <td>19.000000</td>\n",
              "    </tr>\n",
              "    <tr>\n",
              "      <th>25%</th>\n",
              "      <td>37000.000000</td>\n",
              "      <td>37.000000</td>\n",
              "    </tr>\n",
              "    <tr>\n",
              "      <th>50%</th>\n",
              "      <td>67500.000000</td>\n",
              "      <td>44.000000</td>\n",
              "    </tr>\n",
              "    <tr>\n",
              "      <th>75%</th>\n",
              "      <td>110500.000000</td>\n",
              "      <td>60.750000</td>\n",
              "    </tr>\n",
              "    <tr>\n",
              "      <th>max</th>\n",
              "      <td>236000.000000</td>\n",
              "      <td>82.000000</td>\n",
              "    </tr>\n",
              "  </tbody>\n",
              "</table>\n",
              "</div>"
            ],
            "text/plain": [
              "              Income        Age\n",
              "count      38.000000  38.000000\n",
              "mean    77315.789474  48.157895\n",
              "std     54228.797208  16.132100\n",
              "min      9000.000000  19.000000\n",
              "25%     37000.000000  37.000000\n",
              "50%     67500.000000  44.000000\n",
              "75%    110500.000000  60.750000\n",
              "max    236000.000000  82.000000"
            ]
          },
          "metadata": {
            "tags": []
          },
          "execution_count": 38
        }
      ]
    },
    {
      "cell_type": "markdown",
      "metadata": {
        "id": "-6Ql9blgORyL"
      },
      "source": [
        "Much less people think that the government should not help poor people, but the means of income and age look relatively similar. Its possible that income and age has little to do with these distributions, lets formally test. "
      ]
    },
    {
      "cell_type": "markdown",
      "metadata": {
        "id": "6PpzGjG9zTPc"
      },
      "source": [
        "#### **Income**"
      ]
    },
    {
      "cell_type": "code",
      "metadata": {
        "id": "0XMssXDmsjK8",
        "colab": {
          "base_uri": "https://localhost:8080/",
          "height": 355
        },
        "outputId": "12431651-6276-43ce-d7dd-ec6f4d4b09a5"
      },
      "source": [
        "plt.figure(figsize=(11,5))\n",
        "plt.hist(help_poor_people['Income'], alpha = .5)\n",
        "plt.hist(dont_help_poor_people['Income'], alpha = .5)\n",
        "plt.xlabel('Income')\n",
        "plt.title('Income Distributions for Those Who Believe the Government Should or Should Not Help Those Who Are Poor and Struggling in America')\n",
        "plt.show()"
      ],
      "execution_count": null,
      "outputs": [
        {
          "output_type": "display_data",
          "data": {
            "image/png": "[encoded data removed]",
            "text/plain": [
              "<Figure size 792x360 with 1 Axes>"
            ]
          },
          "metadata": {
            "tags": [],
            "needs_background": "light"
          }
        }
      ]
    },
    {
      "cell_type": "markdown",
      "metadata": {
        "id": "vEc4sbJ02tpb"
      },
      "source": [
        "This is clearly not normally distributed so we'll use the Kruskal-Wallis Test to determine if the distributions are any different.\n",
        "\n",
        "Let's also look at a box plot:"
      ]
    },
    {
      "cell_type": "code",
      "metadata": {
        "id": "aPOZSAbUOf3-",
        "colab": {
          "base_uri": "https://localhost:8080/",
          "height": 574
        },
        "outputId": "d412f32c-0ef2-43a0-b1a1-a61219d82faf"
      },
      "source": [
        "plt.figure(figsize=(15,9))\n",
        "sns.boxplot(x=pulse_select_data['Do you think that government policies should help those who are poor and struggling in America?'],y=pulse_select_data['Income'])"
      ],
      "execution_count": null,
      "outputs": [
        {
          "output_type": "execute_result",
          "data": {
            "text/plain": [
              "<matplotlib.axes._subplots.AxesSubplot at 0x7fcdf943da58>"
            ]
          },
          "metadata": {
            "tags": []
          },
          "execution_count": 40
        },
        {
          "output_type": "display_data",
          "data": {
            "image/png": "[encoded data removed]",
            "text/plain": [
              "<Figure size 1080x648 with 1 Axes>"
            ]
          },
          "metadata": {
            "tags": [],
            "needs_background": "light"
          }
        }
      ]
    },
    {
      "cell_type": "markdown",
      "metadata": {
        "id": "lQ4bxZzQOuwa"
      },
      "source": [
        "The box plots for Yes and No look quite similar. "
      ]
    },
    {
      "cell_type": "markdown",
      "metadata": {
        "id": "b__gDyGi4tKM"
      },
      "source": [
        "**Kruskal-Wallis**"
      ]
    },
    {
      "cell_type": "code",
      "metadata": {
        "id": "722bhTHP2khP",
        "colab": {
          "base_uri": "https://localhost:8080/"
        },
        "outputId": "f183959d-be83-427d-9292-5a81d143fd0b"
      },
      "source": [
        "stats.kruskal(help_poor_people['Income'],dont_help_poor_people['Income'])"
      ],
      "execution_count": null,
      "outputs": [
        {
          "output_type": "execute_result",
          "data": {
            "text/plain": [
              "KruskalResult(statistic=1.0545888111872836, pvalue=0.3044526044719943)"
            ]
          },
          "metadata": {
            "tags": []
          },
          "execution_count": 41
        }
      ]
    },
    {
      "cell_type": "markdown",
      "metadata": {
        "id": "q3CXqnVF5AMX"
      },
      "source": [
        "Considering the p-value is ~0.3, which is much higher than 0.05, it appears that there is little evidence that would allow us to reject the null hypothesis that there is no difference between incomes of those who surveyed that government policies should people who are poor and struggling in the US. \n",
        "\n",
        "**We fail to reject the null hypothesis that there is any meaningful difference in income between those who believe that government policies should help those who are poor and struggling in the US and those who do not.**"
      ]
    },
    {
      "cell_type": "markdown",
      "metadata": {
        "id": "FYKzeNW35cRG"
      },
      "source": [
        "#### **Age**"
      ]
    },
    {
      "cell_type": "code",
      "metadata": {
        "id": "n_BBtm7bwPnN",
        "colab": {
          "base_uri": "https://localhost:8080/",
          "height": 355
        },
        "outputId": "3978d199-7e97-45fa-d745-30514b610158"
      },
      "source": [
        "plt.figure(figsize=(11,5))\n",
        "plt.hist(help_poor_people['Age'], alpha = .5)\n",
        "plt.hist(dont_help_poor_people['Age'], alpha = .5)\n",
        "plt.xlabel('Age')\n",
        "plt.title('Age Distributions for Those Who Believe the Government Should or Should Not Help Those Who Are Poor and Struggling in America')\n",
        "plt.show()"
      ],
      "execution_count": null,
      "outputs": [
        {
          "output_type": "display_data",
          "data": {
            "image/png": "[encoded data removed]",
            "text/plain": [
              "<Figure size 792x360 with 1 Axes>"
            ]
          },
          "metadata": {
            "tags": [],
            "needs_background": "light"
          }
        }
      ]
    },
    {
      "cell_type": "markdown",
      "metadata": {
        "id": "UmdMGS-SPjmF"
      },
      "source": [
        "Let's also look at a box plot. "
      ]
    },
    {
      "cell_type": "code",
      "metadata": {
        "id": "PDR5rs9aPnbA",
        "colab": {
          "base_uri": "https://localhost:8080/",
          "height": 574
        },
        "outputId": "b1886182-9c89-4467-e684-75fed5684384"
      },
      "source": [
        "plt.figure(figsize=(15,9))\n",
        "sns.boxplot(x=pulse_select_data['Do you think that government policies should help those who are poor and struggling in America?'],y=pulse_select_data['Age'])"
      ],
      "execution_count": null,
      "outputs": [
        {
          "output_type": "execute_result",
          "data": {
            "text/plain": [
              "<matplotlib.axes._subplots.AxesSubplot at 0x7fcdf92ee5c0>"
            ]
          },
          "metadata": {
            "tags": []
          },
          "execution_count": 43
        },
        {
          "output_type": "display_data",
          "data": {
            "image/png": "[encoded data removed]",
            "text/plain": [
              "<Figure size 1080x648 with 1 Axes>"
            ]
          },
          "metadata": {
            "tags": [],
            "needs_background": "light"
          }
        }
      ]
    },
    {
      "cell_type": "markdown",
      "metadata": {
        "id": "y_qakPivQL_L"
      },
      "source": [
        "These box plots for Yes or No look quite similar with perhaps a SLIGHTLY higher median age for those who do not think that the government should hlpe those who are poor or struggling."
      ]
    },
    {
      "cell_type": "markdown",
      "metadata": {
        "id": "LxfpKYub5hV3"
      },
      "source": [
        "Let's test for normality."
      ]
    },
    {
      "cell_type": "code",
      "metadata": {
        "id": "7mHH3gsQ5kLS",
        "colab": {
          "base_uri": "https://localhost:8080/"
        },
        "outputId": "4f644a59-fe70-42a6-8fa4-5f79ec7e4587"
      },
      "source": [
        "print(stats.describe(help_poor_people['Age']))\n",
        "print(stats.describe(dont_help_poor_people['Age']))"
      ],
      "execution_count": null,
      "outputs": [
        {
          "output_type": "stream",
          "text": [
            "DescribeResult(nobs=254, minmax=(18, 90), mean=45.811023622047244, variance=213.00762503501292, skewness=0.7133131508737574, kurtosis=0.03643296185939837)\n",
            "DescribeResult(nobs=38, minmax=(19, 82), mean=48.1578947368421, variance=260.2446657183499, skewness=0.47641602283506546, kurtosis=-0.7838085207141767)\n"
          ],
          "name": "stdout"
        }
      ]
    },
    {
      "cell_type": "markdown",
      "metadata": {
        "id": "ZmLQvT9U5t7j"
      },
      "source": [
        "Values for skewness and kurtosis suggest normality. Let's check the Shapiro Wilks Test to be certain."
      ]
    },
    {
      "cell_type": "code",
      "metadata": {
        "id": "KplliBQe5z8u",
        "colab": {
          "base_uri": "https://localhost:8080/"
        },
        "outputId": "075b2d46-48dc-4df4-f23c-5226fd23b214"
      },
      "source": [
        "print(stats.shapiro(help_poor_people['Age']))\n",
        "print(stats.shapiro(dont_help_poor_people['Age']))"
      ],
      "execution_count": null,
      "outputs": [
        {
          "output_type": "stream",
          "text": [
            "(0.9393529891967773, 9.79036052228821e-09)\n",
            "(0.940896213054657, 0.044795919209718704)\n"
          ],
          "name": "stdout"
        }
      ]
    },
    {
      "cell_type": "markdown",
      "metadata": {
        "id": "07yWvMKE57Zh"
      },
      "source": [
        "Both p-values are lower than 0.5, so these distributions are non-normal within a 95% confidence interval. We'll use a Kruskal-Wallis test again to differentiate between these two groups."
      ]
    },
    {
      "cell_type": "markdown",
      "metadata": {
        "id": "GauV2sFXO6GY"
      },
      "source": [
        "**Kruskal-Wallis**"
      ]
    },
    {
      "cell_type": "code",
      "metadata": {
        "id": "tzlf6BIM6OFd",
        "colab": {
          "base_uri": "https://localhost:8080/"
        },
        "outputId": "3df46655-f810-44df-9d6f-93354360977d"
      },
      "source": [
        "stats.kruskal(help_poor_people['Age'], dont_help_poor_people['Age'])"
      ],
      "execution_count": null,
      "outputs": [
        {
          "output_type": "execute_result",
          "data": {
            "text/plain": [
              "KruskalResult(statistic=0.5894953112219098, pvalue=0.4426143451155501)"
            ]
          },
          "metadata": {
            "tags": []
          },
          "execution_count": 46
        }
      ]
    },
    {
      "cell_type": "markdown",
      "metadata": {
        "id": "J_2laES56T3g"
      },
      "source": [
        "Given that the p-value is .44, much larger than 0.05, we'll determine that there is not enough evidence to reject the null hypothesis.\n",
        "\n",
        "**We once again fail to reject the null hypothesis that there is any meaningful difference in age between those who believe that government policies should help those who are poor and struggling in the US and those who do not.**"
      ]
    },
    {
      "cell_type": "markdown",
      "metadata": {
        "id": "Uz5hgTOs9-uv"
      },
      "source": [
        "### 3. Do you think that most white people in America are racist?"
      ]
    },
    {
      "cell_type": "markdown",
      "metadata": {
        "id": "zTI4Fa3X7ZlA"
      },
      "source": [
        "#### **Separating the Data into Groups**"
      ]
    },
    {
      "cell_type": "code",
      "metadata": {
        "id": "7Ym667QPsoO-"
      },
      "source": [
        "whites_are_racist = pulse_select_data[pulse_select_data['Do you think that most white people in America are racist?'] == 'Yes']\n",
        "whites_are_not_racist = pulse_select_data[pulse_select_data['Do you think that most white people in America are racist?'] == 'No']"
      ],
      "execution_count": null,
      "outputs": []
    },
    {
      "cell_type": "markdown",
      "metadata": {
        "id": "qoxirzTOQ74m"
      },
      "source": [
        "Let's take a look at basic stats for these groups."
      ]
    },
    {
      "cell_type": "code",
      "metadata": {
        "id": "dmDNfgN5RCQk",
        "colab": {
          "base_uri": "https://localhost:8080/",
          "height": 297
        },
        "outputId": "6090ef89-2f2a-415a-edd3-3a1ee59e2eb6"
      },
      "source": [
        "whites_are_racist.describe()"
      ],
      "execution_count": null,
      "outputs": [
        {
          "output_type": "execute_result",
          "data": {
            "text/html": [
              "<div>\n",
              "<style scoped>\n",
              "    .dataframe tbody tr th:only-of-type {\n",
              "        vertical-align: middle;\n",
              "    }\n",
              "\n",
              "    .dataframe tbody tr th {\n",
              "        vertical-align: top;\n",
              "    }\n",
              "\n",
              "    .dataframe thead th {\n",
              "        text-align: right;\n",
              "    }\n",
              "</style>\n",
              "<table border=\"1\" class=\"dataframe\">\n",
              "  <thead>\n",
              "    <tr style=\"text-align: right;\">\n",
              "      <th></th>\n",
              "      <th>Income</th>\n",
              "      <th>Age</th>\n",
              "    </tr>\n",
              "  </thead>\n",
              "  <tbody>\n",
              "    <tr>\n",
              "      <th>count</th>\n",
              "      <td>56.000000</td>\n",
              "      <td>56.000000</td>\n",
              "    </tr>\n",
              "    <tr>\n",
              "      <th>mean</th>\n",
              "      <td>55553.571429</td>\n",
              "      <td>48.107143</td>\n",
              "    </tr>\n",
              "    <tr>\n",
              "      <th>std</th>\n",
              "      <td>47354.339205</td>\n",
              "      <td>17.420655</td>\n",
              "    </tr>\n",
              "    <tr>\n",
              "      <th>min</th>\n",
              "      <td>5000.000000</td>\n",
              "      <td>18.000000</td>\n",
              "    </tr>\n",
              "    <tr>\n",
              "      <th>25%</th>\n",
              "      <td>24000.000000</td>\n",
              "      <td>35.750000</td>\n",
              "    </tr>\n",
              "    <tr>\n",
              "      <th>50%</th>\n",
              "      <td>43500.000000</td>\n",
              "      <td>45.500000</td>\n",
              "    </tr>\n",
              "    <tr>\n",
              "      <th>75%</th>\n",
              "      <td>68000.000000</td>\n",
              "      <td>63.250000</td>\n",
              "    </tr>\n",
              "    <tr>\n",
              "      <th>max</th>\n",
              "      <td>227000.000000</td>\n",
              "      <td>83.000000</td>\n",
              "    </tr>\n",
              "  </tbody>\n",
              "</table>\n",
              "</div>"
            ],
            "text/plain": [
              "              Income        Age\n",
              "count      56.000000  56.000000\n",
              "mean    55553.571429  48.107143\n",
              "std     47354.339205  17.420655\n",
              "min      5000.000000  18.000000\n",
              "25%     24000.000000  35.750000\n",
              "50%     43500.000000  45.500000\n",
              "75%     68000.000000  63.250000\n",
              "max    227000.000000  83.000000"
            ]
          },
          "metadata": {
            "tags": []
          },
          "execution_count": 48
        }
      ]
    },
    {
      "cell_type": "code",
      "metadata": {
        "id": "BEUGTjlaRFf1",
        "colab": {
          "base_uri": "https://localhost:8080/",
          "height": 297
        },
        "outputId": "697525a6-63e3-475c-99e4-820e02359044"
      },
      "source": [
        "whites_are_not_racist.describe()"
      ],
      "execution_count": null,
      "outputs": [
        {
          "output_type": "execute_result",
          "data": {
            "text/html": [
              "<div>\n",
              "<style scoped>\n",
              "    .dataframe tbody tr th:only-of-type {\n",
              "        vertical-align: middle;\n",
              "    }\n",
              "\n",
              "    .dataframe tbody tr th {\n",
              "        vertical-align: top;\n",
              "    }\n",
              "\n",
              "    .dataframe thead th {\n",
              "        text-align: right;\n",
              "    }\n",
              "</style>\n",
              "<table border=\"1\" class=\"dataframe\">\n",
              "  <thead>\n",
              "    <tr style=\"text-align: right;\">\n",
              "      <th></th>\n",
              "      <th>Income</th>\n",
              "      <th>Age</th>\n",
              "    </tr>\n",
              "  </thead>\n",
              "  <tbody>\n",
              "    <tr>\n",
              "      <th>count</th>\n",
              "      <td>235.000000</td>\n",
              "      <td>235.000000</td>\n",
              "    </tr>\n",
              "    <tr>\n",
              "      <th>mean</th>\n",
              "      <td>78548.936170</td>\n",
              "      <td>45.868085</td>\n",
              "    </tr>\n",
              "    <tr>\n",
              "      <th>std</th>\n",
              "      <td>66570.962948</td>\n",
              "      <td>14.341815</td>\n",
              "    </tr>\n",
              "    <tr>\n",
              "      <th>min</th>\n",
              "      <td>5000.000000</td>\n",
              "      <td>18.000000</td>\n",
              "    </tr>\n",
              "    <tr>\n",
              "      <th>25%</th>\n",
              "      <td>30000.000000</td>\n",
              "      <td>36.500000</td>\n",
              "    </tr>\n",
              "    <tr>\n",
              "      <th>50%</th>\n",
              "      <td>57000.000000</td>\n",
              "      <td>42.000000</td>\n",
              "    </tr>\n",
              "    <tr>\n",
              "      <th>75%</th>\n",
              "      <td>114000.000000</td>\n",
              "      <td>53.000000</td>\n",
              "    </tr>\n",
              "    <tr>\n",
              "      <th>max</th>\n",
              "      <td>401000.000000</td>\n",
              "      <td>99.000000</td>\n",
              "    </tr>\n",
              "  </tbody>\n",
              "</table>\n",
              "</div>"
            ],
            "text/plain": [
              "              Income         Age\n",
              "count     235.000000  235.000000\n",
              "mean    78548.936170   45.868085\n",
              "std     66570.962948   14.341815\n",
              "min      5000.000000   18.000000\n",
              "25%     30000.000000   36.500000\n",
              "50%     57000.000000   42.000000\n",
              "75%    114000.000000   53.000000\n",
              "max    401000.000000   99.000000"
            ]
          },
          "metadata": {
            "tags": []
          },
          "execution_count": 49
        }
      ]
    },
    {
      "cell_type": "markdown",
      "metadata": {
        "id": "fTCPsLBNfah-"
      },
      "source": [
        "Certainly more people think that most people in the US do not believe that most whites are racist, but even upon first inpsection it does appear that these people have a higher average income and a higher max income. There does not appear to be any big difference in average age however."
      ]
    },
    {
      "cell_type": "markdown",
      "metadata": {
        "id": "QSswhFq_l8B7"
      },
      "source": [
        "#### **Income**"
      ]
    },
    {
      "cell_type": "code",
      "metadata": {
        "id": "jcspI5eEtDUU",
        "colab": {
          "base_uri": "https://localhost:8080/",
          "height": 355
        },
        "outputId": "bdc589d5-fdd5-4011-b83c-a06b32068168"
      },
      "source": [
        "# Plotting the distributions\n",
        "\n",
        "plt.figure(figsize=(11,5))\n",
        "plt.hist(whites_are_racist['Income'], alpha = .5)\n",
        "plt.hist(whites_are_not_racist['Income'], alpha = .5)\n",
        "plt.xlabel('Income')\n",
        "plt.title('Income Distributions for Those Who Believe Most White People in America are Racist')\n",
        "plt.show()"
      ],
      "execution_count": null,
      "outputs": [
        {
          "output_type": "display_data",
          "data": {
            "image/png": "[encoded data removed]",
            "text/plain": [
              "<Figure size 792x360 with 1 Axes>"
            ]
          },
          "metadata": {
            "tags": [],
            "needs_background": "light"
          }
        }
      ]
    },
    {
      "cell_type": "markdown",
      "metadata": {
        "id": "rNjsPEU4mvCD"
      },
      "source": [
        "This is certainly NOT normal. Let's use the Kruskal-Wallis test to compare these two independent groups.\n",
        "\n",
        "First lets look at a box plot of this data."
      ]
    },
    {
      "cell_type": "code",
      "metadata": {
        "id": "c7dPIUN9gYv0",
        "colab": {
          "base_uri": "https://localhost:8080/",
          "height": 574
        },
        "outputId": "3b739fcb-9fd2-4a50-f2b2-a5efd2678ee8"
      },
      "source": [
        "plt.figure(figsize=(15,9))\n",
        "sns.boxplot(x=pulse_select_data['Do you think that most white people in America are racist?'],y=pulse_select_data['Income'])"
      ],
      "execution_count": null,
      "outputs": [
        {
          "output_type": "execute_result",
          "data": {
            "text/plain": [
              "<matplotlib.axes._subplots.AxesSubplot at 0x7fcdf919cc18>"
            ]
          },
          "metadata": {
            "tags": []
          },
          "execution_count": 51
        },
        {
          "output_type": "display_data",
          "data": {
            "image/png": "[encoded data removed]",
            "text/plain": [
              "<Figure size 1080x648 with 1 Axes>"
            ]
          },
          "metadata": {
            "tags": [],
            "needs_background": "light"
          }
        }
      ]
    },
    {
      "cell_type": "markdown",
      "metadata": {
        "id": "f8X7d5SGghhE"
      },
      "source": [
        "Indeed, whereas the minimum is about the same for both 'Yes' and 'No', the median, and upper quartiles of those who answered \"No\", as well as the outliers, fall at a much higher income."
      ]
    },
    {
      "cell_type": "markdown",
      "metadata": {
        "id": "krKEC-EDm3jg"
      },
      "source": [
        "**Kruskal-Wallis and Median Test**"
      ]
    },
    {
      "cell_type": "code",
      "metadata": {
        "id": "ycAYsuA6m560",
        "colab": {
          "base_uri": "https://localhost:8080/"
        },
        "outputId": "2d58bf18-51e7-4b0c-df4f-c0bafc75d01c"
      },
      "source": [
        "stats.kruskal(whites_are_racist['Income'],whites_are_not_racist['Income'])"
      ],
      "execution_count": null,
      "outputs": [
        {
          "output_type": "execute_result",
          "data": {
            "text/plain": [
              "KruskalResult(statistic=5.3556267226603165, pvalue=0.0206555092066449)"
            ]
          },
          "metadata": {
            "tags": []
          },
          "execution_count": 52
        }
      ]
    },
    {
      "cell_type": "markdown",
      "metadata": {
        "id": "fcS43fDGnUs0"
      },
      "source": [
        "The p-value here, p=0.02, suggests a possible correlation. Let's use a median test to see if another test supports a distinction. "
      ]
    },
    {
      "cell_type": "code",
      "metadata": {
        "id": "1lAEoZHonhTN",
        "colab": {
          "base_uri": "https://localhost:8080/"
        },
        "outputId": "08177127-5b88-4393-8357-03ed01675a55"
      },
      "source": [
        "stats.median_test(whites_are_racist['Income'],whites_are_not_racist['Income'])"
      ],
      "execution_count": null,
      "outputs": [
        {
          "output_type": "execute_result",
          "data": {
            "text/plain": [
              "(4.848520526229265, 0.027669855609186618, 53000.0, array([[ 20, 125],\n",
              "        [ 36, 110]]))"
            ]
          },
          "metadata": {
            "tags": []
          },
          "execution_count": 53
        }
      ]
    },
    {
      "cell_type": "code",
      "metadata": {
        "id": "nyUziND9pdeL",
        "colab": {
          "base_uri": "https://localhost:8080/"
        },
        "outputId": "1ea9d751-d7b0-46fe-852c-de566336db5d"
      },
      "source": [
        "import statistics\n",
        "print(statistics.median(whites_are_racist['Income']))\n",
        "print(statistics.median(whites_are_not_racist['Income']))"
      ],
      "execution_count": null,
      "outputs": [
        {
          "output_type": "stream",
          "text": [
            "43500.0\n",
            "57000.0\n"
          ],
          "name": "stdout"
        }
      ]
    },
    {
      "cell_type": "markdown",
      "metadata": {
        "id": "lg44WBBep528"
      },
      "source": [
        "This is very interesting, it does appear that there is a difference in the groups supported by the p-values for both the Kruskal-Wallis Test and Mood's Median Test. \n",
        "\n",
        "**We reject the null hypothesis here, and say that evidence does support that there is a difference in income for those who believe that not all whites in the US are racist, in that the survey participants who answered this way will tend to have a higher income.**\n",
        "\n",
        "**Let's explore why this may be.**\n"
      ]
    },
    {
      "cell_type": "markdown",
      "metadata": {
        "id": "kQbNWut0hLKd"
      },
      "source": [
        "#### **Further Exploration on Income Differences**"
      ]
    },
    {
      "cell_type": "markdown",
      "metadata": {
        "id": "1bMoODCHhQ-Y"
      },
      "source": [
        "I did notice in the data upon initial inspection of the DataFrame that it may be the case that more people who did not identify as white may hold the opinion that \"all whites in the US are racist\". I wonder if this difference in income between those who hold this opinion might have to do with a difference in income between racial groups of those surveyed. Let's look deeper. "
      ]
    },
    {
      "cell_type": "code",
      "metadata": {
        "id": "v51KAFo2qreA"
      },
      "source": [
        "white = pulse_select_data[pulse_select_data['What is your race?'] == 'White']\n",
        "not_white = pulse_select_data[pulse_select_data['What is your race?'] != 'White']"
      ],
      "execution_count": null,
      "outputs": []
    },
    {
      "cell_type": "code",
      "metadata": {
        "id": "W1nCwa1prIwE",
        "colab": {
          "base_uri": "https://localhost:8080/",
          "height": 355
        },
        "outputId": "6b094337-8a64-4beb-f3ef-de5dada605f8"
      },
      "source": [
        "plt.figure(figsize=(11,5))\n",
        "plt.hist(white['Income'], alpha = .5)\n",
        "plt.hist(not_white['Income'], alpha = .5)\n",
        "plt.xlabel('Income')\n",
        "plt.title('Income Distributions for Those Surveyed Who Are White and Those Who Are Not White')\n",
        "plt.show()"
      ],
      "execution_count": null,
      "outputs": [
        {
          "output_type": "display_data",
          "data": {
            "image/png": "[encoded data removed]",
            "text/plain": [
              "<Figure size 792x360 with 1 Axes>"
            ]
          },
          "metadata": {
            "tags": [],
            "needs_background": "light"
          }
        }
      ]
    },
    {
      "cell_type": "code",
      "metadata": {
        "id": "xG7wMG59rXN4",
        "colab": {
          "base_uri": "https://localhost:8080/"
        },
        "outputId": "a96dc362-b104-43c8-e617-15ba85aa70c6"
      },
      "source": [
        "stats.kruskal(white['Income'],not_white['Income'])"
      ],
      "execution_count": null,
      "outputs": [
        {
          "output_type": "execute_result",
          "data": {
            "text/plain": [
              "KruskalResult(statistic=12.682973525946478, pvalue=0.0003690002878637396)"
            ]
          },
          "metadata": {
            "tags": []
          },
          "execution_count": 57
        }
      ]
    },
    {
      "cell_type": "code",
      "metadata": {
        "id": "DYnlxpQjrb9v",
        "colab": {
          "base_uri": "https://localhost:8080/"
        },
        "outputId": "963d8607-3b63-4e41-8e99-e09717a7d13e"
      },
      "source": [
        "stats.median_test(white['Income'],not_white['Income'])"
      ],
      "execution_count": null,
      "outputs": [
        {
          "output_type": "execute_result",
          "data": {
            "text/plain": [
              "(8.381226095695435, 0.0037911658345759973, 55000.0, array([[106,  43],\n",
              "        [ 82,  69]]))"
            ]
          },
          "metadata": {
            "tags": []
          },
          "execution_count": 58
        }
      ]
    },
    {
      "cell_type": "code",
      "metadata": {
        "id": "S3f43CGjrias",
        "colab": {
          "base_uri": "https://localhost:8080/"
        },
        "outputId": "cfa139db-26de-4e1e-8aef-2e4f695442f4"
      },
      "source": [
        "print(statistics.median(white['Income']))\n",
        "print(statistics.median(not_white['Income']))"
      ],
      "execution_count": null,
      "outputs": [
        {
          "output_type": "stream",
          "text": [
            "62500.0\n",
            "40000.0\n"
          ],
          "name": "stdout"
        }
      ]
    },
    {
      "cell_type": "markdown",
      "metadata": {
        "id": "v_Lq91gMrtVA"
      },
      "source": [
        "This is very interesting. \n",
        "\n",
        "The Kruskal-Wallis Test and Mood's Median Test suggested that *those who believe most whites in the US are racist* in general have a *lower income* than those who do not believe that most whites in the US are racist. \n",
        "\n",
        "The Kruskal-Wallis Test and Mood's Median Test also support that there is a difference in Income between those surveyed who are white and those surveyed who are not white. In general, *those surveyed who are white* have a *higher income* than those surveyed who are not white. \n",
        "\n",
        "It's possible that the difference in Income distributions for the belief of whether or not those surveyed who identify as white in the US are racist is ***informed by the differences in Income*** for those surveyed who are white and those surveyed who are not white. \n",
        "\n",
        "In brief, it's possible that because the median income for those surveyed who are not white is lower than the median income for those surveyed who are white, and the median income is lower for those who believe that all whites in the US are racist than the median incoem for those who do not believe that all whites in the US are racist, perhaps one's belief on that topic is informed by ones identification as white or not white. \n",
        "\n",
        "*In essense, if you are not white, you are more likely to believe that all whites in the US are racist.*\n",
        "\n",
        "**Let's look at some percentages on this topic.** "
      ]
    },
    {
      "cell_type": "code",
      "metadata": {
        "id": "rOXQm5ZztMGj",
        "colab": {
          "base_uri": "https://localhost:8080/"
        },
        "outputId": "e816c62f-7874-43a7-f204-6ae642eef895"
      },
      "source": [
        "pulse_select_data['Do you think that most white people in America are racist?'].value_counts()"
      ],
      "execution_count": null,
      "outputs": [
        {
          "output_type": "execute_result",
          "data": {
            "text/plain": [
              "No            235\n",
              "Yes            56\n",
              "Don't Know      9\n",
              "Name: Do you think that most white people in America are racist?, dtype: int64"
            ]
          },
          "metadata": {
            "tags": []
          },
          "execution_count": 60
        }
      ]
    },
    {
      "cell_type": "code",
      "metadata": {
        "id": "Y9zuOpY5tQjM",
        "colab": {
          "base_uri": "https://localhost:8080/",
          "height": 204
        },
        "outputId": "ada5c85b-c615-4ce4-fa61-a2b2ef79c966"
      },
      "source": [
        "# Creating a pivot table based on the answer to this question comparied to one's race. \n",
        "by_race = pulse_select_data.pivot_table(columns=pulse_select_data['Do you think that most white people in America are racist?'],index= pulse_select_data['What is your race?'], aggfunc='size')\n",
        "by_race"
      ],
      "execution_count": null,
      "outputs": [
        {
          "output_type": "execute_result",
          "data": {
            "text/html": [
              "<div>\n",
              "<style scoped>\n",
              "    .dataframe tbody tr th:only-of-type {\n",
              "        vertical-align: middle;\n",
              "    }\n",
              "\n",
              "    .dataframe tbody tr th {\n",
              "        vertical-align: top;\n",
              "    }\n",
              "\n",
              "    .dataframe thead th {\n",
              "        text-align: right;\n",
              "    }\n",
              "</style>\n",
              "<table border=\"1\" class=\"dataframe\">\n",
              "  <thead>\n",
              "    <tr style=\"text-align: right;\">\n",
              "      <th>Do you think that most white people in America are racist?</th>\n",
              "      <th>Don't Know</th>\n",
              "      <th>No</th>\n",
              "      <th>Yes</th>\n",
              "    </tr>\n",
              "    <tr>\n",
              "      <th>What is your race?</th>\n",
              "      <th></th>\n",
              "      <th></th>\n",
              "      <th></th>\n",
              "    </tr>\n",
              "  </thead>\n",
              "  <tbody>\n",
              "    <tr>\n",
              "      <th>Asian/ other/ no answer</th>\n",
              "      <td>1</td>\n",
              "      <td>13</td>\n",
              "      <td>7</td>\n",
              "    </tr>\n",
              "    <tr>\n",
              "      <th>Black</th>\n",
              "      <td>2</td>\n",
              "      <td>34</td>\n",
              "      <td>14</td>\n",
              "    </tr>\n",
              "    <tr>\n",
              "      <th>Latino</th>\n",
              "      <td>1</td>\n",
              "      <td>28</td>\n",
              "      <td>12</td>\n",
              "    </tr>\n",
              "    <tr>\n",
              "      <th>White</th>\n",
              "      <td>5</td>\n",
              "      <td>160</td>\n",
              "      <td>23</td>\n",
              "    </tr>\n",
              "  </tbody>\n",
              "</table>\n",
              "</div>"
            ],
            "text/plain": [
              "Do you think that most white people in America are racist?  Don't Know  ...  Yes\n",
              "What is your race?                                                      ...     \n",
              "Asian/ other/ no answer                                              1  ...    7\n",
              "Black                                                                2  ...   14\n",
              "Latino                                                               1  ...   12\n",
              "White                                                                5  ...   23\n",
              "\n",
              "[4 rows x 3 columns]"
            ]
          },
          "metadata": {
            "tags": []
          },
          "execution_count": 61
        }
      ]
    },
    {
      "cell_type": "code",
      "metadata": {
        "id": "_KJ3VBritRFE",
        "colab": {
          "base_uri": "https://localhost:8080/"
        },
        "outputId": "5656682a-c32f-487b-beff-5b561b50a2f5"
      },
      "source": [
        "# Calculating percentages\n",
        "black_yes_perc = by_race['Yes'][1] / pulse_select_data['What is your race?'].value_counts()[1] * 100\n",
        "latino_yes_perc = by_race['Yes'][2] / pulse_select_data['What is your race?'].value_counts()[2] * 100\n",
        "white_yes_perc = by_race['Yes'][3] / pulse_select_data['What is your race?'].value_counts()[0] * 100\n",
        "print(f'{black_yes_perc.round(2)}% of Black Americans surveyed believe that most whites in the US are racist')\n",
        "print(f'{latino_yes_perc.round(2)}% of Latino Americans surveyed believe that most whites in the US are racist')\n",
        "print(f'{white_yes_perc.round(2)}% of White Americans surveyed believe that most whites in the US are racist')"
      ],
      "execution_count": null,
      "outputs": [
        {
          "output_type": "stream",
          "text": [
            "28.0% of Black Americans surveyed believe that most whites in the US are racist\n",
            "29.27% of Latino Americans surveyed believe that most whites in the US are racist\n",
            "12.23% of White Americans surveyed believe that most whites in the US are racist\n"
          ],
          "name": "stdout"
        }
      ]
    },
    {
      "cell_type": "code",
      "metadata": {
        "id": "04IikBSQvi4z"
      },
      "source": [
        "# Creating a DataFrame with these percentages to create a bar graph. \n",
        "race_df = pd.DataFrame({'Race Self-Identification':['Black', 'Latino', 'White'], 'Percentage (%)':[black_yes_perc, latino_yes_perc, white_yes_perc]})"
      ],
      "execution_count": null,
      "outputs": []
    },
    {
      "cell_type": "code",
      "metadata": {
        "id": "gwJ47qSBw8Se",
        "colab": {
          "base_uri": "https://localhost:8080/",
          "height": 410
        },
        "outputId": "313d1451-c8a7-4921-e5d7-8db196f70ccd"
      },
      "source": [
        "plt.figure(figsize=(11,6))\n",
        "plt.bar(x='Race Self-Identification', height='Percentage (%)', width=.5, data=race_df)\n",
        "plt.xlabel('Race Self-Identification')\n",
        "plt.ylabel('Percentage (%)')\n",
        "plt.title('Percentage of Those Who Believe All Whites In the US Are Racist, By Race Self-Identification')\n",
        "plt.show()"
      ],
      "execution_count": null,
      "outputs": [
        {
          "output_type": "display_data",
          "data": {
            "image/png": "[encoded data removed]",
            "text/plain": [
              "<Figure size 792x432 with 1 Axes>"
            ]
          },
          "metadata": {
            "tags": [],
            "needs_background": "light"
          }
        }
      ]
    },
    {
      "cell_type": "markdown",
      "metadata": {
        "id": "UuMH0pM5tjd9"
      },
      "source": [
        "Indeed, if someone is black or latino they are over twice as likely to believe that all whites in the US are racist. \n",
        "\n",
        "**Let's look at a couple final box plots to sum this up**"
      ]
    },
    {
      "cell_type": "code",
      "metadata": {
        "id": "vudT3D-zs7Z4",
        "colab": {
          "base_uri": "https://localhost:8080/",
          "height": 590
        },
        "outputId": "8647ccee-286f-410c-c356-c2c9c10eddd4"
      },
      "source": [
        "plt.figure(figsize=(11,9))\n",
        "sns.boxplot(y = 'Income', x = pulse_select_data['Do you think that most white people in America are racist?'], data = pulse_select_data)\n",
        "plt.title('Income Differences for Those Who Believe All Whites are Racist vs. Those Who Do Not Believe All Whites are Racist')"
      ],
      "execution_count": null,
      "outputs": [
        {
          "output_type": "execute_result",
          "data": {
            "text/plain": [
              "Text(0.5, 1.0, 'Income Differences for Those Who Believe All Whites are Racist vs. Those Who Do Not Believe All Whites are Racist')"
            ]
          },
          "metadata": {
            "tags": []
          },
          "execution_count": 147
        },
        {
          "output_type": "display_data",
          "data": {
            "image/png": "[encoded data removed]",
            "text/plain": [
              "<Figure size 792x648 with 1 Axes>"
            ]
          },
          "metadata": {
            "tags": []
          }
        }
      ]
    },
    {
      "cell_type": "markdown",
      "metadata": {
        "id": "n3DoVqcKjaXA"
      },
      "source": [
        "We can see here, through this box plot shown before, that the median and max income for those who do not believe all whites in the US are racist is higher than those who do. \n",
        "\n",
        "Below is a box plot for income differences based on race. It is shown here that those surveyed who identify as white have a higher median and max income than thsoe who identified as black or latino. "
      ]
    },
    {
      "cell_type": "code",
      "metadata": {
        "id": "LlOHXFNPujG4"
      },
      "source": [
        "plt.figure(figsize=(15,9))\n",
        "sns.boxplot(y = 'Income', x = pulse_select_data['What is your race?'], data = pulse_select_data)\n",
        "plt.title('Income Differences By Race Self-Identification')"
      ],
      "execution_count": null,
      "outputs": []
    },
    {
      "cell_type": "markdown",
      "metadata": {
        "id": "keaZeeG3uV5K"
      },
      "source": [
        "It's clear even on this box plot that the median income for those who do believe that all whites in the US are racist is lower than those who do not. \n",
        "\n",
        "It's clear by the second box plot that those who identified as white have a higher median income than those who identified as black and latino. \n",
        "\n",
        "Perhaps the difference shown in the statistical test would be even more severe if we had excluded income from those who identified as Asian, other, or had no answer, as this group's median income surely brings up the median income for the category of \"not white\" that was established in order to test the income differences. \n"
      ]
    },
    {
      "cell_type": "markdown",
      "metadata": {
        "id": "27dKHdSRl-tA"
      },
      "source": [
        "#### **Age**"
      ]
    },
    {
      "cell_type": "code",
      "metadata": {
        "id": "yRd8qHYkwbkt",
        "colab": {
          "base_uri": "https://localhost:8080/",
          "height": 355
        },
        "outputId": "cf2dc7d2-c7ff-4fc1-e1bf-11c8585076c5"
      },
      "source": [
        "plt.figure(figsize=(11,5))\n",
        "plt.hist(whites_are_racist['Age'], alpha = .5)\n",
        "plt.hist(whites_are_not_racist['Age'], alpha = .5)\n",
        "plt.xlabel('Age')\n",
        "plt.title('Age Distribution For Those Who Believe All Whites in the US are Racist vs. Those Who Do Not Believe All Whites in the US Are Racist')\n",
        "plt.show()"
      ],
      "execution_count": null,
      "outputs": [
        {
          "output_type": "display_data",
          "data": {
            "image/png": "[encoded data removed]",
            "text/plain": [
              "<Figure size 792x360 with 1 Axes>"
            ]
          },
          "metadata": {
            "tags": [],
            "needs_background": "light"
          }
        }
      ]
    },
    {
      "cell_type": "code",
      "metadata": {
        "id": "j8s0rsessTak",
        "colab": {
          "base_uri": "https://localhost:8080/",
          "height": 356
        },
        "outputId": "c4bc41e6-57f6-4eb9-8b16-13a3b0a0f276"
      },
      "source": [
        "plt.figure(figsize=(11,5))\n",
        "sns.boxplot(x=pulse_select_data['Do you think that most white people in America are racist?'],y=pulse_select_data['Age'])"
      ],
      "execution_count": null,
      "outputs": [
        {
          "output_type": "execute_result",
          "data": {
            "text/plain": [
              "<matplotlib.axes._subplots.AxesSubplot at 0x7fcdf90461d0>"
            ]
          },
          "metadata": {
            "tags": []
          },
          "execution_count": 68
        },
        {
          "output_type": "display_data",
          "data": {
            "image/png": "[encoded data removed]",
            "text/plain": [
              "<Figure size 792x360 with 1 Axes>"
            ]
          },
          "metadata": {
            "tags": [],
            "needs_background": "light"
          }
        }
      ]
    },
    {
      "cell_type": "markdown",
      "metadata": {
        "id": "a_y57kUGsfSQ"
      },
      "source": [
        "At first visual inspection, it doesn't look like there's much difference in age.\n",
        "\n",
        "These may be normally distributed. Let's do some statistical tests to see. "
      ]
    },
    {
      "cell_type": "code",
      "metadata": {
        "id": "6CwAQMVVyagR",
        "colab": {
          "base_uri": "https://localhost:8080/"
        },
        "outputId": "c1a75956-0f21-403b-bec7-a01125344c60"
      },
      "source": [
        "print(stats.describe(whites_are_racist['Age']))\n",
        "print(stats.describe(whites_are_not_racist['Age']))"
      ],
      "execution_count": null,
      "outputs": [
        {
          "output_type": "stream",
          "text": [
            "DescribeResult(nobs=56, minmax=(18, 83), mean=48.107142857142854, variance=303.47922077922084, skewness=0.1241742345375731, kurtosis=-0.7773260043929273)\n",
            "DescribeResult(nobs=235, minmax=(18, 99), mean=45.86808510638298, variance=205.68765230041828, skewness=1.0024923120404927, kurtosis=0.6599564487789125)\n"
          ],
          "name": "stdout"
        }
      ]
    },
    {
      "cell_type": "markdown",
      "metadata": {
        "id": "D8n62W2nyo9m"
      },
      "source": [
        "Based on skewness and kurtosis these may be normally distributed. Let's use a Shapiro-Wilks Test to see."
      ]
    },
    {
      "cell_type": "code",
      "metadata": {
        "id": "Yp68R4Fuytj0",
        "colab": {
          "base_uri": "https://localhost:8080/"
        },
        "outputId": "843ad55a-00e5-4427-ddf7-f8be0b1a13cc"
      },
      "source": [
        "print(stats.shapiro(whites_are_racist['Age']))\n",
        "print(stats.shapiro(whites_are_racist['Age']))"
      ],
      "execution_count": null,
      "outputs": [
        {
          "output_type": "stream",
          "text": [
            "(0.9702659845352173, 0.18075965344905853)\n",
            "(0.9702659845352173, 0.18075965344905853)\n"
          ],
          "name": "stdout"
        }
      ]
    },
    {
      "cell_type": "markdown",
      "metadata": {
        "id": "1GGJZlm0y3iz"
      },
      "source": [
        "Indeed, the Test Statistics are Close to 1, and the p-values are above 0.05, therefore both of these distributions can be describe as normal distributions. We will therefore use a parametric statistical test based on comparing two independent groups: A T-Test."
      ]
    },
    {
      "cell_type": "markdown",
      "metadata": {
        "id": "FhLeGr0DzGqW"
      },
      "source": [
        "**Independent T-Test**"
      ]
    },
    {
      "cell_type": "code",
      "metadata": {
        "id": "YBizKwMRzCj3",
        "colab": {
          "base_uri": "https://localhost:8080/"
        },
        "outputId": "8574dad1-e0ff-43bb-e5b1-123ba8a542b2"
      },
      "source": [
        "stats.ttest_ind(whites_are_racist['Age'],whites_are_not_racist['Age'])"
      ],
      "execution_count": null,
      "outputs": [
        {
          "output_type": "execute_result",
          "data": {
            "text/plain": [
              "Ttest_indResult(statistic=1.005387673939592, pvalue=0.31555124924598027)"
            ]
          },
          "metadata": {
            "tags": []
          },
          "execution_count": 71
        }
      ]
    },
    {
      "cell_type": "markdown",
      "metadata": {
        "id": "jN9UHcLFzSwS"
      },
      "source": [
        "The p-value of this indpendent t-test is ~0.32, which is far above 0.05.\n",
        "\n",
        "**We therefore fail to reject the null hypothesis that there is any difference in age for those who believe all whites in the US are racist and those who do not believe all whites in the US are racist.**"
      ]
    },
    {
      "cell_type": "markdown",
      "metadata": {
        "id": "Q8cPDiRb_GI_"
      },
      "source": [
        "### 4. Do you approve or disapprove of how Donald Trump is handling his job as president?"
      ]
    },
    {
      "cell_type": "markdown",
      "metadata": {
        "id": "p0RthI707hqU"
      },
      "source": [
        "#### **Separating the Data into Groups**"
      ]
    },
    {
      "cell_type": "code",
      "metadata": {
        "id": "p7QfEiULtTx7"
      },
      "source": [
        "# 4. Approve or Disapprove with Trump? \n",
        "\n",
        "approve = pulse_select_data[pulse_select_data['Do you approve or disapprove of how Donald Trump is handling his job as president?'] == 'Approve']\n",
        "disapprove = pulse_select_data[pulse_select_data['Do you approve or disapprove of how Donald Trump is handling his job as president?'] == 'Disapprove']"
      ],
      "execution_count": null,
      "outputs": []
    },
    {
      "cell_type": "markdown",
      "metadata": {
        "id": "sJbTXSC-s4Vu"
      },
      "source": [
        "Let's first take a look at the basic statistic info about the data."
      ]
    },
    {
      "cell_type": "code",
      "metadata": {
        "id": "8x80-mcKs3rJ",
        "colab": {
          "base_uri": "https://localhost:8080/",
          "height": 297
        },
        "outputId": "2111219b-34b6-44ff-8250-ae3832d4c5e4"
      },
      "source": [
        "approve.describe()"
      ],
      "execution_count": null,
      "outputs": [
        {
          "output_type": "execute_result",
          "data": {
            "text/html": [
              "<div>\n",
              "<style scoped>\n",
              "    .dataframe tbody tr th:only-of-type {\n",
              "        vertical-align: middle;\n",
              "    }\n",
              "\n",
              "    .dataframe tbody tr th {\n",
              "        vertical-align: top;\n",
              "    }\n",
              "\n",
              "    .dataframe thead th {\n",
              "        text-align: right;\n",
              "    }\n",
              "</style>\n",
              "<table border=\"1\" class=\"dataframe\">\n",
              "  <thead>\n",
              "    <tr style=\"text-align: right;\">\n",
              "      <th></th>\n",
              "      <th>Income</th>\n",
              "      <th>Age</th>\n",
              "    </tr>\n",
              "  </thead>\n",
              "  <tbody>\n",
              "    <tr>\n",
              "      <th>count</th>\n",
              "      <td>101.000000</td>\n",
              "      <td>101.000000</td>\n",
              "    </tr>\n",
              "    <tr>\n",
              "      <th>mean</th>\n",
              "      <td>83663.366337</td>\n",
              "      <td>44.643564</td>\n",
              "    </tr>\n",
              "    <tr>\n",
              "      <th>std</th>\n",
              "      <td>63898.087174</td>\n",
              "      <td>14.410124</td>\n",
              "    </tr>\n",
              "    <tr>\n",
              "      <th>min</th>\n",
              "      <td>5000.000000</td>\n",
              "      <td>18.000000</td>\n",
              "    </tr>\n",
              "    <tr>\n",
              "      <th>25%</th>\n",
              "      <td>38000.000000</td>\n",
              "      <td>35.000000</td>\n",
              "    </tr>\n",
              "    <tr>\n",
              "      <th>50%</th>\n",
              "      <td>67000.000000</td>\n",
              "      <td>42.000000</td>\n",
              "    </tr>\n",
              "    <tr>\n",
              "      <th>75%</th>\n",
              "      <td>118000.000000</td>\n",
              "      <td>48.000000</td>\n",
              "    </tr>\n",
              "    <tr>\n",
              "      <th>max</th>\n",
              "      <td>401000.000000</td>\n",
              "      <td>99.000000</td>\n",
              "    </tr>\n",
              "  </tbody>\n",
              "</table>\n",
              "</div>"
            ],
            "text/plain": [
              "              Income         Age\n",
              "count     101.000000  101.000000\n",
              "mean    83663.366337   44.643564\n",
              "std     63898.087174   14.410124\n",
              "min      5000.000000   18.000000\n",
              "25%     38000.000000   35.000000\n",
              "50%     67000.000000   42.000000\n",
              "75%    118000.000000   48.000000\n",
              "max    401000.000000   99.000000"
            ]
          },
          "metadata": {
            "tags": []
          },
          "execution_count": 73
        }
      ]
    },
    {
      "cell_type": "code",
      "metadata": {
        "id": "QDq6Vhvts9Xy",
        "colab": {
          "base_uri": "https://localhost:8080/",
          "height": 297
        },
        "outputId": "cb20b026-792b-45c4-98fc-56611a76a99a"
      },
      "source": [
        "disapprove.describe()"
      ],
      "execution_count": null,
      "outputs": [
        {
          "output_type": "execute_result",
          "data": {
            "text/html": [
              "<div>\n",
              "<style scoped>\n",
              "    .dataframe tbody tr th:only-of-type {\n",
              "        vertical-align: middle;\n",
              "    }\n",
              "\n",
              "    .dataframe tbody tr th {\n",
              "        vertical-align: top;\n",
              "    }\n",
              "\n",
              "    .dataframe thead th {\n",
              "        text-align: right;\n",
              "    }\n",
              "</style>\n",
              "<table border=\"1\" class=\"dataframe\">\n",
              "  <thead>\n",
              "    <tr style=\"text-align: right;\">\n",
              "      <th></th>\n",
              "      <th>Income</th>\n",
              "      <th>Age</th>\n",
              "    </tr>\n",
              "  </thead>\n",
              "  <tbody>\n",
              "    <tr>\n",
              "      <th>count</th>\n",
              "      <td>168.000000</td>\n",
              "      <td>168.000000</td>\n",
              "    </tr>\n",
              "    <tr>\n",
              "      <th>mean</th>\n",
              "      <td>67172.619048</td>\n",
              "      <td>47.440476</td>\n",
              "    </tr>\n",
              "    <tr>\n",
              "      <th>std</th>\n",
              "      <td>61698.222203</td>\n",
              "      <td>15.123722</td>\n",
              "    </tr>\n",
              "    <tr>\n",
              "      <th>min</th>\n",
              "      <td>5000.000000</td>\n",
              "      <td>18.000000</td>\n",
              "    </tr>\n",
              "    <tr>\n",
              "      <th>25%</th>\n",
              "      <td>23750.000000</td>\n",
              "      <td>37.000000</td>\n",
              "    </tr>\n",
              "    <tr>\n",
              "      <th>50%</th>\n",
              "      <td>43000.000000</td>\n",
              "      <td>43.000000</td>\n",
              "    </tr>\n",
              "    <tr>\n",
              "      <th>75%</th>\n",
              "      <td>97250.000000</td>\n",
              "      <td>58.250000</td>\n",
              "    </tr>\n",
              "    <tr>\n",
              "      <th>max</th>\n",
              "      <td>322000.000000</td>\n",
              "      <td>90.000000</td>\n",
              "    </tr>\n",
              "  </tbody>\n",
              "</table>\n",
              "</div>"
            ],
            "text/plain": [
              "              Income         Age\n",
              "count     168.000000  168.000000\n",
              "mean    67172.619048   47.440476\n",
              "std     61698.222203   15.123722\n",
              "min      5000.000000   18.000000\n",
              "25%     23750.000000   37.000000\n",
              "50%     43000.000000   43.000000\n",
              "75%     97250.000000   58.250000\n",
              "max    322000.000000   90.000000"
            ]
          },
          "metadata": {
            "tags": []
          },
          "execution_count": 74
        }
      ]
    },
    {
      "cell_type": "markdown",
      "metadata": {
        "id": "x4wOLcj9tBug"
      },
      "source": [
        "At first glance there might end up being a big difference between income levels for those who Approve vs. those who Disapprove, though likely not different in age. "
      ]
    },
    {
      "cell_type": "markdown",
      "metadata": {
        "id": "Xt9BSv2v1gKe"
      },
      "source": [
        "#### **Income**"
      ]
    },
    {
      "cell_type": "code",
      "metadata": {
        "id": "Juobs2rPtyeo",
        "colab": {
          "base_uri": "https://localhost:8080/",
          "height": 355
        },
        "outputId": "8e3b42bd-9e80-4dfc-ffdf-0b4a1f6b9a92"
      },
      "source": [
        "plt.figure(figsize=(11,5))\n",
        "plt.hist(approve['Income'], alpha = .5)\n",
        "plt.hist(disapprove['Income'], alpha = .5)\n",
        "plt.xlabel('Income')\n",
        "plt.title(\"Income Distribution for Those Who Approve vs. Disapprove of Donald Trump's Job as President\")\n",
        "plt.show()"
      ],
      "execution_count": null,
      "outputs": [
        {
          "output_type": "display_data",
          "data": {
            "image/png": "[encoded data removed]",
            "text/plain": [
              "<Figure size 792x360 with 1 Axes>"
            ]
          },
          "metadata": {
            "tags": [],
            "needs_background": "light"
          }
        }
      ]
    },
    {
      "cell_type": "code",
      "metadata": {
        "id": "aTzuVGOC1oMm",
        "colab": {
          "base_uri": "https://localhost:8080/",
          "height": 574
        },
        "outputId": "9a0a56c3-9ae3-46e8-beea-118bdb640c3d"
      },
      "source": [
        "plt.figure(figsize=(11,9))\n",
        "sns.boxplot(x=pulse_select_data['Do you approve or disapprove of how Donald Trump is handling his job as president?'],y=pulse_select_data['Income'])"
      ],
      "execution_count": null,
      "outputs": [
        {
          "output_type": "execute_result",
          "data": {
            "text/plain": [
              "<matplotlib.axes._subplots.AxesSubplot at 0x7fcdf8fffcf8>"
            ]
          },
          "metadata": {
            "tags": []
          },
          "execution_count": 76
        },
        {
          "output_type": "display_data",
          "data": {
            "image/png": "[encoded data removed]",
            "text/plain": [
              "<Figure size 792x648 with 1 Axes>"
            ]
          },
          "metadata": {
            "tags": [],
            "needs_background": "light"
          }
        }
      ]
    },
    {
      "cell_type": "markdown",
      "metadata": {
        "id": "3h3Y2YO_14fz"
      },
      "source": [
        "Already in the box plot we. can see a difference in median, but perhaps not in max or min Income values.\n",
        "\n",
        "Once again, obviously not normally distributed. We'll use Kruskal-Wallis again."
      ]
    },
    {
      "cell_type": "markdown",
      "metadata": {
        "id": "VjetJeeL218n"
      },
      "source": [
        "**Kruskal-Wallis and Median Test**"
      ]
    },
    {
      "cell_type": "code",
      "metadata": {
        "id": "SJ91ybmF2tYb",
        "colab": {
          "base_uri": "https://localhost:8080/"
        },
        "outputId": "4433f162-b806-49d8-e0b1-b1ba8e137742"
      },
      "source": [
        "stats.kruskal(approve['Income'],disapprove['Income'])"
      ],
      "execution_count": null,
      "outputs": [
        {
          "output_type": "execute_result",
          "data": {
            "text/plain": [
              "KruskalResult(statistic=8.873887035449211, pvalue=0.0028927854464673277)"
            ]
          },
          "metadata": {
            "tags": []
          },
          "execution_count": 77
        }
      ]
    },
    {
      "cell_type": "markdown",
      "metadata": {
        "id": "KgEveS652yfn"
      },
      "source": [
        "There might be something here! Let's use a Median Test."
      ]
    },
    {
      "cell_type": "code",
      "metadata": {
        "id": "PKwvOFyu24r2",
        "colab": {
          "base_uri": "https://localhost:8080/"
        },
        "outputId": "b28e84da-185d-4bae-ebb2-a482edcf287b"
      },
      "source": [
        "stats.median_test(approve['Income'],disapprove['Income'])"
      ],
      "execution_count": null,
      "outputs": [
        {
          "output_type": "execute_result",
          "data": {
            "text/plain": [
              "(7.5903197112268606, 0.005868254155261712, 53000.0, array([[61, 71],\n",
              "        [40, 97]]))"
            ]
          },
          "metadata": {
            "tags": []
          },
          "execution_count": 78
        }
      ]
    },
    {
      "cell_type": "code",
      "metadata": {
        "id": "Ra2DzPAS3EYO",
        "colab": {
          "base_uri": "https://localhost:8080/"
        },
        "outputId": "aeb29cfb-acd0-4c5e-ee0f-0a92ede3f81b"
      },
      "source": [
        "print(statistics.median(approve['Income']))\n",
        "print(statistics.median(disapprove['Income']))"
      ],
      "execution_count": null,
      "outputs": [
        {
          "output_type": "stream",
          "text": [
            "67000.0\n",
            "43000.0\n"
          ],
          "name": "stdout"
        }
      ]
    },
    {
      "cell_type": "markdown",
      "metadata": {
        "id": "oZZ7BM2S8cGc"
      },
      "source": [
        "Indeed, the p-values do indicate that there is a difference between these two groups. Namely, those who approve appear to have a higher median income.\n",
        "\n",
        "It is clearly visualized in the box plot above that those surveyed who approve in Donald Trump's handling of the presidency have a higher median income than those who don't.\n",
        "\n",
        "**We reject the null hypothesis, and say that there is a difference in median income between those who approve of Donald Trump's job as president and those who do not. Those who approve of Donald Trump's job as president have a higher median income than those who do not, although the range of incomes is similar, saying that lower and higher income people are in both categories even so.**\n",
        "\n",
        "I would be curious, however, to also see what percentage of those surveyed who approve of Donald Trump compared to those who disapprove. "
      ]
    },
    {
      "cell_type": "markdown",
      "metadata": {
        "id": "E6sj3T652nwd"
      },
      "source": [
        "#### **Further Exploration of Income Differences.**"
      ]
    },
    {
      "cell_type": "code",
      "metadata": {
        "id": "xLj3CrS236sg",
        "colab": {
          "base_uri": "https://localhost:8080/"
        },
        "outputId": "d3fd87df-5674-49a2-9a72-a09f085c1190"
      },
      "source": [
        "# Looking at value counts for approval and disapproval.\n",
        "pulse_select_data['Do you approve or disapprove of how Donald Trump is handling his job as president?'].value_counts()"
      ],
      "execution_count": null,
      "outputs": [
        {
          "output_type": "execute_result",
          "data": {
            "text/plain": [
              "Disapprove    168\n",
              "Approve       101\n",
              "Don't Know     31\n",
              "Name: Do you approve or disapprove of how Donald Trump is handling his job as president?, dtype: int64"
            ]
          },
          "metadata": {
            "tags": []
          },
          "execution_count": 80
        }
      ]
    },
    {
      "cell_type": "code",
      "metadata": {
        "id": "tSHVw24g4_2g"
      },
      "source": [
        "# Creating a variable for total surveyed\n",
        "total_surveyed = len(pulse_select_data['Do you approve or disapprove of how Donald Trump is handling his job as president?'])"
      ],
      "execution_count": null,
      "outputs": []
    },
    {
      "cell_type": "code",
      "metadata": {
        "id": "afk146F945vo"
      },
      "source": [
        "# Creating variables for percentages\n",
        "approve_percent = pulse_select_data['Do you approve or disapprove of how Donald Trump is handling his job as president?'].value_counts()[1] / total_surveyed * 100\n",
        "disapprove_percent = pulse_select_data['Do you approve or disapprove of how Donald Trump is handling his job as president?'].value_counts()[0] / total_surveyed * 100\n",
        "dk_percent = pulse_select_data['Do you approve or disapprove of how Donald Trump is handling his job as president?'].value_counts()[2] / total_surveyed * 100"
      ],
      "execution_count": null,
      "outputs": []
    },
    {
      "cell_type": "code",
      "metadata": {
        "id": "w-r_98kn4Epq"
      },
      "source": [
        "# Creating a DataFrame with these percentages in order to create a bar graph visualization\n",
        "approval_df = pd.DataFrame({\"Do you approve or disapprove of how Donald Trump is handling his job as president?\" :['Disapprove', 'Approve', \"Don't Know\"], 'Percentage (%)':[disapprove_percent, approve_percent, dk_percent]})"
      ],
      "execution_count": null,
      "outputs": []
    },
    {
      "cell_type": "code",
      "metadata": {
        "id": "VA1Isg_v5qKE",
        "colab": {
          "base_uri": "https://localhost:8080/"
        },
        "outputId": "f4c76754-e69d-4f11-dd57-c43fa6742fea"
      },
      "source": [
        "# Bar Graph for Approval vs. Disapproval\n",
        "plt.figure(figsize=(11,6))\n",
        "plt.bar(x=\"Do you approve or disapprove of how Donald Trump is handling his job as president?\", height='Percentage (%)', width=.5, data=approval_df)\n",
        "plt.xlabel(\"Do you approve or disapprove of how Donald Trump is handling his job as president?\")\n",
        "plt.ylabel('Percentage (%)')\n",
        "plt.title('Percentage of Those Who Approve of How Donald Trump is Handling is Job as President vs. Those who Disapprove')\n",
        "plt.show()"
      ],
      "execution_count": null,
      "outputs": [
        {
          "output_type": "display_data",
          "data": {
            "image/png": "[encoded data removed]",
            "text/plain": [
              "<Figure size 792x432 with 1 Axes>"
            ]
          },
          "metadata": {
            "tags": [],
            "needs_background": "light"
          }
        }
      ]
    },
    {
      "cell_type": "code",
      "metadata": {
        "id": "WZnBjiG8824y",
        "colab": {
          "base_uri": "https://localhost:8080/"
        },
        "outputId": "77029d95-72b6-4750-cace-368153d894b8"
      },
      "source": [
        "print(f'Approval Rate of Those Surveyed: {approve_percent.round(2)}%')\n",
        "print(f'Disapproval Rate of Those Surveyed: {disapprove_percent.round(2)}%')"
      ],
      "execution_count": null,
      "outputs": [
        {
          "output_type": "stream",
          "text": [
            "Approval Rate of Those Surveyed: 33.67%\n",
            "Disapproval Rate of Those Surveyed: 56.0%\n"
          ],
          "name": "stdout"
        }
      ]
    },
    {
      "cell_type": "markdown",
      "metadata": {
        "id": "Y7ITya_v8zx3"
      },
      "source": [
        "Indeed, FAR more people actually disapprove than approve. I wonder if the higher income level could also be explained by race. Let's look at some what percentages of blacks, latinos, and whites approve of Donald Trump."
      ]
    },
    {
      "cell_type": "code",
      "metadata": {
        "id": "W-PLIrSo6Zli",
        "colab": {
          "base_uri": "https://localhost:8080/"
        },
        "outputId": "4d69f975-54a2-411a-eab8-bc9179b4d2ba"
      },
      "source": [
        "# Creating a pivot table for counts of answers by race. \n",
        "approval_by_race = pulse_select_data.pivot_table(columns=pulse_select_data['Do you approve or disapprove of how Donald Trump is handling his job as president?'],index= pulse_select_data['What is your race?'], aggfunc='size')\n",
        "approval_by_race"
      ],
      "execution_count": null,
      "outputs": [
        {
          "output_type": "execute_result",
          "data": {
            "text/html": [
              "<div>\n",
              "<style scoped>\n",
              "    .dataframe tbody tr th:only-of-type {\n",
              "        vertical-align: middle;\n",
              "    }\n",
              "\n",
              "    .dataframe tbody tr th {\n",
              "        vertical-align: top;\n",
              "    }\n",
              "\n",
              "    .dataframe thead th {\n",
              "        text-align: right;\n",
              "    }\n",
              "</style>\n",
              "<table border=\"1\" class=\"dataframe\">\n",
              "  <thead>\n",
              "    <tr style=\"text-align: right;\">\n",
              "      <th>Do you approve or disapprove of how Donald Trump is handling his job as president?</th>\n",
              "      <th>Approve</th>\n",
              "      <th>Disapprove</th>\n",
              "      <th>Don't Know</th>\n",
              "    </tr>\n",
              "    <tr>\n",
              "      <th>What is your race?</th>\n",
              "      <th></th>\n",
              "      <th></th>\n",
              "      <th></th>\n",
              "    </tr>\n",
              "  </thead>\n",
              "  <tbody>\n",
              "    <tr>\n",
              "      <th>Asian/ other/ no answer</th>\n",
              "      <td>7</td>\n",
              "      <td>12</td>\n",
              "      <td>2</td>\n",
              "    </tr>\n",
              "    <tr>\n",
              "      <th>Black</th>\n",
              "      <td>6</td>\n",
              "      <td>40</td>\n",
              "      <td>4</td>\n",
              "    </tr>\n",
              "    <tr>\n",
              "      <th>Latino</th>\n",
              "      <td>6</td>\n",
              "      <td>30</td>\n",
              "      <td>5</td>\n",
              "    </tr>\n",
              "    <tr>\n",
              "      <th>White</th>\n",
              "      <td>82</td>\n",
              "      <td>86</td>\n",
              "      <td>20</td>\n",
              "    </tr>\n",
              "  </tbody>\n",
              "</table>\n",
              "</div>"
            ],
            "text/plain": [
              "Do you approve or disapprove of how Donald Trump is handling his job as president?  Approve  ...  Don't Know\n",
              "What is your race?                                                                           ...            \n",
              "Asian/ other/ no answer                                                                   7  ...           2\n",
              "Black                                                                                     6  ...           4\n",
              "Latino                                                                                    6  ...           5\n",
              "White                                                                                    82  ...          20\n",
              "\n",
              "[4 rows x 3 columns]"
            ]
          },
          "metadata": {
            "tags": []
          },
          "execution_count": 86
        }
      ]
    },
    {
      "cell_type": "code",
      "metadata": {
        "id": "Tno7lcq77Bxu",
        "colab": {
          "base_uri": "https://localhost:8080/"
        },
        "outputId": "6970ba6f-7046-4833-c7bd-7ea48ca842b9"
      },
      "source": [
        "# Full value counts\n",
        "pulse_select_data['What is your race?'].value_counts()"
      ],
      "execution_count": null,
      "outputs": [
        {
          "output_type": "execute_result",
          "data": {
            "text/plain": [
              "White                      188\n",
              "Black                       50\n",
              "Latino                      41\n",
              "Asian/ other/ no answer     21\n",
              "Name: What is your race?, dtype: int64"
            ]
          },
          "metadata": {
            "tags": []
          },
          "execution_count": 87
        }
      ]
    },
    {
      "cell_type": "code",
      "metadata": {
        "id": "4U6eqPSM6sHB"
      },
      "source": [
        "# Creating variables for percentages\n",
        "black_approval = approval_by_race['Approve']['Black'] / pulse_select_data['What is your race?'].value_counts()[1] *100\n",
        "latino_approval = approval_by_race['Approve']['Latino'] / pulse_select_data['What is your race?'].value_counts()[2] *100\n",
        "white_approval = approval_by_race['Approve']['White'] / pulse_select_data['What is your race?'].value_counts()[0] * 100"
      ],
      "execution_count": null,
      "outputs": []
    },
    {
      "cell_type": "code",
      "metadata": {
        "id": "knAP0fdE7wFv"
      },
      "source": [
        "# Creating DataFrame for percentages\n",
        "approval_by_race_df = pd.DataFrame({'Race Self-Identification':['Black', 'Latino', 'White'], 'Percentage (%)':[black_approval, latino_approval, white_approval]})"
      ],
      "execution_count": null,
      "outputs": []
    },
    {
      "cell_type": "code",
      "metadata": {
        "id": "hpBThlhp75VV",
        "colab": {
          "base_uri": "https://localhost:8080/"
        },
        "outputId": "7b70890a-c063-466b-af3b-01f543a086b5"
      },
      "source": [
        "# Creating bar graph with percentages \n",
        "plt.figure(figsize=(11,6))\n",
        "plt.bar(x='Race Self-Identification', height='Percentage (%)', width=.5, data=approval_by_race_df)\n",
        "plt.xlabel(\"Do you approve or disapprove of how Donald Trump is handling his job as president?\")\n",
        "plt.ylabel('Percentage (%)')\n",
        "plt.title('Percentage of Those Who Approve of How Donald Trump is Handling is Job as President by Race')\n",
        "plt.show()"
      ],
      "execution_count": null,
      "outputs": [
        {
          "output_type": "display_data",
          "data": {
            "image/png": "[encoded data removed]",
            "text/plain": [
              "<Figure size 792x432 with 1 Axes>"
            ]
          },
          "metadata": {
            "tags": [],
            "needs_background": "light"
          }
        }
      ]
    },
    {
      "cell_type": "code",
      "metadata": {
        "id": "nlK0-yIa9Wjm",
        "colab": {
          "base_uri": "https://localhost:8080/"
        },
        "outputId": "9d7ec6c1-d4fc-4c91-a9bd-fcb184c3a0a0"
      },
      "source": [
        "print(f'Black Approval Rating: {black_approval.round(2)}%')\n",
        "print(f'Latino Approval Rating: {latino_approval.round(2)}%')\n",
        "print(f'White Approval Rating: {white_approval.round(2)}%')"
      ],
      "execution_count": null,
      "outputs": [
        {
          "output_type": "stream",
          "text": [
            "Black Approval Rating: 12.0%\n",
            "Latino Approval Rating: 14.63%\n",
            "White Approval Rating: 43.62%\n"
          ],
          "name": "stdout"
        }
      ]
    },
    {
      "cell_type": "markdown",
      "metadata": {
        "id": "LsNB1NPI9qu6"
      },
      "source": [
        "Indeed, the approval rating for those surveyed who identify as white is MUCH higher than those surveyed who identify as black or latino. \n",
        "\n",
        "I'd be very curious to revisualize the box plot of Income Distribution to approval rating with a hue of race self-identification."
      ]
    },
    {
      "cell_type": "code",
      "metadata": {
        "id": "j74X2OUJ-In0",
        "colab": {
          "base_uri": "https://localhost:8080/"
        },
        "outputId": "41d7399f-5cac-445b-fcd3-2bb88ea8eeb0"
      },
      "source": [
        "plt.figure(figsize=(15,9))\n",
        "sns.boxplot(y = 'Income', x = pulse_select_data['Do you approve or disapprove of how Donald Trump is handling his job as president?'], hue= pulse_select_data['What is your race?'], data = pulse_select_data)\n",
        "plt.title(\"Approval vs. Disapproval of Donald Trump's Job as President Compared to Income\")"
      ],
      "execution_count": null,
      "outputs": [
        {
          "output_type": "execute_result",
          "data": {
            "text/plain": [
              "Text(0.5, 1.0, \"Approval vs. Disapproval of Donald Trump's Job as President Compared to Income\")"
            ]
          },
          "metadata": {
            "tags": []
          },
          "execution_count": 92
        },
        {
          "output_type": "display_data",
          "data": {
            "image/png": "[encoded data removed]",
            "text/plain": [
              "<Figure size 1080x648 with 1 Axes>"
            ]
          },
          "metadata": {
            "tags": [],
            "needs_background": "light"
          }
        }
      ]
    },
    {
      "cell_type": "markdown",
      "metadata": {
        "id": "05giWMOg-UDV"
      },
      "source": [
        "Looking at the 'Approve' section, we see that those with the highest median income are those who self identified as black, or Asian/other/no answer. The highest maximum incomes for this section are for those identified as white or latino.  \n",
        "\n",
        "Looking at those who 'Disapprove', those who identified as white have a higher median income than black or latino. This aligns with our analysis in comparing income to race self-identification, in that whites surveyed tended to have a higher median income. Additionally, for those identified as white who Disapprove, there is a much higher upper quartile, indicating that those identified as white of many incomes disapprove, so income is not a determining factor of approval or disapproval if you identify as white. \n",
        "\n",
        "Looking at those who Approve is more interesting. Of those who approve, the higher median income is of those who self-identified as black, asian, or other, and those who self identified as black who approve have a significantly higher median income than those who disapprove and self-identified as black. This is in line with the overall trend that those who approve of Trumps job in the presidency have a higher income. A similar observation is true for those who self-identify as Latino as well. There is a higher median income for those who approve, although the minimum income is about the same for latinos who approve or don't approve of Trump's job as president, which is not the case for those who self identify as black. \n",
        "\n",
        "*We can perhaps say that if you self-identify as black or latino, that income is one of the major factors in whether or not you approve or disapprove of Trumps job as president.*\n",
        "\n",
        "There doesn't seem to be too much of a difference in median income between whites who disapprove or approve of Trump's job as president, so we could say that income is not as much of a factor here and *we'd have to examine other factors besides income in why one who self-identifies as white does or does not support Trump's job as president.*"
      ]
    },
    {
      "cell_type": "markdown",
      "metadata": {
        "id": "uaO59llo3XFR"
      },
      "source": [
        "#### **Age**"
      ]
    },
    {
      "cell_type": "code",
      "metadata": {
        "id": "hNKBPoOawgLo",
        "colab": {
          "base_uri": "https://localhost:8080/"
        },
        "outputId": "a93cb560-4ee6-4a3b-9752-12f10330679a"
      },
      "source": [
        "plt.figure(figsize=(11,5))\n",
        "plt.hist(approve['Age'], alpha = .5)\n",
        "plt.hist(disapprove['Age'], alpha = .5)\n",
        "plt.xlabel('Age')\n",
        "plt.title(\"Age Distribution for Those Who Approve of Donald Trump's Job as President vs. Those who Disapprove\")\n",
        "plt.show()"
      ],
      "execution_count": null,
      "outputs": [
        {
          "output_type": "display_data",
          "data": {
            "image/png": "[encoded data removed]",
            "text/plain": [
              "<Figure size 792x360 with 1 Axes>"
            ]
          },
          "metadata": {
            "tags": [],
            "needs_background": "light"
          }
        }
      ]
    },
    {
      "cell_type": "code",
      "metadata": {
        "id": "7gXCQ_Bc6Yv3",
        "colab": {
          "base_uri": "https://localhost:8080/"
        },
        "outputId": "bec6767c-52df-4070-89d8-9e33061b53b8"
      },
      "source": [
        "plt.figure(figsize=(11,9))\n",
        "sns.boxplot(x=pulse_select_data['Do you approve or disapprove of how Donald Trump is handling his job as president?'],y=pulse_select_data['Age'])"
      ],
      "execution_count": null,
      "outputs": [
        {
          "output_type": "execute_result",
          "data": {
            "text/plain": [
              "<matplotlib.axes._subplots.AxesSubplot at 0x7fcdf93dccc0>"
            ]
          },
          "metadata": {
            "tags": []
          },
          "execution_count": 94
        },
        {
          "output_type": "display_data",
          "data": {
            "image/png": "[encoded data removed]",
            "text/plain": [
              "<Figure size 792x648 with 1 Axes>"
            ]
          },
          "metadata": {
            "tags": [],
            "needs_background": "light"
          }
        }
      ]
    },
    {
      "cell_type": "markdown",
      "metadata": {
        "id": "T-sgc72R6a7L"
      },
      "source": [
        "Not too much interesting stands out just by looking at the box plot here, the medians look about the same, though the upper two quartiles for Disapprove are much larger than approve, suggesting that perhaps folks who are slightly older are more likely to disapprove of Trump's job in office. "
      ]
    },
    {
      "cell_type": "markdown",
      "metadata": {
        "id": "I5y0paN5BTDK"
      },
      "source": [
        "Let's see if these distributions are normal or not."
      ]
    },
    {
      "cell_type": "code",
      "metadata": {
        "id": "PagQ2wxbBV_B",
        "colab": {
          "base_uri": "https://localhost:8080/"
        },
        "outputId": "d64a846f-2ec1-4abe-8343-6c500968aab7"
      },
      "source": [
        "print(stats.describe(approve['Age']))\n",
        "print(stats.describe(disapprove['Age']))"
      ],
      "execution_count": null,
      "outputs": [
        {
          "output_type": "stream",
          "text": [
            "DescribeResult(nobs=101, minmax=(18, 99), mean=44.64356435643565, variance=207.65168316831682, skewness=1.0941590880454144, kurtosis=1.3733293916984186)\n",
            "DescribeResult(nobs=168, minmax=(18, 90), mean=47.44047619047619, variance=228.7269746221842, skewness=0.5341825708267323, kurtosis=-0.28586049222387633)\n"
          ],
          "name": "stdout"
        }
      ]
    },
    {
      "cell_type": "markdown",
      "metadata": {
        "id": "_ND7NIqxBfCu"
      },
      "source": [
        "Based on skewness and kurtosis values, these could be normal. Let's examine further with Shapiro-Wilks."
      ]
    },
    {
      "cell_type": "code",
      "metadata": {
        "id": "0HMp3p3UBib2",
        "colab": {
          "base_uri": "https://localhost:8080/"
        },
        "outputId": "bbedd93a-39c5-4058-de37-49ae64e22143"
      },
      "source": [
        "print(stats.shapiro(approve['Age']))\n",
        "print(stats.shapiro(disapprove['Age']))"
      ],
      "execution_count": null,
      "outputs": [
        {
          "output_type": "stream",
          "text": [
            "(0.9092875719070435, 3.6015753721585497e-06)\n",
            "(0.9527550339698792, 1.989990232686978e-05)\n"
          ],
          "name": "stdout"
        }
      ]
    },
    {
      "cell_type": "markdown",
      "metadata": {
        "id": "vLwao_WhBoxE"
      },
      "source": [
        "We can say within a 95% confidence interval that these distributions are non-normal. Let's use a non-parametric test to compare these two independent groups: Kruskal-Wallis and Median Test, if necessary."
      ]
    },
    {
      "cell_type": "markdown",
      "metadata": {
        "id": "TCttG6YLBzcQ"
      },
      "source": [
        "**Kruskal-Wallis**"
      ]
    },
    {
      "cell_type": "code",
      "metadata": {
        "id": "8FhBhXgBBy69",
        "colab": {
          "base_uri": "https://localhost:8080/"
        },
        "outputId": "288a5a31-7ffa-4267-a07f-5a0bfba3fa6a"
      },
      "source": [
        "stats.kruskal(approve['Age'],disapprove['Age'])"
      ],
      "execution_count": null,
      "outputs": [
        {
          "output_type": "execute_result",
          "data": {
            "text/plain": [
              "KruskalResult(statistic=2.2977626480510684, pvalue=0.12956050380860587)"
            ]
          },
          "metadata": {
            "tags": []
          },
          "execution_count": 97
        }
      ]
    },
    {
      "cell_type": "markdown",
      "metadata": {
        "id": "w5RJdVX_B6ML"
      },
      "source": [
        "Our p-value is higher than 0.05, therefore there is not sufficent evidence to conclude that there is any meaningful difference in age between those surveyed who approve of Trump's job in office vs. those who don't. \n",
        "\n",
        "**We fail to reject our null hypothesis that there is any difference in age between those surveyed who approve of Trump's job in office vs. those who don't.**"
      ]
    },
    {
      "cell_type": "markdown",
      "metadata": {
        "id": "VYVDQ0MC_MI-"
      },
      "source": [
        "### 5. Are there notable differences in income or age between those surveyed who identify as republican and those surveyed who identify as democrats, and those who identify as Indpendent/Undecided?"
      ]
    },
    {
      "cell_type": "markdown",
      "metadata": {
        "id": "wIJvMpvD7o9f"
      },
      "source": [
        "#### **Separating the Data into Groups**"
      ]
    },
    {
      "cell_type": "code",
      "metadata": {
        "id": "i00UV_PjyNdH"
      },
      "source": [
        "republicans = pulse_select_data[pulse_select_data['Political Affiliation '] == 'Republican']\n",
        "democrats = pulse_select_data[pulse_select_data['Political Affiliation '] == 'Democrat']\n",
        "indorund = pulse_select_data[pulse_select_data['Political Affiliation '] == 'Independent/Undecided']\n",
        "notrepublican = pulse_select_data[pulse_select_data['Political Affiliation '] != 'Republican']"
      ],
      "execution_count": null,
      "outputs": []
    },
    {
      "cell_type": "markdown",
      "metadata": {
        "id": "0z3zLI287sWy"
      },
      "source": [
        "Let's take a brief look as some statistical descriptions for these groups."
      ]
    },
    {
      "cell_type": "code",
      "metadata": {
        "id": "qjQsD5SN79Zu",
        "colab": {
          "base_uri": "https://localhost:8080/",
          "height": 297
        },
        "outputId": "133b344f-4a8a-4f20-fed8-0fb792881f7e"
      },
      "source": [
        "republicans.describe()"
      ],
      "execution_count": null,
      "outputs": [
        {
          "output_type": "execute_result",
          "data": {
            "text/html": [
              "<div>\n",
              "<style scoped>\n",
              "    .dataframe tbody tr th:only-of-type {\n",
              "        vertical-align: middle;\n",
              "    }\n",
              "\n",
              "    .dataframe tbody tr th {\n",
              "        vertical-align: top;\n",
              "    }\n",
              "\n",
              "    .dataframe thead th {\n",
              "        text-align: right;\n",
              "    }\n",
              "</style>\n",
              "<table border=\"1\" class=\"dataframe\">\n",
              "  <thead>\n",
              "    <tr style=\"text-align: right;\">\n",
              "      <th></th>\n",
              "      <th>Income</th>\n",
              "      <th>Age</th>\n",
              "    </tr>\n",
              "  </thead>\n",
              "  <tbody>\n",
              "    <tr>\n",
              "      <th>count</th>\n",
              "      <td>62.000000</td>\n",
              "      <td>62.000000</td>\n",
              "    </tr>\n",
              "    <tr>\n",
              "      <th>mean</th>\n",
              "      <td>94225.806452</td>\n",
              "      <td>45.274194</td>\n",
              "    </tr>\n",
              "    <tr>\n",
              "      <th>std</th>\n",
              "      <td>70627.728580</td>\n",
              "      <td>13.587807</td>\n",
              "    </tr>\n",
              "    <tr>\n",
              "      <th>min</th>\n",
              "      <td>7000.000000</td>\n",
              "      <td>18.000000</td>\n",
              "    </tr>\n",
              "    <tr>\n",
              "      <th>25%</th>\n",
              "      <td>41500.000000</td>\n",
              "      <td>36.250000</td>\n",
              "    </tr>\n",
              "    <tr>\n",
              "      <th>50%</th>\n",
              "      <td>77500.000000</td>\n",
              "      <td>42.000000</td>\n",
              "    </tr>\n",
              "    <tr>\n",
              "      <th>75%</th>\n",
              "      <td>131500.000000</td>\n",
              "      <td>51.500000</td>\n",
              "    </tr>\n",
              "    <tr>\n",
              "      <th>max</th>\n",
              "      <td>401000.000000</td>\n",
              "      <td>76.000000</td>\n",
              "    </tr>\n",
              "  </tbody>\n",
              "</table>\n",
              "</div>"
            ],
            "text/plain": [
              "              Income        Age\n",
              "count      62.000000  62.000000\n",
              "mean    94225.806452  45.274194\n",
              "std     70627.728580  13.587807\n",
              "min      7000.000000  18.000000\n",
              "25%     41500.000000  36.250000\n",
              "50%     77500.000000  42.000000\n",
              "75%    131500.000000  51.500000\n",
              "max    401000.000000  76.000000"
            ]
          },
          "metadata": {
            "tags": []
          },
          "execution_count": 99
        }
      ]
    },
    {
      "cell_type": "code",
      "metadata": {
        "id": "-Ye5fLei7_TC",
        "colab": {
          "base_uri": "https://localhost:8080/",
          "height": 297
        },
        "outputId": "9cfd54c7-80fa-44ac-9581-546038f2f4b4"
      },
      "source": [
        "democrats.describe()"
      ],
      "execution_count": null,
      "outputs": [
        {
          "output_type": "execute_result",
          "data": {
            "text/html": [
              "<div>\n",
              "<style scoped>\n",
              "    .dataframe tbody tr th:only-of-type {\n",
              "        vertical-align: middle;\n",
              "    }\n",
              "\n",
              "    .dataframe tbody tr th {\n",
              "        vertical-align: top;\n",
              "    }\n",
              "\n",
              "    .dataframe thead th {\n",
              "        text-align: right;\n",
              "    }\n",
              "</style>\n",
              "<table border=\"1\" class=\"dataframe\">\n",
              "  <thead>\n",
              "    <tr style=\"text-align: right;\">\n",
              "      <th></th>\n",
              "      <th>Income</th>\n",
              "      <th>Age</th>\n",
              "    </tr>\n",
              "  </thead>\n",
              "  <tbody>\n",
              "    <tr>\n",
              "      <th>count</th>\n",
              "      <td>108.000000</td>\n",
              "      <td>108.000000</td>\n",
              "    </tr>\n",
              "    <tr>\n",
              "      <th>mean</th>\n",
              "      <td>77490.740741</td>\n",
              "      <td>48.759259</td>\n",
              "    </tr>\n",
              "    <tr>\n",
              "      <th>std</th>\n",
              "      <td>67729.187978</td>\n",
              "      <td>14.346103</td>\n",
              "    </tr>\n",
              "    <tr>\n",
              "      <th>min</th>\n",
              "      <td>5000.000000</td>\n",
              "      <td>19.000000</td>\n",
              "    </tr>\n",
              "    <tr>\n",
              "      <th>25%</th>\n",
              "      <td>29500.000000</td>\n",
              "      <td>38.000000</td>\n",
              "    </tr>\n",
              "    <tr>\n",
              "      <th>50%</th>\n",
              "      <td>54000.000000</td>\n",
              "      <td>44.000000</td>\n",
              "    </tr>\n",
              "    <tr>\n",
              "      <th>75%</th>\n",
              "      <td>106750.000000</td>\n",
              "      <td>59.500000</td>\n",
              "    </tr>\n",
              "    <tr>\n",
              "      <th>max</th>\n",
              "      <td>322000.000000</td>\n",
              "      <td>83.000000</td>\n",
              "    </tr>\n",
              "  </tbody>\n",
              "</table>\n",
              "</div>"
            ],
            "text/plain": [
              "              Income         Age\n",
              "count     108.000000  108.000000\n",
              "mean    77490.740741   48.759259\n",
              "std     67729.187978   14.346103\n",
              "min      5000.000000   19.000000\n",
              "25%     29500.000000   38.000000\n",
              "50%     54000.000000   44.000000\n",
              "75%    106750.000000   59.500000\n",
              "max    322000.000000   83.000000"
            ]
          },
          "metadata": {
            "tags": []
          },
          "execution_count": 100
        }
      ]
    },
    {
      "cell_type": "code",
      "metadata": {
        "id": "8AAdzHKG8BB9",
        "colab": {
          "base_uri": "https://localhost:8080/",
          "height": 297
        },
        "outputId": "2fc81416-d1fd-4350-83f8-937b906279f4"
      },
      "source": [
        "indorund.describe()"
      ],
      "execution_count": null,
      "outputs": [
        {
          "output_type": "execute_result",
          "data": {
            "text/html": [
              "<div>\n",
              "<style scoped>\n",
              "    .dataframe tbody tr th:only-of-type {\n",
              "        vertical-align: middle;\n",
              "    }\n",
              "\n",
              "    .dataframe tbody tr th {\n",
              "        vertical-align: top;\n",
              "    }\n",
              "\n",
              "    .dataframe thead th {\n",
              "        text-align: right;\n",
              "    }\n",
              "</style>\n",
              "<table border=\"1\" class=\"dataframe\">\n",
              "  <thead>\n",
              "    <tr style=\"text-align: right;\">\n",
              "      <th></th>\n",
              "      <th>Income</th>\n",
              "      <th>Age</th>\n",
              "    </tr>\n",
              "  </thead>\n",
              "  <tbody>\n",
              "    <tr>\n",
              "      <th>count</th>\n",
              "      <td>130.000000</td>\n",
              "      <td>130.000000</td>\n",
              "    </tr>\n",
              "    <tr>\n",
              "      <th>mean</th>\n",
              "      <td>63092.307692</td>\n",
              "      <td>44.823077</td>\n",
              "    </tr>\n",
              "    <tr>\n",
              "      <th>std</th>\n",
              "      <td>53632.606962</td>\n",
              "      <td>16.018142</td>\n",
              "    </tr>\n",
              "    <tr>\n",
              "      <th>min</th>\n",
              "      <td>5000.000000</td>\n",
              "      <td>18.000000</td>\n",
              "    </tr>\n",
              "    <tr>\n",
              "      <th>25%</th>\n",
              "      <td>24000.000000</td>\n",
              "      <td>35.000000</td>\n",
              "    </tr>\n",
              "    <tr>\n",
              "      <th>50%</th>\n",
              "      <td>46000.000000</td>\n",
              "      <td>40.500000</td>\n",
              "    </tr>\n",
              "    <tr>\n",
              "      <th>75%</th>\n",
              "      <td>89000.000000</td>\n",
              "      <td>53.750000</td>\n",
              "    </tr>\n",
              "    <tr>\n",
              "      <th>max</th>\n",
              "      <td>264000.000000</td>\n",
              "      <td>99.000000</td>\n",
              "    </tr>\n",
              "  </tbody>\n",
              "</table>\n",
              "</div>"
            ],
            "text/plain": [
              "              Income         Age\n",
              "count     130.000000  130.000000\n",
              "mean    63092.307692   44.823077\n",
              "std     53632.606962   16.018142\n",
              "min      5000.000000   18.000000\n",
              "25%     24000.000000   35.000000\n",
              "50%     46000.000000   40.500000\n",
              "75%     89000.000000   53.750000\n",
              "max    264000.000000   99.000000"
            ]
          },
          "metadata": {
            "tags": []
          },
          "execution_count": 101
        }
      ]
    },
    {
      "cell_type": "markdown",
      "metadata": {
        "id": "27MFHskk8FA0"
      },
      "source": [
        "There are more democrats surveyed than republicans, maybe republicans were less likely to not hang up the phone, who knows. Also more independents/undecideds than either democrats or republicans. Mean age looks pretty similar in all three groups but it does look like there might be some differences in average income. Let's explore more. "
      ]
    },
    {
      "cell_type": "markdown",
      "metadata": {
        "id": "esSdgJcOCn_T"
      },
      "source": [
        "#### **Income**"
      ]
    },
    {
      "cell_type": "code",
      "metadata": {
        "id": "GY1BKzGKyOPw",
        "colab": {
          "base_uri": "https://localhost:8080/",
          "height": 355
        },
        "outputId": "accdc918-9999-4ec5-f1e4-af9e3483c2dd"
      },
      "source": [
        "plt.figure(figsize=(11,5))\n",
        "plt.hist(republicans['Income'], alpha = .5)\n",
        "plt.hist(democrats['Income'], alpha = .5)\n",
        "plt.hist(indorund['Income'], alpha = .5)\n",
        "plt.xlabel('Income')\n",
        "plt.title('Income Distribution for Republicans, Democrats, and Independent/Undecided')\n",
        "plt.show()"
      ],
      "execution_count": null,
      "outputs": [
        {
          "output_type": "display_data",
          "data": {
            "image/png": "[encoded data removed]",
            "text/plain": [
              "<Figure size 792x360 with 1 Axes>"
            ]
          },
          "metadata": {
            "tags": [],
            "needs_background": "light"
          }
        }
      ]
    },
    {
      "cell_type": "code",
      "metadata": {
        "id": "Ds96tZbV9uL1",
        "colab": {
          "base_uri": "https://localhost:8080/",
          "height": 574
        },
        "outputId": "37ccaac5-5900-4b80-ccdc-bda133fc8ac5"
      },
      "source": [
        "plt.figure(figsize=(11,9))\n",
        "sns.boxplot(x=pulse_select_data['Political Affiliation '],y=pulse_select_data['Income'])"
      ],
      "execution_count": null,
      "outputs": [
        {
          "output_type": "execute_result",
          "data": {
            "text/plain": [
              "<matplotlib.axes._subplots.AxesSubplot at 0x7fcdf8be1198>"
            ]
          },
          "metadata": {
            "tags": []
          },
          "execution_count": 103
        },
        {
          "output_type": "display_data",
          "data": {
            "image/png": "[encoded data removed]",
            "text/plain": [
              "<Figure size 792x648 with 1 Axes>"
            ]
          },
          "metadata": {
            "tags": [],
            "needs_background": "light"
          }
        }
      ]
    },
    {
      "cell_type": "markdown",
      "metadata": {
        "id": "IJlsPJyvCvCM"
      },
      "source": [
        "Just on initial inspection, we see that there may be a big difference between median and max income for republicans and democrats or independents.\n",
        "\n",
        "Here we are now comparing more than two independent groups. This may change the statistical test used for normal distributions, it does not for this non-normal distribution. We will still compare these groups using Kruskal-Wallis and if necessary, Mood's Median Test."
      ]
    },
    {
      "cell_type": "markdown",
      "metadata": {
        "id": "Ih5UJUQjDNEw"
      },
      "source": [
        "**Kruskal-Wallis**"
      ]
    },
    {
      "cell_type": "code",
      "metadata": {
        "id": "HWkSRxOxDAaW",
        "colab": {
          "base_uri": "https://localhost:8080/"
        },
        "outputId": "0b67152a-b64f-4dc7-9b03-086238dcba73"
      },
      "source": [
        "stats.kruskal(republicans['Income'],democrats['Income'],indorund['Income'])"
      ],
      "execution_count": null,
      "outputs": [
        {
          "output_type": "execute_result",
          "data": {
            "text/plain": [
              "KruskalResult(statistic=11.556709439625847, pvalue=0.0030938013932893882)"
            ]
          },
          "metadata": {
            "tags": []
          },
          "execution_count": 104
        }
      ]
    },
    {
      "cell_type": "markdown",
      "metadata": {
        "id": "sEfdPR8tDWD1"
      },
      "source": [
        "Based on the p-value = 0.003 < 0.05, tehre may be a difference between these three groups! Let's use Mood's Median Test to explore more."
      ]
    },
    {
      "cell_type": "code",
      "metadata": {
        "id": "Blh399XmDbzG",
        "colab": {
          "base_uri": "https://localhost:8080/"
        },
        "outputId": "e1f9867a-8f0e-4124-94d2-a010427c2c38"
      },
      "source": [
        "stats.median_test(republicans['Income'],democrats['Income'],indorund['Income'])"
      ],
      "execution_count": null,
      "outputs": [
        {
          "output_type": "execute_result",
          "data": {
            "text/plain": [
              "(9.552664246707995, 0.00842685100216441, 55000.0, array([[41, 53, 55],\n",
              "        [21, 55, 75]]))"
            ]
          },
          "metadata": {
            "tags": []
          },
          "execution_count": 105
        }
      ]
    },
    {
      "cell_type": "code",
      "metadata": {
        "id": "JuSCJ2USGbOr",
        "colab": {
          "base_uri": "https://localhost:8080/"
        },
        "outputId": "14579007-d4bf-488f-e9a0-0ec19d24626c"
      },
      "source": [
        "print(f\"Median Income of Republicans: ${statistics.median(republicans['Income'])}0\")\n",
        "print(f\"Median Income of Democrats: ${statistics.median(democrats['Income'])}0\")\n",
        "print(f\"Median Income of Independents/Undecided: ${statistics.median(indorund['Income'])}0\")"
      ],
      "execution_count": null,
      "outputs": [
        {
          "output_type": "stream",
          "text": [
            "Median Income of Republicans: $77500.00\n",
            "Median Income of Democrats: $54000.00\n",
            "Median Income of Independents/Undecided: $46000.00\n"
          ],
          "name": "stdout"
        }
      ]
    },
    {
      "cell_type": "markdown",
      "metadata": {
        "id": "IK5t9TvAGVwN"
      },
      "source": [
        "Indeed! It appears there may be something here! It appears that there is a difference between income distribution for the three groups. Republicans seem to have a higher median income than Democrats and those who are Independent/Undecided.\n",
        "\n",
        "**Let's examine differences between each group and the other two.** "
      ]
    },
    {
      "cell_type": "code",
      "metadata": {
        "id": "Wc_ttPG0-V37",
        "colab": {
          "base_uri": "https://localhost:8080/"
        },
        "outputId": "57982237-e34e-40c5-c7cf-d7ca2d9e699b"
      },
      "source": [
        "# Democrats and Independents\n",
        "print(stats.kruskal(democrats['Income'],indorund['Income']))\n",
        "print(stats.median_test(democrats['Income'],indorund['Income']))"
      ],
      "execution_count": null,
      "outputs": [
        {
          "output_type": "stream",
          "text": [
            "KruskalResult(statistic=2.014564737870596, pvalue=0.15579594288189652)\n",
            "(0.8306267806267806, 0.3620913514634365, 49500.0, array([[58, 61],\n",
            "       [50, 69]]))\n"
          ],
          "name": "stdout"
        }
      ]
    },
    {
      "cell_type": "code",
      "metadata": {
        "id": "6xGuLmIF-lFu",
        "colab": {
          "base_uri": "https://localhost:8080/"
        },
        "outputId": "773c4601-43e3-40c7-e676-30deed7d9095"
      },
      "source": [
        "# Democrats and Republicans\n",
        "print(stats.kruskal(democrats['Income'],republicans['Income']))\n",
        "print(stats.median_test(democrats['Income'],republicans['Income']))"
      ],
      "execution_count": null,
      "outputs": [
        {
          "output_type": "stream",
          "text": [
            "KruskalResult(statistic=4.239811160516665, pvalue=0.03948655881038852)\n",
            "(3.071983273596177, 0.0796522427139412, 62500.0, array([[48, 37],\n",
            "       [60, 25]]))\n"
          ],
          "name": "stdout"
        }
      ]
    },
    {
      "cell_type": "code",
      "metadata": {
        "id": "KkuUD-qP-u0z",
        "colab": {
          "base_uri": "https://localhost:8080/"
        },
        "outputId": "8881d9e8-12ae-403a-e1a0-bc88794c8d17"
      },
      "source": [
        "# Republicans and Independents\n",
        "print(stats.kruskal(republicans['Income'],indorund['Income']))\n",
        "print(stats.median_test(republicans['Income'],indorund['Income']))"
      ],
      "execution_count": null,
      "outputs": [
        {
          "output_type": "stream",
          "text": [
            "KruskalResult(statistic=11.777312342873635, pvalue=0.0005995698785574575)\n",
            "(8.599503722084368, 0.0033625462090077583, 55500.0, array([[41, 55],\n",
            "       [21, 75]]))\n"
          ],
          "name": "stdout"
        }
      ]
    },
    {
      "cell_type": "markdown",
      "metadata": {
        "id": "6aLtGS8O-6KM"
      },
      "source": [
        "It appears the the largest, and only statistically significant income difference is mostly between republicans and independent/undecided. \n",
        "\n",
        "Let's see if theres a statistical difference between the groups \"republican\" and \"not republican\", including both democrats and independents."
      ]
    },
    {
      "cell_type": "code",
      "metadata": {
        "id": "8xPJtm99_Kdt",
        "colab": {
          "base_uri": "https://localhost:8080/"
        },
        "outputId": "49fe6a88-9d6c-4a40-ba4e-f3a8393b32e9"
      },
      "source": [
        "print(stats.kruskal(republicans['Income'],notrepublican['Income']))\n",
        "print(stats.median_test(republicans['Income'],notrepublican['Income']))"
      ],
      "execution_count": null,
      "outputs": [
        {
          "output_type": "stream",
          "text": [
            "KruskalResult(statistic=9.46410239060116, pvalue=0.002095319388421729)\n",
            "(7.6625290451449946, 0.005637941978832429, 55000.0, array([[ 41, 108],\n",
            "       [ 21, 130]]))\n"
          ],
          "name": "stdout"
        }
      ]
    },
    {
      "cell_type": "code",
      "metadata": {
        "id": "kqUNfA5_JYo5",
        "colab": {
          "base_uri": "https://localhost:8080/"
        },
        "outputId": "7ab5e63c-ce8d-43b7-ae4d-abfdc1fe0606"
      },
      "source": [
        "print(statistics.median(republicans['Income']))\n",
        "print(statistics.median(notrepublican['Income']))"
      ],
      "execution_count": null,
      "outputs": [
        {
          "output_type": "stream",
          "text": [
            "77500.0\n",
            "49500.0\n"
          ],
          "name": "stdout"
        }
      ]
    },
    {
      "cell_type": "markdown",
      "metadata": {
        "id": "UCvjpkeE_hRc"
      },
      "source": [
        "There does appear to be a statistical difference here. We'll say, then that in general, republicans have a higher median income than those who are not republican. "
      ]
    },
    {
      "cell_type": "markdown",
      "metadata": {
        "id": "f7nkOhi3IcMK"
      },
      "source": [
        "**We therefore reject the null hypothesis that there is no difference in Income levels for different Political Affiliations. Those who identify as Republican will have a higher median income than those who do not identify as Republicans.**"
      ]
    },
    {
      "cell_type": "markdown",
      "metadata": {
        "id": "JDf1_HYl_r4Q"
      },
      "source": [
        "#### **Further Exploration of Income Differences**"
      ]
    },
    {
      "cell_type": "markdown",
      "metadata": {
        "id": "tHdjz47NInoG"
      },
      "source": [
        "I'm interested in how many Republicans approve or disapprove of Trump, as well as how many Democrats, and perhaps also their income distributions. Let's look"
      ]
    },
    {
      "cell_type": "code",
      "metadata": {
        "id": "wEGY-PoXJMvo",
        "colab": {
          "base_uri": "https://localhost:8080/",
          "height": 173
        },
        "outputId": "484b9878-c2f8-4592-d1f3-94ffab89f7fe"
      },
      "source": [
        "approval_by_politics = pulse_select_data.pivot_table(columns=pulse_select_data['Do you approve or disapprove of how Donald Trump is handling his job as president?'],index= pulse_select_data['Political Affiliation '], aggfunc='size')\n",
        "approval_by_politics"
      ],
      "execution_count": null,
      "outputs": [
        {
          "output_type": "execute_result",
          "data": {
            "text/html": [
              "<div>\n",
              "<style scoped>\n",
              "    .dataframe tbody tr th:only-of-type {\n",
              "        vertical-align: middle;\n",
              "    }\n",
              "\n",
              "    .dataframe tbody tr th {\n",
              "        vertical-align: top;\n",
              "    }\n",
              "\n",
              "    .dataframe thead th {\n",
              "        text-align: right;\n",
              "    }\n",
              "</style>\n",
              "<table border=\"1\" class=\"dataframe\">\n",
              "  <thead>\n",
              "    <tr style=\"text-align: right;\">\n",
              "      <th>Do you approve or disapprove of how Donald Trump is handling his job as president?</th>\n",
              "      <th>Approve</th>\n",
              "      <th>Disapprove</th>\n",
              "      <th>Don't Know</th>\n",
              "    </tr>\n",
              "    <tr>\n",
              "      <th>Political Affiliation</th>\n",
              "      <th></th>\n",
              "      <th></th>\n",
              "      <th></th>\n",
              "    </tr>\n",
              "  </thead>\n",
              "  <tbody>\n",
              "    <tr>\n",
              "      <th>Democrat</th>\n",
              "      <td>13</td>\n",
              "      <td>89</td>\n",
              "      <td>6</td>\n",
              "    </tr>\n",
              "    <tr>\n",
              "      <th>Independent/Undecided</th>\n",
              "      <td>39</td>\n",
              "      <td>71</td>\n",
              "      <td>20</td>\n",
              "    </tr>\n",
              "    <tr>\n",
              "      <th>Republican</th>\n",
              "      <td>49</td>\n",
              "      <td>8</td>\n",
              "      <td>5</td>\n",
              "    </tr>\n",
              "  </tbody>\n",
              "</table>\n",
              "</div>"
            ],
            "text/plain": [
              "Do you approve or disapprove of how Donald Trump is handling his job as president?  Approve  ...  Don't Know\n",
              "Political Affiliation                                                                        ...            \n",
              "Democrat                                                                                 13  ...           6\n",
              "Independent/Undecided                                                                    39  ...          20\n",
              "Republican                                                                               49  ...           5\n",
              "\n",
              "[3 rows x 3 columns]"
            ]
          },
          "metadata": {
            "tags": []
          },
          "execution_count": 112
        }
      ]
    },
    {
      "cell_type": "markdown",
      "metadata": {
        "id": "izhBrx_-JoGH"
      },
      "source": [
        "Upon initial inspection, it's as we might expect, that more democrats disapprove than approve, more republicans approve than disapprove, but also it's interesting that more of those surveyed who are independent/undecided disapprove versus approve. \n",
        "\n",
        "Let's visualize this. "
      ]
    },
    {
      "cell_type": "code",
      "metadata": {
        "id": "G-9i1cMSKbad",
        "colab": {
          "base_uri": "https://localhost:8080/",
          "height": 574
        },
        "outputId": "3eabe9aa-9ebe-49d8-b8af-7f4f6385e694"
      },
      "source": [
        "plt.figure(figsize=(15,9))\n",
        "sns.boxplot(x=pulse_select_data['Political Affiliation '],y=pulse_select_data['Income'],hue=pulse_select_data['Do you approve or disapprove of how Donald Trump is handling his job as president?'],data=pulse_select_data)"
      ],
      "execution_count": null,
      "outputs": [
        {
          "output_type": "execute_result",
          "data": {
            "text/plain": [
              "<matplotlib.axes._subplots.AxesSubplot at 0x7fcdf8be1208>"
            ]
          },
          "metadata": {
            "tags": []
          },
          "execution_count": 113
        },
        {
          "output_type": "display_data",
          "data": {
            "image/png": "[encoded data removed]",
            "text/plain": [
              "<Figure size 1080x648 with 1 Axes>"
            ]
          },
          "metadata": {
            "tags": [],
            "needs_background": "light"
          }
        }
      ]
    },
    {
      "cell_type": "markdown",
      "metadata": {
        "id": "7xnW7sHDNW3F"
      },
      "source": [
        "To me the only truly interesting thing to explore here is the difference in income between independents who approve and those who disapprove. There doesn't seem to be any interesting difference between the income of democrats who approve vs disapprove or the income of republicans who approve vs. disapprove. "
      ]
    },
    {
      "cell_type": "code",
      "metadata": {
        "id": "U8yBs1cfIxHA"
      },
      "source": [
        "indorund_approve = indorund[indorund['Do you approve or disapprove of how Donald Trump is handling his job as president?'] == 'Approve']\n",
        "indorund_disapprove = indorund[indorund['Do you approve or disapprove of how Donald Trump is handling his job as president?'] == 'Disapprove']"
      ],
      "execution_count": null,
      "outputs": []
    },
    {
      "cell_type": "code",
      "metadata": {
        "id": "o7TeCI7xLbDx",
        "colab": {
          "base_uri": "https://localhost:8080/",
          "height": 355
        },
        "outputId": "7beee929-db3e-445e-9c77-397582075946"
      },
      "source": [
        "plt.figure(figsize=(11,5))\n",
        "plt.hist(indorund_approve['Income'], alpha = .5)\n",
        "plt.hist(indorund_disapprove['Income'], alpha = .5)\n",
        "plt.xlabel('Income')\n",
        "plt.title('Income Distribution for Independents/Undecided who Approve vs those who Disapprove')\n",
        "plt.show()"
      ],
      "execution_count": null,
      "outputs": [
        {
          "output_type": "display_data",
          "data": {
            "image/png": "[encoded data removed]",
            "text/plain": [
              "<Figure size 792x360 with 1 Axes>"
            ]
          },
          "metadata": {
            "tags": [],
            "needs_background": "light"
          }
        }
      ]
    },
    {
      "cell_type": "code",
      "metadata": {
        "id": "HC3sz6br_90X",
        "colab": {
          "base_uri": "https://localhost:8080/",
          "height": 590
        },
        "outputId": "fd3931fb-c0f6-4b21-de34-37b36c2c9b18"
      },
      "source": [
        "plt.figure(figsize=(11,9))\n",
        "sns.boxplot(x=indorund['Do you approve or disapprove of how Donald Trump is handling his job as president?'],y=indorund['Income'])\n",
        "plt.title('Approval vs Disapproval Compared with Income for Survey Participants who Identify as Independent/Undecided')"
      ],
      "execution_count": null,
      "outputs": [
        {
          "output_type": "execute_result",
          "data": {
            "text/plain": [
              "Text(0.5, 1.0, 'Approval vs Disapproval Compared with Income for Survey Participants who Identify as Independent/Undecided')"
            ]
          },
          "metadata": {
            "tags": []
          },
          "execution_count": 116
        },
        {
          "output_type": "display_data",
          "data": {
            "image/png": "[encoded data removed]",
            "text/plain": [
              "<Figure size 792x648 with 1 Axes>"
            ]
          },
          "metadata": {
            "tags": [],
            "needs_background": "light"
          }
        }
      ]
    },
    {
      "cell_type": "code",
      "metadata": {
        "id": "4S0K98cWLQjr",
        "colab": {
          "base_uri": "https://localhost:8080/"
        },
        "outputId": "e269ba18-042c-49ef-c5a2-7826bbf6700a"
      },
      "source": [
        "print(stats.kruskal(indorund_approve['Income'], indorund_disapprove['Income']))\n",
        "print(stats.median_test(indorund_approve['Income'], indorund_disapprove['Income']))"
      ],
      "execution_count": null,
      "outputs": [
        {
          "output_type": "stream",
          "text": [
            "KruskalResult(statistic=7.053858531275056, pvalue=0.007909469370186857)\n",
            "(10.169736366919464, 0.0014276468773379836, 42500.0, array([[28, 27],\n",
            "       [11, 44]]))\n"
          ],
          "name": "stdout"
        }
      ]
    },
    {
      "cell_type": "code",
      "metadata": {
        "id": "_-hNyr67KEX-",
        "colab": {
          "base_uri": "https://localhost:8080/"
        },
        "outputId": "e226b279-646b-42a4-bc78-456aba8b69cb"
      },
      "source": [
        "print(statistics.median(indorund['Income']))\n",
        "print(statistics.median(indorund_approve['Income']))\n",
        "print(statistics.median(indorund_disapprove['Income']))"
      ],
      "execution_count": null,
      "outputs": [
        {
          "output_type": "stream",
          "text": [
            "46000.0\n",
            "65000.0\n",
            "35000.0\n"
          ],
          "name": "stdout"
        }
      ]
    },
    {
      "cell_type": "code",
      "metadata": {
        "id": "DX8E0WLROXav",
        "colab": {
          "base_uri": "https://localhost:8080/"
        },
        "outputId": "dc25a770-3624-4374-898c-8416393e533d"
      },
      "source": [
        "print(f\"Median Income of Independent/Undecided Survey Participants who Approve of Trumps Job in the Presidency: ${statistics.median(indorund_approve['Income'])}0\")\n",
        "print(f\"Median Income of Independent/Undecided Survey Participants who Dispprove of Trumps Job in the Presidency: ${statistics.median(indorund_disapprove['Income'])}0\")"
      ],
      "execution_count": null,
      "outputs": [
        {
          "output_type": "stream",
          "text": [
            "Median Income of Independent/Undecided Survey Participants who Approve of Trumps Job in the Presidency: $65000.00\n",
            "Median Income of Independent/Undecided Survey Participants who Dispprove of Trumps Job in the Presidency: $35000.00\n"
          ],
          "name": "stdout"
        }
      ]
    },
    {
      "cell_type": "code",
      "metadata": {
        "id": "lGvKKCwTPUmh",
        "colab": {
          "base_uri": "https://localhost:8080/"
        },
        "outputId": "2820cd4b-79fb-457f-f7b4-1a88ab6a5d12"
      },
      "source": [
        "pulse_select_data['Political Affiliation '].value_counts()"
      ],
      "execution_count": null,
      "outputs": [
        {
          "output_type": "execute_result",
          "data": {
            "text/plain": [
              "Independent/Undecided    130\n",
              "Democrat                 108\n",
              "Republican                62\n",
              "Name: Political Affiliation , dtype: int64"
            ]
          },
          "metadata": {
            "tags": []
          },
          "execution_count": 120
        }
      ]
    },
    {
      "cell_type": "code",
      "metadata": {
        "id": "311y5wk0PQGc",
        "colab": {
          "base_uri": "https://localhost:8080/"
        },
        "outputId": "339c70bb-ea8d-4c38-c0fc-8d1872b0a022"
      },
      "source": [
        "indorund_approval_perc = approval_by_politics['Approve']['Independent/Undecided'] / pulse_select_data['Political Affiliation '].value_counts()[0] *100\n",
        "print(f'{indorund_approval_perc}% of Survey Participants who are Independent/Undecided Approve of Trump')"
      ],
      "execution_count": null,
      "outputs": [
        {
          "output_type": "stream",
          "text": [
            "30.0% of Survey Participants who are Independent/Undecided Approve of Trump\n"
          ],
          "name": "stdout"
        }
      ]
    },
    {
      "cell_type": "markdown",
      "metadata": {
        "id": "TvJj1fxLOFBx"
      },
      "source": [
        "Indeed, both the Kruskal-Wallis Test and the Median Test indicate that there is a notable difference between income of those who's political afficaliation independent/undecided who approve of Trump's job in office and those who disapprove, even though there are more independents who disapprove of Trump's job in office. \n",
        "\n",
        "In fact, only 30% of survey participants who are independent/undecided actually approve of Trump, but of those 30% their median income is a full $30,000 higher than those who disapprove. It appears that one of the major factors of approving or disapproving of Trump's job in office, beyond political affiliation, which is to be expected, may in fact be income. "
      ]
    },
    {
      "cell_type": "markdown",
      "metadata": {
        "id": "L78sEXqOCs3U"
      },
      "source": [
        "#### **Age**"
      ]
    },
    {
      "cell_type": "code",
      "metadata": {
        "id": "gxbJ8YO0ySlA",
        "colab": {
          "base_uri": "https://localhost:8080/",
          "height": 573
        },
        "outputId": "5f775730-60f6-4373-a79c-333620a1550a"
      },
      "source": [
        "plt.figure(figsize=(11,9))\n",
        "plt.hist(republicans['Age'], alpha = .5)\n",
        "plt.hist(democrats['Age'], alpha = .5)\n",
        "plt.hist(indorund['Age'], alpha = .5)\n",
        "plt.xlabel('Age')\n",
        "plt.title('Age Distribution for Republicans, Democrats, and Independent/Undecided')\n",
        "plt.show()"
      ],
      "execution_count": null,
      "outputs": [
        {
          "output_type": "display_data",
          "data": {
            "image/png": "[encoded data removed]",
            "text/plain": [
              "<Figure size 792x648 with 1 Axes>"
            ]
          },
          "metadata": {
            "tags": [],
            "needs_background": "light"
          }
        }
      ]
    },
    {
      "cell_type": "code",
      "metadata": {
        "id": "yoUJJDCgAdUG",
        "colab": {
          "base_uri": "https://localhost:8080/",
          "height": 574
        },
        "outputId": "622876e3-625d-46eb-f7ca-61c0a52faec3"
      },
      "source": [
        "plt.figure(figsize=(11,9))\n",
        "sns.boxplot(x=pulse_select_data['Political Affiliation '], y=pulse_select_data['Age'])"
      ],
      "execution_count": null,
      "outputs": [
        {
          "output_type": "execute_result",
          "data": {
            "text/plain": [
              "<matplotlib.axes._subplots.AxesSubplot at 0x7fcdf8d877b8>"
            ]
          },
          "metadata": {
            "tags": []
          },
          "execution_count": 123
        },
        {
          "output_type": "display_data",
          "data": {
            "image/png": "[encoded data removed]",
            "text/plain": [
              "<Figure size 792x648 with 1 Axes>"
            ]
          },
          "metadata": {
            "tags": [],
            "needs_background": "light"
          }
        }
      ]
    },
    {
      "cell_type": "markdown",
      "metadata": {
        "id": "AWFH9hpyQTSl"
      },
      "source": [
        "The box plot doesn't initally appear super interesting.\n",
        "\n",
        "These may be normally distributed, let's check. "
      ]
    },
    {
      "cell_type": "code",
      "metadata": {
        "id": "0pZVMVltQW0g",
        "colab": {
          "base_uri": "https://localhost:8080/"
        },
        "outputId": "aaa6cdb4-9d54-4340-8406-c8029e838e02"
      },
      "source": [
        "print(stats.describe(republicans['Age']))\n",
        "print(stats.describe(democrats['Age']))\n",
        "print(stats.describe(indorund['Age']))"
      ],
      "execution_count": null,
      "outputs": [
        {
          "output_type": "stream",
          "text": [
            "DescribeResult(nobs=62, minmax=(18, 76), mean=45.274193548387096, variance=184.62850343733473, skewness=0.7701462422788952, kurtosis=-0.2280606114806778)\n",
            "DescribeResult(nobs=108, minmax=(19, 83), mean=48.75925925925926, variance=205.81066112841816, skewness=0.6381161803616187, kurtosis=-0.37465678620403287)\n",
            "DescribeResult(nobs=130, minmax=(18, 99), mean=44.823076923076925, variance=256.5808586762075, skewness=0.8867902223393705, kurtosis=0.6098704907901875)\n"
          ],
          "name": "stdout"
        }
      ]
    },
    {
      "cell_type": "markdown",
      "metadata": {
        "id": "9M8iVzysQiMP"
      },
      "source": [
        "Values for skewness and kurtosis indicate possible normal distribution. Let's check with Shapiro Wilks."
      ]
    },
    {
      "cell_type": "code",
      "metadata": {
        "id": "XGPK74QIQmW-",
        "colab": {
          "base_uri": "https://localhost:8080/"
        },
        "outputId": "1cafa1ac-061c-4793-e39f-1a956911167d"
      },
      "source": [
        "print(stats.shapiro(republicans['Age']))\n",
        "print(stats.shapiro(democrats['Age']))\n",
        "print(stats.shapiro(indorund['Age']))"
      ],
      "execution_count": null,
      "outputs": [
        {
          "output_type": "stream",
          "text": [
            "(0.9107931852340698, 0.00026387826073914766)\n",
            "(0.93317711353302, 3.9387447031913325e-05)\n",
            "(0.9284147620201111, 3.4820789096556837e-06)\n"
          ],
          "name": "stdout"
        }
      ]
    },
    {
      "cell_type": "markdown",
      "metadata": {
        "id": "lmOFvXE4Qr1T"
      },
      "source": [
        "It appears that all of these results of the Shapiro-Wilks test indicate that these distrubtions are non-normally distributed within a 95% confidence level. We will use the Kruskal-Wallis test to compare, and if necessary, the Median Test."
      ]
    },
    {
      "cell_type": "markdown",
      "metadata": {
        "id": "fBWclMGtA63_"
      },
      "source": [
        "**Kruskal-Wallis and Median Test**"
      ]
    },
    {
      "cell_type": "code",
      "metadata": {
        "id": "hMh8EMtgRlz4",
        "colab": {
          "base_uri": "https://localhost:8080/"
        },
        "outputId": "0201c567-af74-411d-ab59-730e0bacfbc2"
      },
      "source": [
        "stats.kruskal(republicans['Age'], democrats['Age'], indorund['Age'])"
      ],
      "execution_count": null,
      "outputs": [
        {
          "output_type": "execute_result",
          "data": {
            "text/plain": [
              "KruskalResult(statistic=5.7640338515732745, pvalue=0.05602165728453926)"
            ]
          },
          "metadata": {
            "tags": []
          },
          "execution_count": 126
        }
      ]
    },
    {
      "cell_type": "markdown",
      "metadata": {
        "id": "ty8bBOdORsdy"
      },
      "source": [
        "Our test statistic is hovering right above 0.05, let's do a median test just to see what turns up there."
      ]
    },
    {
      "cell_type": "code",
      "metadata": {
        "id": "jDm5d3D8Rxfy",
        "colab": {
          "base_uri": "https://localhost:8080/"
        },
        "outputId": "b5dd962e-b07a-4591-c387-e79e7f5196a6"
      },
      "source": [
        "stats.median_test(republicans['Age'],democrats['Age'],indorund['Age'])"
      ],
      "execution_count": null,
      "outputs": [
        {
          "output_type": "execute_result",
          "data": {
            "text/plain": [
              "(2.4801130523622774, 0.28936786061664155, 42.0, array([[29, 59, 58],\n",
              "        [33, 49, 72]]))"
            ]
          },
          "metadata": {
            "tags": []
          },
          "execution_count": 127
        }
      ]
    },
    {
      "cell_type": "markdown",
      "metadata": {
        "id": "QIO6JnHLR2S0"
      },
      "source": [
        "The p-value here is even higher. \n",
        "\n",
        "**Therefore, we fail to reject the null hypothesis that there is any difference of age between the Political Affiliations of those surveyed.**"
      ]
    },
    {
      "cell_type": "markdown",
      "metadata": {
        "id": "hYE0xEc4_V6A"
      },
      "source": [
        "### 6. Have you ever eaten a kale salad?"
      ]
    },
    {
      "cell_type": "markdown",
      "metadata": {
        "id": "_M5Kd-tzBoBN"
      },
      "source": [
        "#### **Separating the Data into Groups**"
      ]
    },
    {
      "cell_type": "code",
      "metadata": {
        "id": "vCEiS4X-t4G5"
      },
      "source": [
        "yes_kale = pulse_select_data[pulse_select_data['Have you ever eaten a kale salad?'] == 'Yes']\n",
        "no_kale = pulse_select_data[pulse_select_data['Have you ever eaten a kale salad?'] == 'No']"
      ],
      "execution_count": null,
      "outputs": []
    },
    {
      "cell_type": "code",
      "metadata": {
        "id": "bgIhE0bLBrrp",
        "colab": {
          "base_uri": "https://localhost:8080/",
          "height": 297
        },
        "outputId": "e407d05b-fc9e-4a41-ee74-f3bc3682029f"
      },
      "source": [
        "yes_kale.describe()"
      ],
      "execution_count": null,
      "outputs": [
        {
          "output_type": "execute_result",
          "data": {
            "text/html": [
              "<div>\n",
              "<style scoped>\n",
              "    .dataframe tbody tr th:only-of-type {\n",
              "        vertical-align: middle;\n",
              "    }\n",
              "\n",
              "    .dataframe tbody tr th {\n",
              "        vertical-align: top;\n",
              "    }\n",
              "\n",
              "    .dataframe thead th {\n",
              "        text-align: right;\n",
              "    }\n",
              "</style>\n",
              "<table border=\"1\" class=\"dataframe\">\n",
              "  <thead>\n",
              "    <tr style=\"text-align: right;\">\n",
              "      <th></th>\n",
              "      <th>Income</th>\n",
              "      <th>Age</th>\n",
              "    </tr>\n",
              "  </thead>\n",
              "  <tbody>\n",
              "    <tr>\n",
              "      <th>count</th>\n",
              "      <td>136.000000</td>\n",
              "      <td>136.000000</td>\n",
              "    </tr>\n",
              "    <tr>\n",
              "      <th>mean</th>\n",
              "      <td>93095.588235</td>\n",
              "      <td>44.316176</td>\n",
              "    </tr>\n",
              "    <tr>\n",
              "      <th>std</th>\n",
              "      <td>67464.545276</td>\n",
              "      <td>13.050728</td>\n",
              "    </tr>\n",
              "    <tr>\n",
              "      <th>min</th>\n",
              "      <td>6000.000000</td>\n",
              "      <td>18.000000</td>\n",
              "    </tr>\n",
              "    <tr>\n",
              "      <th>25%</th>\n",
              "      <td>40750.000000</td>\n",
              "      <td>37.000000</td>\n",
              "    </tr>\n",
              "    <tr>\n",
              "      <th>50%</th>\n",
              "      <td>79500.000000</td>\n",
              "      <td>42.000000</td>\n",
              "    </tr>\n",
              "    <tr>\n",
              "      <th>75%</th>\n",
              "      <td>130500.000000</td>\n",
              "      <td>47.000000</td>\n",
              "    </tr>\n",
              "    <tr>\n",
              "      <th>max</th>\n",
              "      <td>322000.000000</td>\n",
              "      <td>99.000000</td>\n",
              "    </tr>\n",
              "  </tbody>\n",
              "</table>\n",
              "</div>"
            ],
            "text/plain": [
              "              Income         Age\n",
              "count     136.000000  136.000000\n",
              "mean    93095.588235   44.316176\n",
              "std     67464.545276   13.050728\n",
              "min      6000.000000   18.000000\n",
              "25%     40750.000000   37.000000\n",
              "50%     79500.000000   42.000000\n",
              "75%    130500.000000   47.000000\n",
              "max    322000.000000   99.000000"
            ]
          },
          "metadata": {
            "tags": []
          },
          "execution_count": 129
        }
      ]
    },
    {
      "cell_type": "code",
      "metadata": {
        "id": "8OKH7rWDBxL8",
        "colab": {
          "base_uri": "https://localhost:8080/",
          "height": 297
        },
        "outputId": "ddaa5a55-ec8e-4bdb-c87b-f7211527d092"
      },
      "source": [
        "no_kale.describe()"
      ],
      "execution_count": null,
      "outputs": [
        {
          "output_type": "execute_result",
          "data": {
            "text/html": [
              "<div>\n",
              "<style scoped>\n",
              "    .dataframe tbody tr th:only-of-type {\n",
              "        vertical-align: middle;\n",
              "    }\n",
              "\n",
              "    .dataframe tbody tr th {\n",
              "        vertical-align: top;\n",
              "    }\n",
              "\n",
              "    .dataframe thead th {\n",
              "        text-align: right;\n",
              "    }\n",
              "</style>\n",
              "<table border=\"1\" class=\"dataframe\">\n",
              "  <thead>\n",
              "    <tr style=\"text-align: right;\">\n",
              "      <th></th>\n",
              "      <th>Income</th>\n",
              "      <th>Age</th>\n",
              "    </tr>\n",
              "  </thead>\n",
              "  <tbody>\n",
              "    <tr>\n",
              "      <th>count</th>\n",
              "      <td>151.000000</td>\n",
              "      <td>151.000000</td>\n",
              "    </tr>\n",
              "    <tr>\n",
              "      <th>mean</th>\n",
              "      <td>57079.470199</td>\n",
              "      <td>47.172185</td>\n",
              "    </tr>\n",
              "    <tr>\n",
              "      <th>std</th>\n",
              "      <td>49483.266287</td>\n",
              "      <td>15.915930</td>\n",
              "    </tr>\n",
              "    <tr>\n",
              "      <th>min</th>\n",
              "      <td>5000.000000</td>\n",
              "      <td>18.000000</td>\n",
              "    </tr>\n",
              "    <tr>\n",
              "      <th>25%</th>\n",
              "      <td>23500.000000</td>\n",
              "      <td>35.000000</td>\n",
              "    </tr>\n",
              "    <tr>\n",
              "      <th>50%</th>\n",
              "      <td>42000.000000</td>\n",
              "      <td>43.000000</td>\n",
              "    </tr>\n",
              "    <tr>\n",
              "      <th>75%</th>\n",
              "      <td>77000.000000</td>\n",
              "      <td>59.000000</td>\n",
              "    </tr>\n",
              "    <tr>\n",
              "      <th>max</th>\n",
              "      <td>264000.000000</td>\n",
              "      <td>90.000000</td>\n",
              "    </tr>\n",
              "  </tbody>\n",
              "</table>\n",
              "</div>"
            ],
            "text/plain": [
              "              Income         Age\n",
              "count     151.000000  151.000000\n",
              "mean    57079.470199   47.172185\n",
              "std     49483.266287   15.915930\n",
              "min      5000.000000   18.000000\n",
              "25%     23500.000000   35.000000\n",
              "50%     42000.000000   43.000000\n",
              "75%     77000.000000   59.000000\n",
              "max    264000.000000   90.000000"
            ]
          },
          "metadata": {
            "tags": []
          },
          "execution_count": 130
        }
      ]
    },
    {
      "cell_type": "markdown",
      "metadata": {
        "id": "o_REQqVhB2L0"
      },
      "source": [
        "A closer to equal amount of people here have or haven't eaten a kale salad, and upon intial inspection, the mean income for those who have eaten a kale salad is much higher. I'm interested to see what this data shows."
      ]
    },
    {
      "cell_type": "markdown",
      "metadata": {
        "id": "YV_UDiS0Sh1X"
      },
      "source": [
        "#### **Income**"
      ]
    },
    {
      "cell_type": "code",
      "metadata": {
        "id": "aNKfCTkiuPbL",
        "colab": {
          "base_uri": "https://localhost:8080/",
          "height": 355
        },
        "outputId": "a602f950-e9a0-46dc-dd91-7aece66a2b35"
      },
      "source": [
        "plt.figure(figsize=(11,5))\n",
        "plt.hist(yes_kale['Income'], alpha = .5)\n",
        "plt.hist(no_kale['Income'], alpha = .5)\n",
        "plt.xlabel('Income')\n",
        "plt.title('Income Distributions for Those Who Have Eaten a Kale Salad vs. Those Who Have Not')\n",
        "plt.show()"
      ],
      "execution_count": null,
      "outputs": [
        {
          "output_type": "display_data",
          "data": {
            "image/png": "[encoded data removed]",
            "text/plain": [
              "<Figure size 792x360 with 1 Axes>"
            ]
          },
          "metadata": {
            "tags": [],
            "needs_background": "light"
          }
        }
      ]
    },
    {
      "cell_type": "code",
      "metadata": {
        "id": "BX0kUUC-CBAm",
        "colab": {
          "base_uri": "https://localhost:8080/",
          "height": 590
        },
        "outputId": "b5b92e61-a5cd-4209-89b9-d6a17a151a5d"
      },
      "source": [
        "plt.figure(figsize=(11,9))\n",
        "sns.boxplot(y = 'Income', x = pulse_select_data['Have you ever eaten a kale salad?'], data = pulse_select_data)\n",
        "plt.title('Differences in Income for Those Who Have Eaten a Kale Salad and Those Who Have Not')"
      ],
      "execution_count": null,
      "outputs": [
        {
          "output_type": "execute_result",
          "data": {
            "text/plain": [
              "Text(0.5, 1.0, 'Differences in Income for Those Who Have Eaten a Kale Salad and Those Who Have Not')"
            ]
          },
          "metadata": {
            "tags": []
          },
          "execution_count": 132
        },
        {
          "output_type": "display_data",
          "data": {
            "image/png": "[encoded data removed]",
            "text/plain": [
              "<Figure size 792x648 with 1 Axes>"
            ]
          },
          "metadata": {
            "tags": [],
            "needs_background": "light"
          }
        }
      ]
    },
    {
      "cell_type": "markdown",
      "metadata": {
        "id": "2anpry2vCI9q"
      },
      "source": [
        "This boxplot clearly shows initially that those who have eaten a kale salad have a much higher median and max income than those who hae not, although there are outliers for income for not having eaten one, and the minimum income in either case is about the same. So it does appear that income may be a determining factor in whether someone has eaten a kale salad or not, but not the only factor. "
      ]
    },
    {
      "cell_type": "markdown",
      "metadata": {
        "id": "Kv2q2bBpXJbu"
      },
      "source": [
        "It's clear that these distributions are non-normal."
      ]
    },
    {
      "cell_type": "markdown",
      "metadata": {
        "id": "PDocVTkrUusS"
      },
      "source": [
        "**Kruskal-Wallis and Median Test**"
      ]
    },
    {
      "cell_type": "code",
      "metadata": {
        "id": "4YA-goPfU0IS",
        "colab": {
          "base_uri": "https://localhost:8080/"
        },
        "outputId": "3a10e88d-dab6-431d-e7df-26832ab9fc5e"
      },
      "source": [
        "stats.kruskal(yes_kale['Income'],no_kale['Income'])"
      ],
      "execution_count": null,
      "outputs": [
        {
          "output_type": "execute_result",
          "data": {
            "text/plain": [
              "KruskalResult(statistic=25.573147021650993, pvalue=4.2592574854651e-07)"
            ]
          },
          "metadata": {
            "tags": []
          },
          "execution_count": 133
        }
      ]
    },
    {
      "cell_type": "markdown",
      "metadata": {
        "id": "94IpLwk7XNMn"
      },
      "source": [
        "Our Test Statistic is the highest its been yet, and our p-value the lowest its been yet. Let's Apply a Median Test as well. "
      ]
    },
    {
      "cell_type": "code",
      "metadata": {
        "id": "9Sr1Y66MU7Od",
        "colab": {
          "base_uri": "https://localhost:8080/"
        },
        "outputId": "fb824ef7-b705-41ea-ad72-6dc7c85c6626"
      },
      "source": [
        "stats.median_test(yes_kale['Income'],no_kale['Income'])"
      ],
      "execution_count": null,
      "outputs": [
        {
          "output_type": "execute_result",
          "data": {
            "text/plain": [
              "(24.03922085030183, 9.439320754828844e-07, 55000.0, array([[89, 54],\n",
              "        [47, 97]]))"
            ]
          },
          "metadata": {
            "tags": []
          },
          "execution_count": 134
        }
      ]
    },
    {
      "cell_type": "markdown",
      "metadata": {
        "id": "r4YUBsC2XS54"
      },
      "source": [
        "Indeed, here as well, our p-value is extremely low."
      ]
    },
    {
      "cell_type": "code",
      "metadata": {
        "id": "gGytF33eVBOT",
        "colab": {
          "base_uri": "https://localhost:8080/"
        },
        "outputId": "0993258a-ae26-459a-8196-d0d31f2ce004"
      },
      "source": [
        "print(f\"The median income for those who have eaten a kale salad is ${statistics.median(yes_kale['Income'])}0\")\n",
        "print(f\"The median income for those who have not eaten a kale salad is ${statistics.median(no_kale['Income'])}0\")"
      ],
      "execution_count": null,
      "outputs": [
        {
          "output_type": "stream",
          "text": [
            "The median income for those who have eaten a kale salad is $79500.00\n",
            "The median income for those who have not eaten a kale salad is $42000.00\n"
          ],
          "name": "stdout"
        }
      ]
    },
    {
      "cell_type": "markdown",
      "metadata": {
        "id": "r7nUeI0xXtmH"
      },
      "source": [
        "Interestingly enough, of all the analysis, having eaten a kale salad demonstrates the largest difference in income yet.\n",
        "\n",
        "**We can therefore reject the null hypothesis that there is no difference in income between those who have eaten a kale salad and those who have not. We can refer to our alternative hypothesis that there is a difference, and a fairly large one at that. Those who have eaten a kale salad have a much higher median income than those who have not eaten a kale salad.**"
      ]
    },
    {
      "cell_type": "markdown",
      "metadata": {
        "id": "CuaixaplVKS5"
      },
      "source": [
        "#### **Age**"
      ]
    },
    {
      "cell_type": "code",
      "metadata": {
        "id": "SZcOjpNQwkFX",
        "colab": {
          "base_uri": "https://localhost:8080/",
          "height": 355
        },
        "outputId": "4822da40-9a8f-4801-c5e2-e6ba9140dbb2"
      },
      "source": [
        "plt.figure(figsize=(11,5))\n",
        "plt.hist(yes_kale['Age'], alpha = .5)\n",
        "plt.hist(no_kale['Age'], alpha = .5)\n",
        "plt.xlabel('Age')\n",
        "plt.title('Age Distributions for Those Who Have Eaten a Kale Salad vs. Those Who Have Not')\n",
        "plt.show()"
      ],
      "execution_count": null,
      "outputs": [
        {
          "output_type": "display_data",
          "data": {
            "image/png": "[encoded data removed]",
            "text/plain": [
              "<Figure size 792x360 with 1 Axes>"
            ]
          },
          "metadata": {
            "tags": [],
            "needs_background": "light"
          }
        }
      ]
    },
    {
      "cell_type": "code",
      "metadata": {
        "id": "thALbcIXDO3L",
        "colab": {
          "base_uri": "https://localhost:8080/",
          "height": 590
        },
        "outputId": "167a9f8b-9521-4d1c-e346-89d7377dc977"
      },
      "source": [
        "plt.figure(figsize=(11,9))\n",
        "sns.boxplot(y = 'Age', x = pulse_select_data['Have you ever eaten a kale salad?'], data = pulse_select_data)\n",
        "plt.title('Differences in Age for Those Who Have Eaten a Kale Salad and Those Who Have Not')"
      ],
      "execution_count": null,
      "outputs": [
        {
          "output_type": "execute_result",
          "data": {
            "text/plain": [
              "Text(0.5, 1.0, 'Differences in Age for Those Who Have Eaten a Kale Salad and Those Who Have Not')"
            ]
          },
          "metadata": {
            "tags": []
          },
          "execution_count": 137
        },
        {
          "output_type": "display_data",
          "data": {
            "image/png": "[encoded data removed]",
            "text/plain": [
              "<Figure size 792x648 with 1 Axes>"
            ]
          },
          "metadata": {
            "tags": [],
            "needs_background": "light"
          }
        }
      ]
    },
    {
      "cell_type": "markdown",
      "metadata": {
        "id": "7uEFkWVTWsFc"
      },
      "source": [
        "Testing for Normality:"
      ]
    },
    {
      "cell_type": "code",
      "metadata": {
        "id": "welIlW6nVjIC",
        "colab": {
          "base_uri": "https://localhost:8080/"
        },
        "outputId": "2d900058-4131-4e63-cd98-7980aad4dba7"
      },
      "source": [
        "print(stats.describe(yes_kale['Age']))\n",
        "print(stats.describe(no_kale['Age']))"
      ],
      "execution_count": null,
      "outputs": [
        {
          "output_type": "stream",
          "text": [
            "DescribeResult(nobs=136, minmax=(18, 99), mean=44.31617647058823, variance=170.32151416122005, skewness=1.2041217279726417, kurtosis=2.051012987575711)\n",
            "DescribeResult(nobs=151, minmax=(18, 90), mean=47.17218543046358, variance=253.31682119205294, skewness=0.5169509329781353, kurtosis=-0.44551074227511256)\n"
          ],
          "name": "stdout"
        }
      ]
    },
    {
      "cell_type": "code",
      "metadata": {
        "id": "kHvZ6KwNVrPz",
        "colab": {
          "base_uri": "https://localhost:8080/"
        },
        "outputId": "68ae8e6e-2bfd-4b51-9ff6-d0804261e822"
      },
      "source": [
        "print(stats.shapiro(yes_kale['Age']))\n",
        "print(stats.shapiro(no_kale['Age']))"
      ],
      "execution_count": null,
      "outputs": [
        {
          "output_type": "stream",
          "text": [
            "(0.8932148814201355, 1.9632045322737213e-08)\n",
            "(0.9545847177505493, 7.584392733406276e-05)\n"
          ],
          "name": "stdout"
        }
      ]
    },
    {
      "cell_type": "markdown",
      "metadata": {
        "id": "xylc9XG-Wt5Z"
      },
      "source": [
        "Based on these p-values, it's clear that thes distributions are non-normal. We'll use a non-parametric test to compare."
      ]
    },
    {
      "cell_type": "markdown",
      "metadata": {
        "id": "zGLK52WAVvkq"
      },
      "source": [
        "**Kruskal-Wallis**"
      ]
    },
    {
      "cell_type": "code",
      "metadata": {
        "id": "9T6hBS5zVxcA",
        "colab": {
          "base_uri": "https://localhost:8080/"
        },
        "outputId": "98d48e57-ee52-4096-a032-00fbe2ff0085"
      },
      "source": [
        "stats.kruskal(yes_kale['Age'],no_kale['Age'])"
      ],
      "execution_count": null,
      "outputs": [
        {
          "output_type": "execute_result",
          "data": {
            "text/plain": [
              "KruskalResult(statistic=1.1750966986509948, pvalue=0.2783564755995678)"
            ]
          },
          "metadata": {
            "tags": []
          },
          "execution_count": 140
        }
      ]
    },
    {
      "cell_type": "markdown",
      "metadata": {
        "id": "tdf8-EXhW2Am"
      },
      "source": [
        "The p-value given by the Kruskal-Wallis Test is much higher than 0.27.\n",
        "\n",
        "**We therefore fail to reject the null hypothesis that there is no difference in age for those who have eaten a kale salad and those who have not.**"
      ]
    },
    {
      "cell_type": "markdown",
      "metadata": {
        "id": "kZJlZxgG_yaU"
      },
      "source": [
        "# Conclusions"
      ]
    },
    {
      "cell_type": "markdown",
      "metadata": {
        "id": "quFkKjPUQ_NO"
      },
      "source": [
        "#### **Most Interesting Results:**"
      ]
    },
    {
      "cell_type": "markdown",
      "metadata": {
        "id": "yH-d2Y_cDrPh"
      },
      "source": [
        "\n",
        "*   **No matter which research question, there is not enough evidence to say that there age will be a determining factor in ones opinion.** \n",
        "\n",
        "*   **Those who believe that all whites in the US are racist have a lower median income (43,500 USD) than those who do not believe all whites in the US are racist (57,000 USD).**\n",
        "    - This may have to do with the fact that a higher percentage of those surveyed who are black or latino believe that most whites in the US are racist, and those identified as white have a statistically significant higher median income (62,500 USD) than those who identified as other than white (40,000 USD).\n",
        "    - Specifically, 28.0% of those who identify as black believe all whites in the US are racist, 29.27% of those who identify as latino believe all whites in the US are racist, while only 12.23% of those who identify as white believe all whites in the US are racist.\n",
        "\n",
        "*   **Those who approve of Trump's handling of his job as president have a higher median income (67,000 USD) than those who disapprove (43,000 USD), although only 33.67% of those surveyed that they approve.**\n",
        "    - This may also be explained by income differences between those who identified as white and those who identified as not white. Only 12.0% of those who identified as black approve, and 14.63% of those who identified as latino approved, while 43.62% of those who identified as whites approved. As those who identify as white have a higher median income, that may inform this difference of income.\n",
        "    - If you self-identify as white in this survey, there doesn't seem to be much of a difference between the median income of those who approve or disapprove, though for whites who Disapprove, there is a much higher upper quartile, indicating that those identified as white of many incomes disapprove, so income is not a determining factor of approval or disapproval if you identify as white.\n",
        "    - For those who identify as black, those who approve have a higher minimum, median, and maximum income than those who dissapprove. So it seems if one self-identifies as black, income may be a determining factor in whether or not you approve or disapprove of Trump's job as president.\n",
        "    - For those who identify as lationo, those who approve have a higher median and much higher maximum and upper quuartile of incomes than those who approve, though a similar minimum income. So again, it seems if one self-identifies as latino, income may be a determining factor in whether or not one approves or disapproves of Trump's job as president. \n",
        "\n",
        "*   **Those who identified as Republican have a higher median income (77,500 USD) than those who identified as not Republican (49,500 USD), with the biggest difference being between those who identify as Republican and those who identify as Independent/Undecided (with a median income of 46,000 USD).**\n",
        "    - There is not much of a difference between median incomes for Republicans who approve and Republicans who disapprove. The same is the case for Democrats.\n",
        "    - For those who are Independent/Undecided however, there does appear to be a statistially significant difference between Income of those who approve of Donald Trump's job as president (65,000 USD) and those who do not (35,000 USD). This is interesting as only 30.0% of those surveyed who are Independent/Undecided actually do say that they approve. \n",
        "\n",
        "*   **Perhaps the most stark differences in income that are statistically significant is in whether or not those surveyed have ever eaten a kale salad. The median income for those who have eaten a kale salad is 79,500 USD, and the median income for those who have not is 42,000 USD.** \n",
        "    - For those who have not eaten a kale salad, there exist outliers with a very high income, and the minimum income in either case is about the same. So it does appear that income may be a determining factor in whether someone has eaten a kale salad or not, but not the only factor. \n",
        "\n",
        "\n",
        "\n",
        "\n",
        "\n",
        "\n",
        "\n",
        "\n"
      ]
    },
    {
      "cell_type": "markdown",
      "metadata": {
        "id": "2TlEzxKxQzu6"
      },
      "source": [
        "#### **So why is all this important?**\n"
      ]
    },
    {
      "cell_type": "markdown",
      "metadata": {
        "id": "robA5oq4Q7Ty"
      },
      "source": [
        "**Funding Choices**\n",
        "First and foremost, anyone who has ever been involved in a political campaign, or really any business in general, knows that the dollars are precious. Inefficient or incorrect funding choices could be the difference between winning an election and not winning an election. Knowing the income of the demographics you are trying to reach and elicit campaign donations from can help inform which groups you focus on in allocating funding, which groups are more likely to engage, and to what messaging. \n",
        "\n",
        "\n",
        "**Campaign Messaging Based on Demographics of Support Groups**\n",
        "\n",
        "This study and others like it can help illuminate which demographics (either divided by race, income, or even kale salad consumption) tend to approve or disapprove of the current president's job in office, one's belief on the racism and the politics surrounding it, which can inform not only which demographics to target and how, but what messaging to instill in those campaign initiatives that will help the campaign better connect with potential voters and speak to the issues that interest them. \n",
        "\n",
        "**The campaign managers and marketing team should review this inforation from their platform of expertise, and conduct their messaging based on the insights provided by this resarch study as well as more research studies to follow**"
      ]
    },
    {
      "cell_type": "markdown",
      "metadata": {
        "id": "JWmh1kOtUOvq"
      },
      "source": [
        "#### **Next Steps**"
      ]
    },
    {
      "cell_type": "markdown",
      "metadata": {
        "id": "tG2FGKyiURlj"
      },
      "source": [
        "The never-ending question: What next? \n",
        "\n",
        "**More data needs to be taken in general, from more people, in more places.** In order to expand this data, by far more and more voters in the US need to be surveyed.\n",
        "\n",
        "**More recent data needs to be taken**. Considering this data is from as far back as October 2017 (now eons, especially in the context of 2020, a global pandemic and the largest civil rights movements the US has seen since the era of Martin Luther King Jr., I'd be curious to see how the ethos of American voters is shifting, most likely in increasingly opposite directions. \n",
        "\n",
        "**More data from higher income earners needs to be taken**. The highest income of those surveyed here is ~400,000 USD, which although it is almost in the 99th percentile of earners in the United States, there are still 19 million people who make much more, and exponentially more, and it'd be interestingto see how that much different of an income changes ones political views. \n",
        "\n",
        "**More culturally minded questions need to be asked**. Questions like \"have you ever eaten a kale salad\" may seem frivolous, but understanding the culture differences between demographics helps to address these demographics more effectively. "
      ]
    },
    {
      "cell_type": "code",
      "metadata": {
        "id": "Mimbi-gDWCY-"
      },
      "source": [
        ""
      ],
      "execution_count": null,
      "outputs": []
    }
  ]
}